{
 "cells": [
  {
   "cell_type": "markdown",
   "metadata": {},
   "source": [
    "# Lab 6: Clustering \n",
    "\n",
    "In this lab, you will gain more experience with clustering. In particular, you will learn how to use two of the most popular clustering algorithms: Hierarchical Clustering and K-Means Clustering. Then, you will be asked to apply this knowledge on a document data set.\n",
    "\n",
    "## Lab 6.A: Clustering Tutorial with Questions (50% of grade)\n",
    "\n",
    "Let us start by importing the needed libraries. We will for the first time use sklearn library, which implements many of the most popular data science algorithms. We will be using this library often for the rest of this course. Please, take a moment to look at the sklearn documentation at: http://scikit-learn.org/stable/."
   ]
  },
  {
   "cell_type": "code",
   "execution_count": 1,
   "metadata": {
    "collapsed": true
   },
   "outputs": [],
   "source": [
    "import numpy as np\n",
    "import matplotlib\n",
    "import matplotlib.pyplot as plt\n",
    "from sklearn import datasets\n",
    "from sklearn.cluster import KMeans\n",
    "from scipy.cluster import hierarchy\n",
    "from pandas import crosstab\n",
    "from pandas.tools.plotting import scatter_matrix\n",
    "import pandas as p\n",
    "%matplotlib inline"
   ]
  },
  {
   "cell_type": "code",
   "execution_count": 2,
   "metadata": {},
   "outputs": [
    {
     "name": "stdout",
     "output_type": "stream",
     "text": [
      "   Up  Down\n",
      "0   1    10\n",
      "1   2     9\n",
      "2   3     8\n",
      "3   4     7\n",
      "4   5     6\n",
      "5   6     5\n",
      "6   7     4\n",
      "7   8     3\n",
      "8   9     2\n",
      "9  10     1\n"
     ]
    }
   ],
   "source": [
    "df = p.DataFrame()\n",
    "df[\"Up\"]=range(1,11)\n",
    "df[\"Down\"]=range(10,0,-1)\n",
    "print (df)"
   ]
  },
  {
   "cell_type": "code",
   "execution_count": 43,
   "metadata": {},
   "outputs": [
    {
     "name": "stdout",
     "output_type": "stream",
     "text": [
      "       y   x Month2\n",
      "0    1.1   2      A\n",
      "1    2.2   3      A\n",
      "2    3.3   4      B\n",
      "3    4.0   5      C\n",
      "4    5.0   6      D\n",
      "5    6.0   7      E\n",
      "6    7.0   8      f\n",
      "7    8.0   9      j\n",
      "8    9.0  11      h\n",
      "9   10.0  12    NaN\n",
      "10  11.0  12    NaN\n",
      "11  12.0  13    NaN\n"
     ]
    },
    {
     "data": {
      "text/html": [
       "<div>\n",
       "<style>\n",
       "    .dataframe thead tr:only-child th {\n",
       "        text-align: right;\n",
       "    }\n",
       "\n",
       "    .dataframe thead th {\n",
       "        text-align: left;\n",
       "    }\n",
       "\n",
       "    .dataframe tbody tr th {\n",
       "        vertical-align: top;\n",
       "    }\n",
       "</style>\n",
       "<table border=\"1\" class=\"dataframe\">\n",
       "  <thead>\n",
       "    <tr style=\"text-align: right;\">\n",
       "      <th>y</th>\n",
       "      <th>1.1</th>\n",
       "      <th>2.2</th>\n",
       "      <th>3.3</th>\n",
       "      <th>4.0</th>\n",
       "      <th>5.0</th>\n",
       "      <th>6.0</th>\n",
       "      <th>7.0</th>\n",
       "      <th>8.0</th>\n",
       "      <th>9.0</th>\n",
       "      <th>10.0</th>\n",
       "      <th>11.0</th>\n",
       "      <th>12.0</th>\n",
       "    </tr>\n",
       "    <tr>\n",
       "      <th>x</th>\n",
       "      <th></th>\n",
       "      <th></th>\n",
       "      <th></th>\n",
       "      <th></th>\n",
       "      <th></th>\n",
       "      <th></th>\n",
       "      <th></th>\n",
       "      <th></th>\n",
       "      <th></th>\n",
       "      <th></th>\n",
       "      <th></th>\n",
       "      <th></th>\n",
       "    </tr>\n",
       "  </thead>\n",
       "  <tbody>\n",
       "    <tr>\n",
       "      <th>2</th>\n",
       "      <td>1</td>\n",
       "      <td>0</td>\n",
       "      <td>0</td>\n",
       "      <td>0</td>\n",
       "      <td>0</td>\n",
       "      <td>0</td>\n",
       "      <td>0</td>\n",
       "      <td>0</td>\n",
       "      <td>0</td>\n",
       "      <td>0</td>\n",
       "      <td>0</td>\n",
       "      <td>0</td>\n",
       "    </tr>\n",
       "    <tr>\n",
       "      <th>3</th>\n",
       "      <td>0</td>\n",
       "      <td>1</td>\n",
       "      <td>0</td>\n",
       "      <td>0</td>\n",
       "      <td>0</td>\n",
       "      <td>0</td>\n",
       "      <td>0</td>\n",
       "      <td>0</td>\n",
       "      <td>0</td>\n",
       "      <td>0</td>\n",
       "      <td>0</td>\n",
       "      <td>0</td>\n",
       "    </tr>\n",
       "    <tr>\n",
       "      <th>4</th>\n",
       "      <td>0</td>\n",
       "      <td>0</td>\n",
       "      <td>1</td>\n",
       "      <td>0</td>\n",
       "      <td>0</td>\n",
       "      <td>0</td>\n",
       "      <td>0</td>\n",
       "      <td>0</td>\n",
       "      <td>0</td>\n",
       "      <td>0</td>\n",
       "      <td>0</td>\n",
       "      <td>0</td>\n",
       "    </tr>\n",
       "    <tr>\n",
       "      <th>5</th>\n",
       "      <td>0</td>\n",
       "      <td>0</td>\n",
       "      <td>0</td>\n",
       "      <td>1</td>\n",
       "      <td>0</td>\n",
       "      <td>0</td>\n",
       "      <td>0</td>\n",
       "      <td>0</td>\n",
       "      <td>0</td>\n",
       "      <td>0</td>\n",
       "      <td>0</td>\n",
       "      <td>0</td>\n",
       "    </tr>\n",
       "    <tr>\n",
       "      <th>6</th>\n",
       "      <td>0</td>\n",
       "      <td>0</td>\n",
       "      <td>0</td>\n",
       "      <td>0</td>\n",
       "      <td>1</td>\n",
       "      <td>0</td>\n",
       "      <td>0</td>\n",
       "      <td>0</td>\n",
       "      <td>0</td>\n",
       "      <td>0</td>\n",
       "      <td>0</td>\n",
       "      <td>0</td>\n",
       "    </tr>\n",
       "    <tr>\n",
       "      <th>7</th>\n",
       "      <td>0</td>\n",
       "      <td>0</td>\n",
       "      <td>0</td>\n",
       "      <td>0</td>\n",
       "      <td>0</td>\n",
       "      <td>1</td>\n",
       "      <td>0</td>\n",
       "      <td>0</td>\n",
       "      <td>0</td>\n",
       "      <td>0</td>\n",
       "      <td>0</td>\n",
       "      <td>0</td>\n",
       "    </tr>\n",
       "    <tr>\n",
       "      <th>8</th>\n",
       "      <td>0</td>\n",
       "      <td>0</td>\n",
       "      <td>0</td>\n",
       "      <td>0</td>\n",
       "      <td>0</td>\n",
       "      <td>0</td>\n",
       "      <td>1</td>\n",
       "      <td>0</td>\n",
       "      <td>0</td>\n",
       "      <td>0</td>\n",
       "      <td>0</td>\n",
       "      <td>0</td>\n",
       "    </tr>\n",
       "    <tr>\n",
       "      <th>9</th>\n",
       "      <td>0</td>\n",
       "      <td>0</td>\n",
       "      <td>0</td>\n",
       "      <td>0</td>\n",
       "      <td>0</td>\n",
       "      <td>0</td>\n",
       "      <td>0</td>\n",
       "      <td>1</td>\n",
       "      <td>0</td>\n",
       "      <td>0</td>\n",
       "      <td>0</td>\n",
       "      <td>0</td>\n",
       "    </tr>\n",
       "    <tr>\n",
       "      <th>11</th>\n",
       "      <td>0</td>\n",
       "      <td>0</td>\n",
       "      <td>0</td>\n",
       "      <td>0</td>\n",
       "      <td>0</td>\n",
       "      <td>0</td>\n",
       "      <td>0</td>\n",
       "      <td>0</td>\n",
       "      <td>1</td>\n",
       "      <td>0</td>\n",
       "      <td>0</td>\n",
       "      <td>0</td>\n",
       "    </tr>\n",
       "    <tr>\n",
       "      <th>12</th>\n",
       "      <td>0</td>\n",
       "      <td>0</td>\n",
       "      <td>0</td>\n",
       "      <td>0</td>\n",
       "      <td>0</td>\n",
       "      <td>0</td>\n",
       "      <td>0</td>\n",
       "      <td>0</td>\n",
       "      <td>0</td>\n",
       "      <td>1</td>\n",
       "      <td>1</td>\n",
       "      <td>0</td>\n",
       "    </tr>\n",
       "    <tr>\n",
       "      <th>13</th>\n",
       "      <td>0</td>\n",
       "      <td>0</td>\n",
       "      <td>0</td>\n",
       "      <td>0</td>\n",
       "      <td>0</td>\n",
       "      <td>0</td>\n",
       "      <td>0</td>\n",
       "      <td>0</td>\n",
       "      <td>0</td>\n",
       "      <td>0</td>\n",
       "      <td>0</td>\n",
       "      <td>1</td>\n",
       "    </tr>\n",
       "  </tbody>\n",
       "</table>\n",
       "</div>"
      ],
      "text/plain": [
       "y   1.1   2.2   3.3   4.0   5.0   6.0   7.0   8.0   9.0   10.0  11.0  12.0\n",
       "x                                                                         \n",
       "2      1     0     0     0     0     0     0     0     0     0     0     0\n",
       "3      0     1     0     0     0     0     0     0     0     0     0     0\n",
       "4      0     0     1     0     0     0     0     0     0     0     0     0\n",
       "5      0     0     0     1     0     0     0     0     0     0     0     0\n",
       "6      0     0     0     0     1     0     0     0     0     0     0     0\n",
       "7      0     0     0     0     0     1     0     0     0     0     0     0\n",
       "8      0     0     0     0     0     0     1     0     0     0     0     0\n",
       "9      0     0     0     0     0     0     0     1     0     0     0     0\n",
       "11     0     0     0     0     0     0     0     0     1     0     0     0\n",
       "12     0     0     0     0     0     0     0     0     0     1     1     0\n",
       "13     0     0     0     0     0     0     0     0     0     0     0     1"
      ]
     },
     "execution_count": 43,
     "metadata": {},
     "output_type": "execute_result"
    }
   ],
   "source": [
    "df=p.DataFrame()\n",
    "df[\"y\"]=[1.1,2.2,3.3,4,5,6,7,8,9,10,11,12]\n",
    "df[\"x\"]=[2,3,4,5,6,7,8,9,11,12,12,13]\n",
    "df[\"Month2\"] = p.Series(['A', \"A\",'B', 'C', 'D', 'E', 'f', 'j', 'h'])\n",
    "print (df)\n",
    "#df[\"Month2\"].unique()\n",
    "#df[\"Month\"].mean()\n",
    "p.crosstab(df[\"x\"],df[\"y\"])"
   ]
  },
  {
   "cell_type": "markdown",
   "metadata": {},
   "source": [
    "Let us load the Iris data set and plot a scatter plot of the 2nd and 3rd attributes."
   ]
  },
  {
   "cell_type": "code",
   "execution_count": 74,
   "metadata": {},
   "outputs": [
    {
     "data": {
      "image/png": "[encoded data removed]",
      "text/plain": [
       "<matplotlib.figure.Figure at 0x1a1f5c0e80>"
      ]
     },
     "metadata": {},
     "output_type": "display_data"
    }
   ],
   "source": [
    "iris = datasets.load_iris()\n",
    "d = iris.data\n",
    "y = iris.target\n",
    "plt.scatter(d[:,1],d[:,2],facecolors='none',color='blue')\n",
    "plt.axis('equal');"
   ]
  },
  {
   "cell_type": "markdown",
   "metadata": {},
   "source": [
    "## Hierarchical Clustering\n",
    "Let us run the **hierarchical clustering** on the 2 columns of Iris. We will use only the first 20 rows. We'll call this new data set `dnew`."
   ]
  },
  {
   "cell_type": "code",
   "execution_count": 75,
   "metadata": {
    "collapsed": true
   },
   "outputs": [],
   "source": [
    "A=range(0,20)#number of row\n",
    "dnew = d[A,1:3]#row 0 to 20, #column 1 to 3"
   ]
  },
  {
   "cell_type": "code",
   "execution_count": 76,
   "metadata": {
    "collapsed": true
   },
   "outputs": [],
   "source": [
    "# Build a dendrogram using single-linkage clustering and Euclidean distance\n",
    "Z = hierarchy.linkage(dnew,method = 'single', metric = 'euclidean')\n",
    "# Picks 2 clusters\n",
    "cl = hierarchy.fcluster(Z, 2, criterion='maxclust')"
   ]
  },
  {
   "cell_type": "markdown",
   "metadata": {},
   "source": [
    "Let us now plot the dendrogram. "
   ]
  },
  {
   "cell_type": "code",
   "execution_count": 77,
   "metadata": {},
   "outputs": [
    {
     "data": {
      "image/png": "[encoded data removed]",
      "text/plain": [
       "<matplotlib.figure.Figure at 0x1179a9470>"
      ]
     },
     "metadata": {},
     "output_type": "display_data"
    }
   ],
   "source": [
    "plt.figure(figsize = (15,4))\n",
    "hierarchy.dendrogram(Z);"
   ]
  },
  {
   "cell_type": "markdown",
   "metadata": {},
   "source": [
    "And, let us see the outcome of clustering"
   ]
  },
  {
   "cell_type": "code",
   "execution_count": 78,
   "metadata": {},
   "outputs": [
    {
     "data": {
      "image/png": "[encoded data removed]",
      "text/plain": [
       "<matplotlib.figure.Figure at 0x1a1f300a20>"
      ]
     },
     "metadata": {},
     "output_type": "display_data"
    }
   ],
   "source": [
    "plt.figure()\n",
    "colors=['red','blue']\n",
    "plt.scatter(dnew[A,0],dnew[A,1],c=cl, cmap=matplotlib.colors.ListedColormap(colors),s=100,facecolors='none')\n",
    "for i in A:\n",
    "    plt.text(dnew[i,0],dnew[i,1]+0.01,s=str(i),size=10)"
   ]
  },
  {
   "cell_type": "markdown",
   "metadata": {},
   "source": [
    "**Question 1**: Let us play with the clustering options\n",
    "- Make 3 clusters. Discuss the result\n",
    "- Use several different methods, other than 'single'. Try 'average' and one more of your choice. Discuss the result.\n",
    "- Use a metric other than 'Eucliedean'. Discuss the result."
   ]
  },
  {
   "cell_type": "markdown",
   "metadata": {},
   "source": [
    "**Answer 1**"
   ]
  },
  {
   "cell_type": "code",
   "execution_count": 79,
   "metadata": {},
   "outputs": [
    {
     "data": {
      "image/png": "[encoded data removed]",
      "text/plain": [
       "<matplotlib.figure.Figure at 0x1a1f398080>"
      ]
     },
     "metadata": {},
     "output_type": "display_data"
    }
   ],
   "source": [
    "# Make 3 clusters. Discuss the result\n",
    "cl = hierarchy.fcluster(Z, 3, criterion='maxclust')\n",
    "plt.figure()\n",
    "colors=['red','blue','green']\n",
    "plt.scatter(dnew[A,0],dnew[A,1],c=cl, cmap=matplotlib.colors.ListedColormap(colors),s=100,facecolors='none')\n",
    "for i in A:\n",
    "    plt.text(dnew[i,0],dnew[i,1]+0.01,s=str(i),size=10)"
   ]
  },
  {
   "cell_type": "markdown",
   "metadata": {},
   "source": [
    "- With 3 clusters, I can see that one dot had change color to blue. This point seem to have the futherest distance from the rest of other dots. "
   ]
  },
  {
   "cell_type": "code",
   "execution_count": 80,
   "metadata": {},
   "outputs": [
    {
     "data": {
      "text/plain": [
       "<matplotlib.collections.PathCollection at 0x1a1f2cd4e0>"
      ]
     },
     "execution_count": 80,
     "metadata": {},
     "output_type": "execute_result"
    },
    {
     "data": {
      "image/png": "[encoded data removed]",
      "text/plain": [
       "<matplotlib.figure.Figure at 0x1a1f443470>"
      ]
     },
     "metadata": {},
     "output_type": "display_data"
    }
   ],
   "source": [
    "#Use several different methods, other than 'single'. Try 'average' and one more of your choice. Discuss the result.\n",
    "# Build a dendrogram using single-linkage clustering and Euclidean distance\n",
    "Z = hierarchy.linkage(dnew,method = 'average', metric = 'euclidean')\n",
    "# Picks 2 clusters\n",
    "cl = hierarchy.fcluster(Z, 3, criterion='maxclust')\n",
    "plt.figure()\n",
    "colors=['red','blue','green']\n",
    "plt.scatter(dnew[A,0],dnew[A,1],c=cl, cmap=matplotlib.colors.ListedColormap(colors),s=100,facecolors='none')"
   ]
  },
  {
   "cell_type": "code",
   "execution_count": 81,
   "metadata": {},
   "outputs": [
    {
     "data": {
      "text/plain": [
       "<matplotlib.collections.PathCollection at 0x1a1f410908>"
      ]
     },
     "execution_count": 81,
     "metadata": {},
     "output_type": "execute_result"
    },
    {
     "data": {
      "image/png": "[encoded data removed]",
      "text/plain": [
       "<matplotlib.figure.Figure at 0x1a1f5bc588>"
      ]
     },
     "metadata": {},
     "output_type": "display_data"
    }
   ],
   "source": [
    "#Use several different methods: one more of your choice. Discuss the result.\n",
    "# Build a dendrogram using single-linkage clustering and Euclidean distance\n",
    "Z = hierarchy.linkage(dnew,method = 'complete', metric = 'euclidean')\n",
    "# Picks 2 clusters\n",
    "cl = hierarchy.fcluster(Z, 3, criterion='maxclust')\n",
    "plt.figure()\n",
    "colors=['red','blue','green']\n",
    "plt.scatter(dnew[A,0],dnew[A,1],c=cl, cmap=matplotlib.colors.ListedColormap(colors),s=100,facecolors='none')"
   ]
  },
  {
   "cell_type": "markdown",
   "metadata": {},
   "source": [
    "- Average and Complete. Complete is different from single. Single uses Nearest Point Algorithm. Complete used the the Farthest Point Algorithm or Voor Hees Algorithm. Average uses UPGMA algorithm. I think averge is the best one out of three because it gave me 3 good size of clusters as hypothesis.  "
   ]
  },
  {
   "cell_type": "code",
   "execution_count": 82,
   "metadata": {},
   "outputs": [
    {
     "data": {
      "image/png": "[encoded data removed]",
      "text/plain": [
       "<matplotlib.figure.Figure at 0x1a1f405080>"
      ]
     },
     "metadata": {},
     "output_type": "display_data"
    }
   ],
   "source": [
    "#Use a metric other than 'Eucliedean'. Discuss the result\n",
    "Z = hierarchy.linkage(dnew,method = 'single', metric = 'cosine')\n",
    "# Picks 2 clusters\n",
    "cl = hierarchy.fcluster(Z, 2, criterion='maxclust')\n",
    "plt.figure()\n",
    "colors=['red','blue']\n",
    "plt.scatter(dnew[A,0],dnew[A,1],c=cl, cmap=matplotlib.colors.ListedColormap(colors),s=100,facecolors='none')\n",
    "for i in A:\n",
    "    plt.text(dnew[i,0],dnew[i,1]+0.01,s=str(i),size=10)"
   ]
  },
  {
   "cell_type": "markdown",
   "metadata": {},
   "source": [
    "- Cosine is the distance metric to use. In the case cosine"
   ]
  },
  {
   "cell_type": "markdown",
   "metadata": {},
   "source": [
    "**Question 2**. Run the clustering on the whole Iris data set, using only 2nd and 3rd columns. Plot the results. Try to figure out which is the best number of clusters."
   ]
  },
  {
   "cell_type": "code",
   "execution_count": 83,
   "metadata": {
    "collapsed": true
   },
   "outputs": [],
   "source": [
    "AWhole=range(0,d.shape[0])\n",
    "dnewWhole = d[AWhole,1:3]#all row, #column 2 to 3\n",
    "# Build a dendrogram using single-linkage clustering and Euclidean distance\n",
    "Z = hierarchy.linkage(dnewWhole,method = 'average', metric = 'euclidean')\n",
    "# Picks 4 clusters\n",
    "cl = hierarchy.fcluster(Z, 3, criterion='maxclust')"
   ]
  },
  {
   "cell_type": "code",
   "execution_count": 84,
   "metadata": {},
   "outputs": [
    {
     "data": {
      "image/png": "[encoded data removed]",
      "text/plain": [
       "<matplotlib.figure.Figure at 0x1a1f574908>"
      ]
     },
     "metadata": {},
     "output_type": "display_data"
    }
   ],
   "source": [
    "plt.figure(figsize = (15,4))\n",
    "hierarchy.dendrogram(Z);"
   ]
  },
  {
   "cell_type": "code",
   "execution_count": 85,
   "metadata": {},
   "outputs": [
    {
     "data": {
      "image/png": "[encoded data removed]",
      "text/plain": [
       "<matplotlib.figure.Figure at 0x1a1f5bc1d0>"
      ]
     },
     "metadata": {},
     "output_type": "display_data"
    }
   ],
   "source": [
    "plt.figure()\n",
    "colors=['green','red','blue']\n",
    "plt.scatter(dnewWhole[:,0],dnewWhole[:,1],c=cl, cmap=matplotlib.colors.ListedColormap(colors),s=100,facecolors='none')\n",
    "for i in AWhole:\n",
    "    plt.text(dnewWhole[i,0],dnewWhole[i,1]+0.01,s=str(i),size=8)"
   ]
  },
  {
   "cell_type": "markdown",
   "metadata": {},
   "source": [
    "- I think the best clsuter is 3 because it gave us 3 good size clusters. "
   ]
  },
  {
   "cell_type": "markdown",
   "metadata": {},
   "source": [
    "Each of the 150 flowers in Iris data set is labeled as one of 3 types of Irises. This information is in your variable `y`. Let us look at the cross-tabulation between the found clusters and the type of a flower:"
   ]
  },
  {
   "cell_type": "code",
   "execution_count": 86,
   "metadata": {},
   "outputs": [
    {
     "data": {
      "text/html": [
       "<div>\n",
       "<style>\n",
       "    .dataframe thead tr:only-child th {\n",
       "        text-align: right;\n",
       "    }\n",
       "\n",
       "    .dataframe thead th {\n",
       "        text-align: left;\n",
       "    }\n",
       "\n",
       "    .dataframe tbody tr th {\n",
       "        vertical-align: top;\n",
       "    }\n",
       "</style>\n",
       "<table border=\"1\" class=\"dataframe\">\n",
       "  <thead>\n",
       "    <tr style=\"text-align: right;\">\n",
       "      <th>y</th>\n",
       "      <th>0</th>\n",
       "      <th>1</th>\n",
       "      <th>2</th>\n",
       "    </tr>\n",
       "    <tr>\n",
       "      <th>cl</th>\n",
       "      <th></th>\n",
       "      <th></th>\n",
       "      <th></th>\n",
       "    </tr>\n",
       "  </thead>\n",
       "  <tbody>\n",
       "    <tr>\n",
       "      <th>1</th>\n",
       "      <td>50</td>\n",
       "      <td>0</td>\n",
       "      <td>0</td>\n",
       "    </tr>\n",
       "    <tr>\n",
       "      <th>2</th>\n",
       "      <td>0</td>\n",
       "      <td>50</td>\n",
       "      <td>50</td>\n",
       "    </tr>\n",
       "  </tbody>\n",
       "</table>\n",
       "</div>"
      ],
      "text/plain": [
       "y    0   1   2\n",
       "cl            \n",
       "1   50   0   0\n",
       "2    0  50  50"
      ]
     },
     "execution_count": 86,
     "metadata": {},
     "output_type": "execute_result"
    }
   ],
   "source": [
    "dnew = d[:,1:3]#column 2 and 3\n",
    "# Build a dendrogram using single-linkage clustering and Euclidean distance\n",
    "Z = hierarchy.linkage(dnew,method = 'average', metric = 'euclidean')\n",
    "# Picks 2 clusters\n",
    "cl = hierarchy.fcluster(Z,2, criterion='maxclust')\n",
    "crosstab(cl, y, rownames=['cl'], colnames=['y'])"
   ]
  },
  {
   "cell_type": "markdown",
   "metadata": {},
   "source": [
    "**Question 3**. Discuss the cross-tabulation result. Do you think clustering did a good job?"
   ]
  },
  {
   "cell_type": "markdown",
   "metadata": {},
   "source": [
    "**Answer 3:** No. Because the crosstab chose 2 clusters in irises in column 2 and 3. However, flower index 1 and 2 and fall in the same cluster. I would pick 3 cluster instead."
   ]
  },
  {
   "cell_type": "markdown",
   "metadata": {},
   "source": [
    "\n",
    "**Question 4**. Repeat the clustering, but this time find 3 clusters. Chack the cross-tabulate and discuss if you are happy with the result. Try with 4 and 5 clusters.\n",
    "\n"
   ]
  },
  {
   "cell_type": "markdown",
   "metadata": {},
   "source": [
    "**Answer 4** I am happy with result. It showed me which type of flowers are in each clusters As I see 2 or 3 clusters is the perfect choice because the data is solid fit to each clusters. With 3 clusters choice, we can see it exactly like 2 clusters but have 1 data form their own cluster"
   ]
  },
  {
   "cell_type": "code",
   "execution_count": 87,
   "metadata": {},
   "outputs": [
    {
     "data": {
      "text/html": [
       "<div>\n",
       "<style>\n",
       "    .dataframe thead tr:only-child th {\n",
       "        text-align: right;\n",
       "    }\n",
       "\n",
       "    .dataframe thead th {\n",
       "        text-align: left;\n",
       "    }\n",
       "\n",
       "    .dataframe tbody tr th {\n",
       "        vertical-align: top;\n",
       "    }\n",
       "</style>\n",
       "<table border=\"1\" class=\"dataframe\">\n",
       "  <thead>\n",
       "    <tr style=\"text-align: right;\">\n",
       "      <th>y</th>\n",
       "      <th>0</th>\n",
       "      <th>1</th>\n",
       "      <th>2</th>\n",
       "    </tr>\n",
       "    <tr>\n",
       "      <th>cl</th>\n",
       "      <th></th>\n",
       "      <th></th>\n",
       "      <th></th>\n",
       "    </tr>\n",
       "  </thead>\n",
       "  <tbody>\n",
       "    <tr>\n",
       "      <th>1</th>\n",
       "      <td>50</td>\n",
       "      <td>0</td>\n",
       "      <td>0</td>\n",
       "    </tr>\n",
       "    <tr>\n",
       "      <th>2</th>\n",
       "      <td>0</td>\n",
       "      <td>0</td>\n",
       "      <td>31</td>\n",
       "    </tr>\n",
       "    <tr>\n",
       "      <th>3</th>\n",
       "      <td>0</td>\n",
       "      <td>50</td>\n",
       "      <td>19</td>\n",
       "    </tr>\n",
       "  </tbody>\n",
       "</table>\n",
       "</div>"
      ],
      "text/plain": [
       "y    0   1   2\n",
       "cl            \n",
       "1   50   0   0\n",
       "2    0   0  31\n",
       "3    0  50  19"
      ]
     },
     "execution_count": 87,
     "metadata": {},
     "output_type": "execute_result"
    }
   ],
   "source": [
    "# Picks 3 clusters\n",
    "cl = hierarchy.fcluster(Z,3, criterion='maxclust')\n",
    "crosstab(cl, y, rownames=['cl'], colnames=['y'])"
   ]
  },
  {
   "cell_type": "code",
   "execution_count": 88,
   "metadata": {
    "collapsed": true
   },
   "outputs": [],
   "source": [
    "AWhole=range(0,d.shape[0])\n",
    "dnewWhole = d[:,1:3]#all row, #column 2 to 3\n",
    "# Build a dendrogram using single-linkage clustering and Euclidean distance\n",
    "Z = hierarchy.linkage(dnewWhole,method = 'single', metric = 'euclidean')"
   ]
  },
  {
   "cell_type": "code",
   "execution_count": 89,
   "metadata": {},
   "outputs": [
    {
     "data": {
      "text/plain": [
       "<matplotlib.collections.PathCollection at 0x11748c4e0>"
      ]
     },
     "execution_count": 89,
     "metadata": {},
     "output_type": "execute_result"
    },
    {
     "data": {
      "image/png": "[encoded data removed]",
      "text/plain": [
       "<matplotlib.figure.Figure at 0x1a1f4e8198>"
      ]
     },
     "metadata": {},
     "output_type": "display_data"
    }
   ],
   "source": [
    "plt.figure()\n",
    "colors=['green','red','blue']\n",
    "plt.scatter(dnewWhole[:,0],dnewWhole[:,1],c=cl, cmap=matplotlib.colors.ListedColormap(colors),s=100,facecolors='none')"
   ]
  },
  {
   "cell_type": "code",
   "execution_count": 90,
   "metadata": {},
   "outputs": [
    {
     "data": {
      "text/html": [
       "<div>\n",
       "<style>\n",
       "    .dataframe thead tr:only-child th {\n",
       "        text-align: right;\n",
       "    }\n",
       "\n",
       "    .dataframe thead th {\n",
       "        text-align: left;\n",
       "    }\n",
       "\n",
       "    .dataframe tbody tr th {\n",
       "        vertical-align: top;\n",
       "    }\n",
       "</style>\n",
       "<table border=\"1\" class=\"dataframe\">\n",
       "  <thead>\n",
       "    <tr style=\"text-align: right;\">\n",
       "      <th>y</th>\n",
       "      <th>0</th>\n",
       "      <th>1</th>\n",
       "      <th>2</th>\n",
       "    </tr>\n",
       "    <tr>\n",
       "      <th>cl</th>\n",
       "      <th></th>\n",
       "      <th></th>\n",
       "      <th></th>\n",
       "    </tr>\n",
       "  </thead>\n",
       "  <tbody>\n",
       "    <tr>\n",
       "      <th>1</th>\n",
       "      <td>0</td>\n",
       "      <td>0</td>\n",
       "      <td>2</td>\n",
       "    </tr>\n",
       "    <tr>\n",
       "      <th>2</th>\n",
       "      <td>0</td>\n",
       "      <td>50</td>\n",
       "      <td>48</td>\n",
       "    </tr>\n",
       "    <tr>\n",
       "      <th>3</th>\n",
       "      <td>49</td>\n",
       "      <td>0</td>\n",
       "      <td>0</td>\n",
       "    </tr>\n",
       "    <tr>\n",
       "      <th>4</th>\n",
       "      <td>1</td>\n",
       "      <td>0</td>\n",
       "      <td>0</td>\n",
       "    </tr>\n",
       "  </tbody>\n",
       "</table>\n",
       "</div>"
      ],
      "text/plain": [
       "y    0   1   2\n",
       "cl            \n",
       "1    0   0   2\n",
       "2    0  50  48\n",
       "3   49   0   0\n",
       "4    1   0   0"
      ]
     },
     "execution_count": 90,
     "metadata": {},
     "output_type": "execute_result"
    }
   ],
   "source": [
    "# Picks 4 clusters\n",
    "cl = hierarchy.fcluster(Z,4, criterion='maxclust')\n",
    "crosstab(cl, y, rownames=['cl'], colnames=['y'])"
   ]
  },
  {
   "cell_type": "code",
   "execution_count": 91,
   "metadata": {},
   "outputs": [
    {
     "data": {
      "text/plain": [
       "<matplotlib.collections.PathCollection at 0x1a1f56da20>"
      ]
     },
     "execution_count": 91,
     "metadata": {},
     "output_type": "execute_result"
    },
    {
     "data": {
      "image/png": "[encoded data removed]",
      "text/plain": [
       "<matplotlib.figure.Figure at 0x1a1ef01588>"
      ]
     },
     "metadata": {},
     "output_type": "display_data"
    }
   ],
   "source": [
    "plt.figure()\n",
    "colors=['green','red','blue','yellow']\n",
    "plt.scatter(dnewWhole[:,0],dnewWhole[:,1],c=cl, cmap=matplotlib.colors.ListedColormap(colors),s=100,facecolors='none')"
   ]
  },
  {
   "cell_type": "code",
   "execution_count": 92,
   "metadata": {},
   "outputs": [
    {
     "data": {
      "text/html": [
       "<div>\n",
       "<style>\n",
       "    .dataframe thead tr:only-child th {\n",
       "        text-align: right;\n",
       "    }\n",
       "\n",
       "    .dataframe thead th {\n",
       "        text-align: left;\n",
       "    }\n",
       "\n",
       "    .dataframe tbody tr th {\n",
       "        vertical-align: top;\n",
       "    }\n",
       "</style>\n",
       "<table border=\"1\" class=\"dataframe\">\n",
       "  <thead>\n",
       "    <tr style=\"text-align: right;\">\n",
       "      <th>y</th>\n",
       "      <th>0</th>\n",
       "      <th>1</th>\n",
       "      <th>2</th>\n",
       "    </tr>\n",
       "    <tr>\n",
       "      <th>cl</th>\n",
       "      <th></th>\n",
       "      <th></th>\n",
       "      <th></th>\n",
       "    </tr>\n",
       "  </thead>\n",
       "  <tbody>\n",
       "    <tr>\n",
       "      <th>1</th>\n",
       "      <td>0</td>\n",
       "      <td>0</td>\n",
       "      <td>2</td>\n",
       "    </tr>\n",
       "    <tr>\n",
       "      <th>2</th>\n",
       "      <td>0</td>\n",
       "      <td>49</td>\n",
       "      <td>48</td>\n",
       "    </tr>\n",
       "    <tr>\n",
       "      <th>3</th>\n",
       "      <td>0</td>\n",
       "      <td>1</td>\n",
       "      <td>0</td>\n",
       "    </tr>\n",
       "    <tr>\n",
       "      <th>4</th>\n",
       "      <td>49</td>\n",
       "      <td>0</td>\n",
       "      <td>0</td>\n",
       "    </tr>\n",
       "    <tr>\n",
       "      <th>5</th>\n",
       "      <td>1</td>\n",
       "      <td>0</td>\n",
       "      <td>0</td>\n",
       "    </tr>\n",
       "  </tbody>\n",
       "</table>\n",
       "</div>"
      ],
      "text/plain": [
       "y    0   1   2\n",
       "cl            \n",
       "1    0   0   2\n",
       "2    0  49  48\n",
       "3    0   1   0\n",
       "4   49   0   0\n",
       "5    1   0   0"
      ]
     },
     "execution_count": 92,
     "metadata": {},
     "output_type": "execute_result"
    }
   ],
   "source": [
    "# Picks 5 clusters\n",
    "cl = hierarchy.fcluster(Z,5, criterion='maxclust')\n",
    "crosstab(cl, y, rownames=['cl'], colnames=['y'])"
   ]
  },
  {
   "cell_type": "code",
   "execution_count": 93,
   "metadata": {},
   "outputs": [
    {
     "data": {
      "text/plain": [
       "<matplotlib.collections.PathCollection at 0x1a1f294f60>"
      ]
     },
     "execution_count": 93,
     "metadata": {},
     "output_type": "execute_result"
    },
    {
     "data": {
      "image/png": "[encoded data removed]",
      "text/plain": [
       "<matplotlib.figure.Figure at 0x1a1f56d7f0>"
      ]
     },
     "metadata": {},
     "output_type": "display_data"
    }
   ],
   "source": [
    "plt.figure()\n",
    "colors=['green','red','blue','yellow','purple']\n",
    "plt.scatter(dnewWhole[:,0],dnewWhole[:,1],c=cl, cmap=matplotlib.colors.ListedColormap(colors),s=100,facecolors='none')"
   ]
  },
  {
   "cell_type": "markdown",
   "metadata": {},
   "source": [
    "**Question 5**. Cross-tabulate results are useful for figuring out the quality of clustering. You task is to propose a formula that uses the result of cross-tabulation to come up with a single number that measures the success of clustering. Please jsutify why you selected the formula.\n"
   ]
  },
  {
   "cell_type": "code",
   "execution_count": 94,
   "metadata": {},
   "outputs": [
    {
     "data": {
      "image/png": "[encoded data removed]",
      "text/plain": [
       "<matplotlib.figure.Figure at 0x1a1f30ba90>"
      ]
     },
     "metadata": {},
     "output_type": "display_data"
    }
   ],
   "source": [
    "#credits: https://stackoverflow.com/questions/6644445/equivalent-of-matlabs-cluster-quality-function\n",
    "# The silhouette value is a measure of how similar an object is to its own cluster (cohesion) compared to other clusters (separation). \n",
    "# The silhouette ranges from −1 to +1, where a high value indicates that the object is well matched to its own cluster and poorly matched\n",
    "# to neighboring clusters.\n",
    "# If most objects have a high value, then the clustering configuration is appropriate. If many points have a low or negative value,\n",
    "# then the clustering configuration may have too many or too few clusters\n",
    "\n",
    "import numpy as np\n",
    "from scipy.cluster.vq import kmeans2\n",
    "from scipy.spatial.distance import pdist, squareform\n",
    "from sklearn import datasets\n",
    "import matplotlib.pyplot as plt\n",
    "from matplotlib import cm\n",
    "\n",
    "def silhouette(X, cIDX):\n",
    "    N = X.shape[0]              # number of instances\n",
    "    K = len(np.unique(cIDX))    # number of clusters\n",
    "\n",
    "    # compute pairwise distance matrix\n",
    "    D = squareform(pdist(X))\n",
    "\n",
    "    # indices belonging to each cluster\n",
    "    kIndices = [np.flatnonzero(cIDX==k) for k in range(K)]\n",
    "\n",
    "    # compute a,b,s for each instance\n",
    "    a = np.zeros(N)\n",
    "    b = np.zeros(N)\n",
    "    for i in range(N):\n",
    "        # instances in same cluster other than instance itself\n",
    "        a[i] = np.mean( [D[i][ind] for ind in kIndices[cIDX[i]] if ind!=i] )\n",
    "        # instances in other clusters, one cluster at a time\n",
    "        b[i] = np.min( [np.mean(D[i][ind]) \n",
    "                        for k,ind in enumerate(kIndices) if cIDX[i]!=k] )\n",
    "    s = (b-a)/np.maximum(a,b)\n",
    "    return s\n",
    "\n",
    "def main():\n",
    "    X = iris['data']\n",
    "\n",
    "    # cluster and compute silhouette score\n",
    "    K = 4\n",
    "    C, cIDX = kmeans2(X, K)\n",
    "    s = silhouette(X, cIDX)\n",
    "\n",
    "    # plot\n",
    "    order = np.lexsort((-s,cIDX))\n",
    "    indices = [np.flatnonzero(cIDX[order]==k) for k in range(K)]\n",
    "    ytick = [(np.max(ind)+np.min(ind))/2 for ind in indices]\n",
    "    ytickLabels = [\"%d\" % x for x in range(K)]\n",
    "    cmap = cm.jet( np.linspace(0,1,K) ).tolist()\n",
    "    clr = [cmap[i] for i in cIDX[order]]\n",
    "\n",
    "    fig = plt.figure()\n",
    "    ax = fig.add_subplot(111)\n",
    "    ax.barh(range(X.shape[0]), s[order], height=1.0, \n",
    "            edgecolor='none', color=clr)\n",
    "    ax.set_ylim(ax.get_ylim()[::-1])\n",
    "    plt.yticks(ytick, ytickLabels)\n",
    "    plt.xlabel('Silhouette Value')\n",
    "    plt.ylabel('Cluster')\n",
    "    plt.show()\n",
    "\n",
    "if __name__ == '__main__':\n",
    "    main()"
   ]
  },
  {
   "cell_type": "code",
   "execution_count": 95,
   "metadata": {},
   "outputs": [
    {
     "data": {
      "image/png": "[encoded data removed]",
      "text/plain": [
       "<matplotlib.figure.Figure at 0x1a1f398898>"
      ]
     },
     "metadata": {},
     "output_type": "display_data"
    }
   ],
   "source": [
    "def main():\n",
    "    X = iris['data']\n",
    "    # cluster and compute silhouette score\n",
    "    K = 2\n",
    "    C, cIDX = kmeans2(X, K)\n",
    "    s = silhouette(X, cIDX)\n",
    "\n",
    "    # plot\n",
    "    order = np.lexsort((-s,cIDX))\n",
    "    indices = [np.flatnonzero(cIDX[order]==k) for k in range(K)]\n",
    "    ytick = [(np.max(ind)+np.min(ind))/2 for ind in indices]\n",
    "    ytickLabels = [\"%d\" % x for x in range(K)]\n",
    "    cmap = cm.jet( np.linspace(0,1,K) ).tolist()\n",
    "    clr = [cmap[i] for i in cIDX[order]]\n",
    "\n",
    "    fig = plt.figure()\n",
    "    ax = fig.add_subplot(111)\n",
    "    ax.barh(range(X.shape[0]), s[order], height=1.0, \n",
    "            edgecolor='none', color=clr)\n",
    "    ax.set_ylim(ax.get_ylim()[::-1])\n",
    "    plt.yticks(ytick, ytickLabels)\n",
    "    plt.xlabel('Silhouette Value')\n",
    "    plt.ylabel('Cluster')\n",
    "    plt.show()\n",
    "\n",
    "if __name__ == '__main__':\n",
    "    main()"
   ]
  },
  {
   "cell_type": "markdown",
   "metadata": {},
   "source": [
    "**Answer 5** \n",
    "- For this question I used Silhouette value to concluse the quality of a cluster. The silhouette value is a measure of how similar an object is to its own cluster compared to other clusters. The value range from -1 to 1. The closer it is to 1 the better the point fit to the cluster. \n",
    "- 2 plotted the data to 4 clusters and 2 clusters. The plots show that using 2 clusters is the best solution. Because most of the data in 2 clusters are have closest silhouette values to 1. That indicated that most of data in those 2 clusters fit well to its own cluster compared to other clusters."
   ]
  },
  {
   "cell_type": "markdown",
   "metadata": {},
   "source": [
    "\n",
    "**Question 6**. Repeat the clustering on the original Iris data, which has 4 attributes. Plot the scatter plot of the resulting clustering (remember, you can pick to see only 2 of the dimensions). Alternativelly, do SVD to project your data to 2 dimensionas and again plot the scatter plot. Take a look at the cross-tabulation. Try different clustering parameters and try to find the best clustering. Decide which choice of the parameters gives you the best results. Report on your findings with justifications for your conclusion."
   ]
  },
  {
   "cell_type": "code",
   "execution_count": 96,
   "metadata": {
    "collapsed": true
   },
   "outputs": [],
   "source": [
    "# SVD\n",
    "U,s,V = np.linalg.svd(d,full_matrices=0)\n",
    "# Find rank-2 aproximation\n",
    "k = 2\n",
    "Ak = np.dot(U[:,0:k],np.dot(np.diag(s)[0:k,0:k], V[0:k,:]))\n",
    "\n"
   ]
  },
  {
   "cell_type": "code",
   "execution_count": 97,
   "metadata": {},
   "outputs": [
    {
     "data": {
      "image/png": "[encoded data removed]",
      "text/plain": [
       "<matplotlib.figure.Figure at 0x1a2012de80>"
      ]
     },
     "metadata": {},
     "output_type": "display_data"
    }
   ],
   "source": [
    "plt.scatter(Ak[:,0],Ak[:,1],color='blue');"
   ]
  },
  {
   "cell_type": "code",
   "execution_count": 103,
   "metadata": {},
   "outputs": [
    {
     "data": {
      "text/html": [
       "<div>\n",
       "<style>\n",
       "    .dataframe thead tr:only-child th {\n",
       "        text-align: right;\n",
       "    }\n",
       "\n",
       "    .dataframe thead th {\n",
       "        text-align: left;\n",
       "    }\n",
       "\n",
       "    .dataframe tbody tr th {\n",
       "        vertical-align: top;\n",
       "    }\n",
       "</style>\n",
       "<table border=\"1\" class=\"dataframe\">\n",
       "  <thead>\n",
       "    <tr style=\"text-align: right;\">\n",
       "      <th>y</th>\n",
       "      <th>0</th>\n",
       "      <th>1</th>\n",
       "      <th>2</th>\n",
       "    </tr>\n",
       "    <tr>\n",
       "      <th>cl</th>\n",
       "      <th></th>\n",
       "      <th></th>\n",
       "      <th></th>\n",
       "    </tr>\n",
       "  </thead>\n",
       "  <tbody>\n",
       "    <tr>\n",
       "      <th>1</th>\n",
       "      <td>50</td>\n",
       "      <td>0</td>\n",
       "      <td>0</td>\n",
       "    </tr>\n",
       "    <tr>\n",
       "      <th>2</th>\n",
       "      <td>0</td>\n",
       "      <td>50</td>\n",
       "      <td>50</td>\n",
       "    </tr>\n",
       "  </tbody>\n",
       "</table>\n",
       "</div>"
      ],
      "text/plain": [
       "y    0   1   2\n",
       "cl            \n",
       "1   50   0   0\n",
       "2    0  50  50"
      ]
     },
     "execution_count": 103,
     "metadata": {},
     "output_type": "execute_result"
    }
   ],
   "source": [
    "A=range(0,150)\n",
    "Z = hierarchy.linkage(Ak,method = 'average', metric = 'euclidean')\n",
    "# Picks 2 clusters\n",
    "cl = hierarchy.fcluster(Z,2, criterion='maxclust')\n",
    "crosstab(cl, y, rownames=['cl'], colnames=['y'])\n"
   ]
  },
  {
   "cell_type": "code",
   "execution_count": 104,
   "metadata": {},
   "outputs": [
    {
     "data": {
      "text/plain": [
       "<matplotlib.collections.PathCollection at 0x1a1f592a90>"
      ]
     },
     "execution_count": 104,
     "metadata": {},
     "output_type": "execute_result"
    },
    {
     "data": {
      "image/png": "[encoded data removed]",
      "text/plain": [
       "<matplotlib.figure.Figure at 0x1a208ed550>"
      ]
     },
     "metadata": {},
     "output_type": "display_data"
    }
   ],
   "source": [
    "plt.figure()\n",
    "colors=['green','blue']\n",
    "plt.scatter(Ak[:,0],Ak[:,1],c=cl, cmap=matplotlib.colors.ListedColormap(colors),s=100,facecolors='none')"
   ]
  },
  {
   "cell_type": "markdown",
   "metadata": {},
   "source": [
    "## K-Means Clustering\n",
    "\n",
    "K-means clustering is another clustering algorithm (we will cover it in class tomorrow). It still receives a data set as an input, as well as the desired number of clusters, and outputs the assignment of data points to clusters.\n",
    "\n",
    "Let us illustrate how to use k-means on the iris data."
   ]
  },
  {
   "cell_type": "code",
   "execution_count": 105,
   "metadata": {},
   "outputs": [
    {
     "name": "stdout",
     "output_type": "stream",
     "text": [
      "(150, 2)\n"
     ]
    },
    {
     "data": {
      "text/html": [
       "<div>\n",
       "<style>\n",
       "    .dataframe thead tr:only-child th {\n",
       "        text-align: right;\n",
       "    }\n",
       "\n",
       "    .dataframe thead th {\n",
       "        text-align: left;\n",
       "    }\n",
       "\n",
       "    .dataframe tbody tr th {\n",
       "        vertical-align: top;\n",
       "    }\n",
       "</style>\n",
       "<table border=\"1\" class=\"dataframe\">\n",
       "  <thead>\n",
       "    <tr style=\"text-align: right;\">\n",
       "      <th>y</th>\n",
       "      <th>0</th>\n",
       "      <th>1</th>\n",
       "      <th>2</th>\n",
       "    </tr>\n",
       "    <tr>\n",
       "      <th>cl</th>\n",
       "      <th></th>\n",
       "      <th></th>\n",
       "      <th></th>\n",
       "    </tr>\n",
       "  </thead>\n",
       "  <tbody>\n",
       "    <tr>\n",
       "      <th>0</th>\n",
       "      <td>35</td>\n",
       "      <td>0</td>\n",
       "      <td>0</td>\n",
       "    </tr>\n",
       "    <tr>\n",
       "      <th>1</th>\n",
       "      <td>0</td>\n",
       "      <td>26</td>\n",
       "      <td>19</td>\n",
       "    </tr>\n",
       "    <tr>\n",
       "      <th>2</th>\n",
       "      <td>0</td>\n",
       "      <td>0</td>\n",
       "      <td>31</td>\n",
       "    </tr>\n",
       "    <tr>\n",
       "      <th>3</th>\n",
       "      <td>0</td>\n",
       "      <td>24</td>\n",
       "      <td>0</td>\n",
       "    </tr>\n",
       "    <tr>\n",
       "      <th>4</th>\n",
       "      <td>15</td>\n",
       "      <td>0</td>\n",
       "      <td>0</td>\n",
       "    </tr>\n",
       "  </tbody>\n",
       "</table>\n",
       "</div>"
      ],
      "text/plain": [
       "y    0   1   2\n",
       "cl            \n",
       "0   35   0   0\n",
       "1    0  26  19\n",
       "2    0   0  31\n",
       "3    0  24   0\n",
       "4   15   0   0"
      ]
     },
     "execution_count": 105,
     "metadata": {},
     "output_type": "execute_result"
    },
    {
     "data": {
      "image/png": "[encoded data removed]",
      "text/plain": [
       "<matplotlib.figure.Figure at 0x11726ab00>"
      ]
     },
     "metadata": {},
     "output_type": "display_data"
    }
   ],
   "source": [
    "print (dnew.shape)\n",
    "# the following command results in creating of 2 clusters of `dnew` data\n",
    "kmeans = KMeans(n_clusters=5, random_state=0).fit(dnew)\n",
    "# cl are the assignments of points to one of the 5 clusters\n",
    "cl=kmeans.labels_\n",
    "# cen are the centers of the 5 clusters, obtained by finding the average of all examples assigned to the clusters\n",
    "cen=kmeans.cluster_centers_\n",
    "# plot the results\n",
    "colors=['red','green','blue','purple','yellow']\n",
    "plt.figure()\n",
    "#scatter column 1 and 2\n",
    "plt.scatter(dnew[:,0],dnew[:,1],c=cl, cmap=matplotlib.colors.ListedColormap(colors),s=100,facecolors='none')\n",
    "plt.scatter(cen[:,0],cen[:,1],s=130, marker=\"^\")\n",
    "plt.axis('equal')\n",
    "\n",
    "# cross-tabulation with the flower types\n",
    "crosstab(cl, y, rownames=['cl'], colnames=['y'])"
   ]
  },
  {
   "cell_type": "markdown",
   "metadata": {},
   "source": [
    "**Question 7**. Discuss on the quality of outcome of k-means clustering\n"
   ]
  },
  {
   "cell_type": "markdown",
   "metadata": {},
   "source": [
    "- The quality of out come succesful. It gave us a big picture of the clusters and provide us more information about the center points. It's because data set are very distinguish between each atributes. The cluster are linear separatable."
   ]
  },
  {
   "cell_type": "markdown",
   "metadata": {},
   "source": [
    "\n",
    "**Question 8**. Repeat k-means clustering, but this time change the nnumber of clusters to 3. Discuss the results. Compare the results with the results of hierarchical clustering from **Question 4**."
   ]
  },
  {
   "cell_type": "markdown",
   "metadata": {},
   "source": [
    "**Answer 8**"
   ]
  },
  {
   "cell_type": "code",
   "execution_count": 106,
   "metadata": {},
   "outputs": [
    {
     "data": {
      "text/html": [
       "<div>\n",
       "<style>\n",
       "    .dataframe thead tr:only-child th {\n",
       "        text-align: right;\n",
       "    }\n",
       "\n",
       "    .dataframe thead th {\n",
       "        text-align: left;\n",
       "    }\n",
       "\n",
       "    .dataframe tbody tr th {\n",
       "        vertical-align: top;\n",
       "    }\n",
       "</style>\n",
       "<table border=\"1\" class=\"dataframe\">\n",
       "  <thead>\n",
       "    <tr style=\"text-align: right;\">\n",
       "      <th>y</th>\n",
       "      <th>0</th>\n",
       "      <th>1</th>\n",
       "      <th>2</th>\n",
       "    </tr>\n",
       "    <tr>\n",
       "      <th>cl</th>\n",
       "      <th></th>\n",
       "      <th></th>\n",
       "      <th></th>\n",
       "    </tr>\n",
       "  </thead>\n",
       "  <tbody>\n",
       "    <tr>\n",
       "      <th>0</th>\n",
       "      <td>50</td>\n",
       "      <td>0</td>\n",
       "      <td>0</td>\n",
       "    </tr>\n",
       "    <tr>\n",
       "      <th>1</th>\n",
       "      <td>0</td>\n",
       "      <td>2</td>\n",
       "      <td>41</td>\n",
       "    </tr>\n",
       "    <tr>\n",
       "      <th>2</th>\n",
       "      <td>0</td>\n",
       "      <td>48</td>\n",
       "      <td>9</td>\n",
       "    </tr>\n",
       "  </tbody>\n",
       "</table>\n",
       "</div>"
      ],
      "text/plain": [
       "y    0   1   2\n",
       "cl            \n",
       "0   50   0   0\n",
       "1    0   2  41\n",
       "2    0  48   9"
      ]
     },
     "execution_count": 106,
     "metadata": {},
     "output_type": "execute_result"
    },
    {
     "data": {
      "image/png": "[encoded data removed]",
      "text/plain": [
       "<matplotlib.figure.Figure at 0x1a1f4855c0>"
      ]
     },
     "metadata": {},
     "output_type": "display_data"
    }
   ],
   "source": [
    "# the following command results in creating of 2 clusters of `dnew` data\n",
    "kmeans = KMeans(n_clusters=3, random_state=0).fit(dnew)\n",
    "# cl are the assignments of points to one of the 5 clusters\n",
    "cl=kmeans.labels_\n",
    "# cen are the centers of the 3 clusters, obtained by finding the average of all examples assigned to the clusters\n",
    "cen=kmeans.cluster_centers_\n",
    "# plot the results\n",
    "colors=['red','green','blue']\n",
    "plt.figure(figsize=(10,5))\n",
    "#scatter column 1 and 2\n",
    "plt.scatter(dnew[:,0],dnew[:,1],c=cl, cmap=matplotlib.colors.ListedColormap(colors),s=100,facecolors='none')\n",
    "plt.scatter(cen[:,0],cen[:,1],s=130, marker=\"^\")\n",
    "plt.axis('equal')\n",
    "\n",
    "# cross-tabulation with the flower types\n",
    "crosstab(cl, y, rownames=['cl'], colnames=['y'])"
   ]
  },
  {
   "cell_type": "markdown",
   "metadata": {},
   "source": [
    "- k means and Hierarchical Clustering both gave us the clear view of data and its cluster. It's because data set are very distinguish between each atributes.  "
   ]
  },
  {
   "cell_type": "markdown",
   "metadata": {},
   "source": [
    "**Question 9**. Repeat k-means clustering on the whole Iris data set, the same as you did in **Question 6**. Discuss your results and compare them to the hierarchical clustering results."
   ]
  },
  {
   "cell_type": "code",
   "execution_count": 107,
   "metadata": {},
   "outputs": [
    {
     "data": {
      "text/html": [
       "<div>\n",
       "<style>\n",
       "    .dataframe thead tr:only-child th {\n",
       "        text-align: right;\n",
       "    }\n",
       "\n",
       "    .dataframe thead th {\n",
       "        text-align: left;\n",
       "    }\n",
       "\n",
       "    .dataframe tbody tr th {\n",
       "        vertical-align: top;\n",
       "    }\n",
       "</style>\n",
       "<table border=\"1\" class=\"dataframe\">\n",
       "  <thead>\n",
       "    <tr style=\"text-align: right;\">\n",
       "      <th>y</th>\n",
       "      <th>0</th>\n",
       "      <th>1</th>\n",
       "      <th>2</th>\n",
       "    </tr>\n",
       "    <tr>\n",
       "      <th>cl</th>\n",
       "      <th></th>\n",
       "      <th></th>\n",
       "      <th></th>\n",
       "    </tr>\n",
       "  </thead>\n",
       "  <tbody>\n",
       "    <tr>\n",
       "      <th>0</th>\n",
       "      <td>35</td>\n",
       "      <td>0</td>\n",
       "      <td>0</td>\n",
       "    </tr>\n",
       "    <tr>\n",
       "      <th>1</th>\n",
       "      <td>0</td>\n",
       "      <td>26</td>\n",
       "      <td>19</td>\n",
       "    </tr>\n",
       "    <tr>\n",
       "      <th>2</th>\n",
       "      <td>0</td>\n",
       "      <td>0</td>\n",
       "      <td>31</td>\n",
       "    </tr>\n",
       "    <tr>\n",
       "      <th>3</th>\n",
       "      <td>0</td>\n",
       "      <td>24</td>\n",
       "      <td>0</td>\n",
       "    </tr>\n",
       "    <tr>\n",
       "      <th>4</th>\n",
       "      <td>15</td>\n",
       "      <td>0</td>\n",
       "      <td>0</td>\n",
       "    </tr>\n",
       "  </tbody>\n",
       "</table>\n",
       "</div>"
      ],
      "text/plain": [
       "y    0   1   2\n",
       "cl            \n",
       "0   35   0   0\n",
       "1    0  26  19\n",
       "2    0   0  31\n",
       "3    0  24   0\n",
       "4   15   0   0"
      ]
     },
     "execution_count": 107,
     "metadata": {},
     "output_type": "execute_result"
    },
    {
     "data": {
      "image/png": "[encoded data removed]",
      "text/plain": [
       "<matplotlib.figure.Figure at 0x1a1f445550>"
      ]
     },
     "metadata": {},
     "output_type": "display_data"
    }
   ],
   "source": [
    "# the following command results in creating of 2 clusters of `dnew` data\n",
    "kmeans = KMeans(n_clusters=5, random_state=0).fit(dnewWhole)\n",
    "# cl are the assignments of points to one of the 5 clusters\n",
    "cl=kmeans.labels_\n",
    "# cen are the centers of the 5 clusters, obtained by finding the average of all examples assigned to the clusters\n",
    "cen=kmeans.cluster_centers_\n",
    "# plot the results\n",
    "colors=['red','green','blue','purple','yellow']\n",
    "plt.figure(figsize=(10,5))\n",
    "#scatter column 1 and 2\n",
    "plt.scatter(dnewWhole[:,0],dnewWhole[:,1],c=cl, cmap=matplotlib.colors.ListedColormap(colors),s=100,facecolors='none')\n",
    "plt.scatter(cen[:,0],cen[:,1],s=130, marker=\"^\")\n",
    "plt.axis('equal')\n",
    "\n",
    "# cross-tabulation with the flower types\n",
    "crosstab(cl, y, rownames=['cl'], colnames=['y'])"
   ]
  },
  {
   "cell_type": "markdown",
   "metadata": {},
   "source": [
    "## Lab 6.b Document Clustering (50% of grade)\n",
    "\n",
    "In this part of the lab assignment, you will apply your clustering knowledge on the Newsgroup data from **Lab 5**. The following is a list of questions.\n",
    "\n",
    "1. Select $N = 100$ random documents and their types from the newsgroup data. Use Google search to figure out how to do it in Python. The reason we are doing this is that hierrchical clustering can be very slow on large data sets.\n",
    "\n",
    "2. Find 3 clusters using deafult (single-link, Eucliedan distance) hierarchical clustering. Use cross-tabulation to measure the quality of clustering.\n",
    "\n",
    "3. Repeat step 2, by trying to find a better choice of parameters for hierarchical clustering. Try the Jaccard or cosine distance instead of Eucliedean. Report on your findings\n",
    "\n",
    "4. Repeat step 3, but this type use k-means clustering. Compare with the results from step 3.\n",
    "\n",
    "5. Instead of $N = 100$, select $N= 200, 500, 1000, 2000, 5000$ random documents. Set number of clusters to 5. Apply hierarchical and k-means clustering on such data and measure time. Discuss how does the time scale with $N$. For k-means clustering, discuss how do the clusters centers change as the data size increases -- do you see some qualitative improvements in the quality of clustering?"
   ]
  },
  {
   "cell_type": "markdown",
   "metadata": {
    "collapsed": true
   },
   "source": [
    "**Question 6**. Discuss your results and compare them to the hierarchical clustering results."
   ]
  },
  {
   "cell_type": "code",
   "execution_count": 2,
   "metadata": {},
   "outputs": [
    {
     "ename": "NameError",
     "evalue": "name 'np' is not defined",
     "output_type": "error",
     "traceback": [
      "\u001b[0;31m---------------------------------------------------------------------------\u001b[0m",
      "\u001b[0;31mNameError\u001b[0m                                 Traceback (most recent call last)",
      "\u001b[0;32m<ipython-input-2-930f7f359dcd>\u001b[0m in \u001b[0;36m<module>\u001b[0;34m()\u001b[0m\n\u001b[0;32m----> 1\u001b[0;31m \u001b[0mwordlist\u001b[0m \u001b[0;34m=\u001b[0m \u001b[0mnp\u001b[0m\u001b[0;34m.\u001b[0m\u001b[0mloadtxt\u001b[0m\u001b[0;34m(\u001b[0m\u001b[0;34m'wordlist.csv'\u001b[0m\u001b[0;34m,\u001b[0m \u001b[0mdelimiter\u001b[0m\u001b[0;34m=\u001b[0m\u001b[0;34m\",\"\u001b[0m\u001b[0;34m,\u001b[0m\u001b[0mdtype\u001b[0m\u001b[0;34m=\u001b[0m\u001b[0;34m'str'\u001b[0m\u001b[0;34m)\u001b[0m\u001b[0;34m\u001b[0m\u001b[0m\n\u001b[0m\u001b[1;32m      2\u001b[0m \u001b[0mdocuments\u001b[0m \u001b[0;34m=\u001b[0m \u001b[0mnp\u001b[0m\u001b[0;34m.\u001b[0m\u001b[0mloadtxt\u001b[0m\u001b[0;34m(\u001b[0m\u001b[0;34m'documents.csv'\u001b[0m\u001b[0;34m,\u001b[0m \u001b[0mdelimiter\u001b[0m\u001b[0;34m=\u001b[0m\u001b[0;34m\",\"\u001b[0m\u001b[0;34m,\u001b[0m\u001b[0mdtype\u001b[0m\u001b[0;34m=\u001b[0m\u001b[0;34m'int'\u001b[0m\u001b[0;34m)\u001b[0m\u001b[0;34m\u001b[0m\u001b[0m\n\u001b[1;32m      3\u001b[0m \u001b[0mdocuments\u001b[0m \u001b[0;34m=\u001b[0m \u001b[0mnp\u001b[0m\u001b[0;34m.\u001b[0m\u001b[0mtranspose\u001b[0m\u001b[0;34m(\u001b[0m\u001b[0mdocuments\u001b[0m\u001b[0;34m)\u001b[0m\u001b[0;34m\u001b[0m\u001b[0m\n\u001b[1;32m      4\u001b[0m \u001b[0mnewsgroup\u001b[0m \u001b[0;34m=\u001b[0m \u001b[0mnp\u001b[0m\u001b[0;34m.\u001b[0m\u001b[0mloadtxt\u001b[0m\u001b[0;34m(\u001b[0m\u001b[0;34m'newsgroup.csv'\u001b[0m\u001b[0;34m,\u001b[0m \u001b[0mdelimiter\u001b[0m\u001b[0;34m=\u001b[0m\u001b[0;34m\",\"\u001b[0m\u001b[0;34m,\u001b[0m\u001b[0mdtype\u001b[0m\u001b[0;34m=\u001b[0m\u001b[0;34m'int'\u001b[0m\u001b[0;34m)\u001b[0m\u001b[0;34m\u001b[0m\u001b[0m\n\u001b[1;32m      5\u001b[0m \u001b[0mgroupnames\u001b[0m \u001b[0;34m=\u001b[0m \u001b[0mnp\u001b[0m\u001b[0;34m.\u001b[0m\u001b[0mloadtxt\u001b[0m\u001b[0;34m(\u001b[0m\u001b[0;34m'groupnames.csv'\u001b[0m\u001b[0;34m,\u001b[0m \u001b[0mdelimiter\u001b[0m\u001b[0;34m=\u001b[0m\u001b[0;34m\",\"\u001b[0m\u001b[0;34m,\u001b[0m\u001b[0mdtype\u001b[0m\u001b[0;34m=\u001b[0m\u001b[0;34m'str'\u001b[0m\u001b[0;34m)\u001b[0m\u001b[0;34m\u001b[0m\u001b[0m\n",
      "\u001b[0;31mNameError\u001b[0m: name 'np' is not defined"
     ]
    }
   ],
   "source": [
    "wordlist = np.loadtxt('wordlist.csv', delimiter=\",\",dtype='str')\n",
    "documents = np.loadtxt('documents.csv', delimiter=\",\",dtype='int')\n",
    "documents = np.transpose(documents)\n",
    "newsgroup = np.loadtxt('newsgroup.csv', delimiter=\",\",dtype='int')\n",
    "groupnames = np.loadtxt('groupnames.csv', delimiter=\",\",dtype='str')"
   ]
  },
  {
   "cell_type": "code",
   "execution_count": 397,
   "metadata": {},
   "outputs": [
    {
     "name": "stdout",
     "output_type": "stream",
     "text": [
      "[ 6  3  4  1  1  4  3  1  4  1  3  2  6  5  2  5  2  1  7  5  2  3  2  3  1\n",
      "  1  2  5  2  5  3  7  5  7  4  6  8  7  1  3  1  4  8 11  6  1  2  1  1  2\n",
      "  1  2  2  6  5  4  2  3  1  4  6  6  4  3  3  1  3  4  6  1 14  5  1  1  4\n",
      "  2  7  3  9  3  5  1  1  1  1  8  4  5  3 11  4  4  2  3  8  4  2  5 10  1]\n"
     ]
    }
   ],
   "source": [
    "#generate 100 number of index of documents matrix from 0 to documents.shape[0]\n",
    "import random\n",
    "randomIndex = random.sample(range(0, documents.shape[0]), 100)\n",
    "#create documents100 numpy.narray by selected randome row with the randome index\n",
    "randomDocuments=documents[randomIndex,:]\n",
    "y=newsgroup[randomIndex]\n",
    "totalWord=np.sum(randomDocuments, axis=1)\n",
    "print (totalWord)"
   ]
  },
  {
   "cell_type": "code",
   "execution_count": 398,
   "metadata": {},
   "outputs": [
    {
     "name": "stdout",
     "output_type": "stream",
     "text": [
      "[ 0  1  2  3  4  5  6  7  8  9 10 11 12 13 14 15 16 17 18 19 20 21 22 23 24\n",
      " 25 26 27 28 29 30 31 32 33 34 35 36 37 38 39 40 41 42 43 44 45 46 47 48 49\n",
      " 50 51 52 53 54 55 56 57 58 59 60 61 62 63 64 65 66 67 68 69 70 71 72 73 74\n",
      " 75 76 77 78 79 80 81 82 83 84 85 86 87 88 89 90 91 92 93 94 95 96 97 98 99]\n"
     ]
    }
   ],
   "source": [
    "#create a list of index start from 0\n",
    "index = np.arange(totalWord.shape[0])\n",
    "index[0:totalWord.shape[0]]\n",
    "print(index)"
   ]
  },
  {
   "cell_type": "code",
   "execution_count": 399,
   "metadata": {},
   "outputs": [
    {
     "name": "stdout",
     "output_type": "stream",
     "text": [
      "[[ 0  6]\n",
      " [ 1  3]\n",
      " [ 2  4]\n",
      " [ 3  1]\n",
      " [ 4  1]\n",
      " [ 5  4]\n",
      " [ 6  3]\n",
      " [ 7  1]\n",
      " [ 8  4]\n",
      " [ 9  1]\n",
      " [10  3]\n",
      " [11  2]\n",
      " [12  6]\n",
      " [13  5]\n",
      " [14  2]\n",
      " [15  5]\n",
      " [16  2]\n",
      " [17  1]\n",
      " [18  7]\n",
      " [19  5]\n",
      " [20  2]\n",
      " [21  3]\n",
      " [22  2]\n",
      " [23  3]\n",
      " [24  1]\n",
      " [25  1]\n",
      " [26  2]\n",
      " [27  5]\n",
      " [28  2]\n",
      " [29  5]\n",
      " [30  3]\n",
      " [31  7]\n",
      " [32  5]\n",
      " [33  7]\n",
      " [34  4]\n",
      " [35  6]\n",
      " [36  8]\n",
      " [37  7]\n",
      " [38  1]\n",
      " [39  3]\n",
      " [40  1]\n",
      " [41  4]\n",
      " [42  8]\n",
      " [43 11]\n",
      " [44  6]\n",
      " [45  1]\n",
      " [46  2]\n",
      " [47  1]\n",
      " [48  1]\n",
      " [49  2]\n",
      " [50  1]\n",
      " [51  2]\n",
      " [52  2]\n",
      " [53  6]\n",
      " [54  5]\n",
      " [55  4]\n",
      " [56  2]\n",
      " [57  3]\n",
      " [58  1]\n",
      " [59  4]\n",
      " [60  6]\n",
      " [61  6]\n",
      " [62  4]\n",
      " [63  3]\n",
      " [64  3]\n",
      " [65  1]\n",
      " [66  3]\n",
      " [67  4]\n",
      " [68  6]\n",
      " [69  1]\n",
      " [70 14]\n",
      " [71  5]\n",
      " [72  1]\n",
      " [73  1]\n",
      " [74  4]\n",
      " [75  2]\n",
      " [76  7]\n",
      " [77  3]\n",
      " [78  9]\n",
      " [79  3]\n",
      " [80  5]\n",
      " [81  1]\n",
      " [82  1]\n",
      " [83  1]\n",
      " [84  1]\n",
      " [85  8]\n",
      " [86  4]\n",
      " [87  5]\n",
      " [88  3]\n",
      " [89 11]\n",
      " [90  4]\n",
      " [91  4]\n",
      " [92  2]\n",
      " [93  3]\n",
      " [94  8]\n",
      " [95  4]\n",
      " [96  2]\n",
      " [97  5]\n",
      " [98 10]\n",
      " [99  1]]\n"
     ]
    }
   ],
   "source": [
    "newTable=np.array(list(zip(index,totalWord)))\n",
    "print (newTable)"
   ]
  },
  {
   "cell_type": "code",
   "execution_count": 400,
   "metadata": {},
   "outputs": [
    {
     "data": {
      "image/png": "[encoded data removed]",
      "text/plain": [
       "<matplotlib.figure.Figure at 0x10d62f1d0>"
      ]
     },
     "metadata": {},
     "output_type": "display_data"
    }
   ],
   "source": [
    "plt.ylim([0,10])\n",
    "plt.scatter(index,totalWord,facecolors='none',color='blue')\n",
    "plt.axis('equal');"
   ]
  },
  {
   "cell_type": "code",
   "execution_count": 401,
   "metadata": {
    "collapsed": true
   },
   "outputs": [],
   "source": [
    "A=range(0,100)#number of row\n",
    "new = newTable[A,0:2]#row, #column\n",
    "# Build a dendrogram using single-linkage clustering and Euclidean distance\n",
    "Z = hierarchy.linkage(new,method = 'average', metric = 'euclidean')\n",
    "# Picks 3 clusters\n",
    "cl = hierarchy.fcluster(Z1, 3, criterion='maxclust')\n"
   ]
  },
  {
   "cell_type": "code",
   "execution_count": 402,
   "metadata": {},
   "outputs": [
    {
     "data": {
      "image/png": "[encoded data removed]",
      "text/plain": [
       "<matplotlib.figure.Figure at 0x10d62f940>"
      ]
     },
     "metadata": {},
     "output_type": "display_data"
    }
   ],
   "source": [
    "plt.figure(figsize = (15,4))\n",
    "hierarchy.dendrogram(Z);"
   ]
  },
  {
   "cell_type": "code",
   "execution_count": 404,
   "metadata": {},
   "outputs": [
    {
     "data": {
      "text/html": [
       "<div>\n",
       "<style>\n",
       "    .dataframe thead tr:only-child th {\n",
       "        text-align: right;\n",
       "    }\n",
       "\n",
       "    .dataframe thead th {\n",
       "        text-align: left;\n",
       "    }\n",
       "\n",
       "    .dataframe tbody tr th {\n",
       "        vertical-align: top;\n",
       "    }\n",
       "</style>\n",
       "<table border=\"1\" class=\"dataframe\">\n",
       "  <thead>\n",
       "    <tr style=\"text-align: right;\">\n",
       "      <th>y</th>\n",
       "      <th>1</th>\n",
       "      <th>2</th>\n",
       "      <th>3</th>\n",
       "      <th>4</th>\n",
       "    </tr>\n",
       "    <tr>\n",
       "      <th>cl</th>\n",
       "      <th></th>\n",
       "      <th></th>\n",
       "      <th></th>\n",
       "      <th></th>\n",
       "    </tr>\n",
       "  </thead>\n",
       "  <tbody>\n",
       "    <tr>\n",
       "      <th>1</th>\n",
       "      <td>1</td>\n",
       "      <td>0</td>\n",
       "      <td>0</td>\n",
       "      <td>1</td>\n",
       "    </tr>\n",
       "    <tr>\n",
       "      <th>2</th>\n",
       "      <td>34</td>\n",
       "      <td>13</td>\n",
       "      <td>11</td>\n",
       "      <td>25</td>\n",
       "    </tr>\n",
       "    <tr>\n",
       "      <th>3</th>\n",
       "      <td>6</td>\n",
       "      <td>2</td>\n",
       "      <td>2</td>\n",
       "      <td>5</td>\n",
       "    </tr>\n",
       "  </tbody>\n",
       "</table>\n",
       "</div>"
      ],
      "text/plain": [
       "y    1   2   3   4\n",
       "cl                \n",
       "1    1   0   0   1\n",
       "2   34  13  11  25\n",
       "3    6   2   2   5"
      ]
     },
     "execution_count": 404,
     "metadata": {},
     "output_type": "execute_result"
    }
   ],
   "source": [
    "# cross-tabulation with the flower types\n",
    "crosstab(cl, y , rownames=['cl'], colnames=['y'])"
   ]
  },
  {
   "cell_type": "code",
   "execution_count": 368,
   "metadata": {},
   "outputs": [
    {
     "data": {
      "text/plain": [
       "<matplotlib.collections.PathCollection at 0x1a210b3518>"
      ]
     },
     "execution_count": 368,
     "metadata": {},
     "output_type": "execute_result"
    },
    {
     "data": {
      "image/png": "[encoded data removed]",
      "text/plain": [
       "<matplotlib.figure.Figure at 0x1a253e6978>"
      ]
     },
     "metadata": {},
     "output_type": "display_data"
    }
   ],
   "source": [
    "plt.figure()\n",
    "colors=['red','blue','green']\n",
    "plt.scatter(new[A,0],new[A,1],c=cl, cmap=matplotlib.colors.ListedColormap(colors),s=100,facecolors='none')\n"
   ]
  },
  {
   "cell_type": "markdown",
   "metadata": {},
   "source": [
    "**Try cosine**"
   ]
  },
  {
   "cell_type": "code",
   "execution_count": 369,
   "metadata": {
    "collapsed": true
   },
   "outputs": [],
   "source": [
    "Z1 = hierarchy.linkage(new,method = 'average', metric = 'cosine')\n",
    "# Picks 3 clusters\n",
    "cl1 = hierarchy.fcluster(Z1, 3, criterion='maxclust')"
   ]
  },
  {
   "cell_type": "code",
   "execution_count": 370,
   "metadata": {},
   "outputs": [
    {
     "data": {
      "image/png": "[encoded data removed]",
      "text/plain": [
       "<matplotlib.figure.Figure at 0x1a204690f0>"
      ]
     },
     "metadata": {},
     "output_type": "display_data"
    }
   ],
   "source": [
    "plt.figure(figsize = (15,4))\n",
    "hierarchy.dendrogram(Z1);"
   ]
  },
  {
   "cell_type": "code",
   "execution_count": 371,
   "metadata": {},
   "outputs": [
    {
     "data": {
      "text/plain": [
       "<matplotlib.collections.PathCollection at 0x1a215aa5f8>"
      ]
     },
     "execution_count": 371,
     "metadata": {},
     "output_type": "execute_result"
    },
    {
     "data": {
      "image/png": "[encoded data removed]",
      "text/plain": [
       "<matplotlib.figure.Figure at 0x1a2050d5c0>"
      ]
     },
     "metadata": {},
     "output_type": "display_data"
    }
   ],
   "source": [
    "plt.figure()\n",
    "colors=['red','blue','green']\n",
    "plt.scatter(new[A,0],new[A,1],c=cl1, cmap=matplotlib.colors.ListedColormap(colors),s=100,facecolors='none')"
   ]
  },
  {
   "cell_type": "code",
   "execution_count": 372,
   "metadata": {},
   "outputs": [
    {
     "data": {
      "text/html": [
       "<div>\n",
       "<style>\n",
       "    .dataframe thead tr:only-child th {\n",
       "        text-align: right;\n",
       "    }\n",
       "\n",
       "    .dataframe thead th {\n",
       "        text-align: left;\n",
       "    }\n",
       "\n",
       "    .dataframe tbody tr th {\n",
       "        vertical-align: top;\n",
       "    }\n",
       "</style>\n",
       "<table border=\"1\" class=\"dataframe\">\n",
       "  <thead>\n",
       "    <tr style=\"text-align: right;\">\n",
       "      <th>y</th>\n",
       "      <th>1</th>\n",
       "      <th>2</th>\n",
       "      <th>3</th>\n",
       "      <th>4</th>\n",
       "    </tr>\n",
       "    <tr>\n",
       "      <th>cl</th>\n",
       "      <th></th>\n",
       "      <th></th>\n",
       "      <th></th>\n",
       "      <th></th>\n",
       "    </tr>\n",
       "  </thead>\n",
       "  <tbody>\n",
       "    <tr>\n",
       "      <th>1</th>\n",
       "      <td>1</td>\n",
       "      <td>1</td>\n",
       "      <td>1</td>\n",
       "      <td>2</td>\n",
       "    </tr>\n",
       "    <tr>\n",
       "      <th>2</th>\n",
       "      <td>33</td>\n",
       "      <td>19</td>\n",
       "      <td>11</td>\n",
       "      <td>26</td>\n",
       "    </tr>\n",
       "    <tr>\n",
       "      <th>3</th>\n",
       "      <td>2</td>\n",
       "      <td>2</td>\n",
       "      <td>0</td>\n",
       "      <td>2</td>\n",
       "    </tr>\n",
       "  </tbody>\n",
       "</table>\n",
       "</div>"
      ],
      "text/plain": [
       "y    1   2   3   4\n",
       "cl                \n",
       "1    1   1   1   2\n",
       "2   33  19  11  26\n",
       "3    2   2   0   2"
      ]
     },
     "execution_count": 372,
     "metadata": {},
     "output_type": "execute_result"
    }
   ],
   "source": [
    "# cross-tabulation with the flower types\n",
    "crosstab(cl, y, rownames=['cl'], colnames=['y'])"
   ]
  },
  {
   "cell_type": "code",
   "execution_count": 373,
   "metadata": {
    "scrolled": true
   },
   "outputs": [
    {
     "data": {
      "text/html": [
       "<div>\n",
       "<style>\n",
       "    .dataframe thead tr:only-child th {\n",
       "        text-align: right;\n",
       "    }\n",
       "\n",
       "    .dataframe thead th {\n",
       "        text-align: left;\n",
       "    }\n",
       "\n",
       "    .dataframe tbody tr th {\n",
       "        vertical-align: top;\n",
       "    }\n",
       "</style>\n",
       "<table border=\"1\" class=\"dataframe\">\n",
       "  <thead>\n",
       "    <tr style=\"text-align: right;\">\n",
       "      <th>y</th>\n",
       "      <th>1</th>\n",
       "      <th>2</th>\n",
       "      <th>3</th>\n",
       "      <th>4</th>\n",
       "    </tr>\n",
       "    <tr>\n",
       "      <th>cl</th>\n",
       "      <th></th>\n",
       "      <th></th>\n",
       "      <th></th>\n",
       "      <th></th>\n",
       "    </tr>\n",
       "  </thead>\n",
       "  <tbody>\n",
       "    <tr>\n",
       "      <th>0</th>\n",
       "      <td>11</td>\n",
       "      <td>4</td>\n",
       "      <td>2</td>\n",
       "      <td>8</td>\n",
       "    </tr>\n",
       "    <tr>\n",
       "      <th>1</th>\n",
       "      <td>7</td>\n",
       "      <td>5</td>\n",
       "      <td>2</td>\n",
       "      <td>11</td>\n",
       "    </tr>\n",
       "    <tr>\n",
       "      <th>2</th>\n",
       "      <td>9</td>\n",
       "      <td>8</td>\n",
       "      <td>3</td>\n",
       "      <td>5</td>\n",
       "    </tr>\n",
       "    <tr>\n",
       "      <th>3</th>\n",
       "      <td>9</td>\n",
       "      <td>5</td>\n",
       "      <td>5</td>\n",
       "      <td>6</td>\n",
       "    </tr>\n",
       "  </tbody>\n",
       "</table>\n",
       "</div>"
      ],
      "text/plain": [
       "y    1  2  3   4\n",
       "cl              \n",
       "0   11  4  2   8\n",
       "1    7  5  2  11\n",
       "2    9  8  3   5\n",
       "3    9  5  5   6"
      ]
     },
     "execution_count": 373,
     "metadata": {},
     "output_type": "execute_result"
    },
    {
     "data": {
      "image/png": "[encoded data removed]",
      "text/plain": [
       "<matplotlib.figure.Figure at 0x1a21508be0>"
      ]
     },
     "metadata": {},
     "output_type": "display_data"
    }
   ],
   "source": [
    "#KMEAN\n",
    "# the following command results in creating of 2 clusters of `dnew` data\n",
    "kmeans = KMeans(n_clusters=4, random_state=0).fit(new)\n",
    "# cl are the assignments of points to one of the 5 clusters\n",
    "cl=kmeans.labels_\n",
    "# cen are the centers of the 4 clusters, obtained by finding the average of all examples assigned to the clusters\n",
    "cen=kmeans.cluster_centers_\n",
    "# plot the results\n",
    "colors=['red','green','blue','purple']\n",
    "plt.figure()\n",
    "#scatter column 1 and 2\n",
    "plt.scatter(new[:,0],new[:,1],c=cl, cmap=matplotlib.colors.ListedColormap(colors),s=100,facecolors='none')\n",
    "plt.scatter(cen[:,0],cen[:,1],s=130, marker=\"^\")\n",
    "plt.axis('equal')\n",
    "\n",
    "# cross-tabulation with the flower types\n",
    "crosstab(cl, y, rownames=['cl'], colnames=['y'])"
   ]
  },
  {
   "cell_type": "markdown",
   "metadata": {},
   "source": [
    "**200**"
   ]
  },
  {
   "cell_type": "code",
   "execution_count": 374,
   "metadata": {},
   "outputs": [
    {
     "name": "stdout",
     "output_type": "stream",
     "text": [
      "[ 6  7  6  6  4  3  3  3  6  2  3  5  4  2  2  1 11  5  5  2 20  2  3  4  3\n",
      "  2  6  3  6 10  4  1  2  1  4  4  3  6  7  3  6  2  9  9  3  6  3  5  4  1\n",
      "  2 12  5  4  8  2  1  7  5  3  3  2  2  1  2  3  1  4  8 13  5  2  6  1  3\n",
      "  7  1  8  3  2  2  2  5  5  2  4  7  1 11  8  3  2  6  3  2  5  4  3  3  1\n",
      "  1  7  5  5  1  4  3  6  1  7  5  2  8  3  6  2 15  1  6  5  4  2  4  3  7\n",
      "  3  9  3  4  3  1  1  5  5  8  4  2  5  2  1  4  1  4  2 13  2  1  3 13  5\n",
      "  3  3  2  5  2  8  4  1  2  1  2  1  2  4  3  3  9  3  1  3  2  5  1  2  2\n",
      "  1  4  2 11  2  1  7  2 17  9  6  6  4 24  6  4  1  1  2  4  9  8  3  1  8]\n"
     ]
    }
   ],
   "source": [
    "#generate 100 number of index of documents matrix from 0 to documents.shape[0]\n",
    "randomIndex = random.sample(range(0, documents.shape[0]), 200)\n",
    "#create documents100 numpy.narray by selected randome row with the randome index\n",
    "randomDocuments=documents[randomIndex,:]\n",
    "y=newsgroup[randomIndex]\n",
    "totalWord=np.sum(randomDocuments, axis=1)\n",
    "print (totalWord)"
   ]
  },
  {
   "cell_type": "code",
   "execution_count": 375,
   "metadata": {},
   "outputs": [
    {
     "name": "stdout",
     "output_type": "stream",
     "text": [
      "[  0   1   2   3   4   5   6   7   8   9  10  11  12  13  14  15  16  17\n",
      "  18  19  20  21  22  23  24  25  26  27  28  29  30  31  32  33  34  35\n",
      "  36  37  38  39  40  41  42  43  44  45  46  47  48  49  50  51  52  53\n",
      "  54  55  56  57  58  59  60  61  62  63  64  65  66  67  68  69  70  71\n",
      "  72  73  74  75  76  77  78  79  80  81  82  83  84  85  86  87  88  89\n",
      "  90  91  92  93  94  95  96  97  98  99 100 101 102 103 104 105 106 107\n",
      " 108 109 110 111 112 113 114 115 116 117 118 119 120 121 122 123 124 125\n",
      " 126 127 128 129 130 131 132 133 134 135 136 137 138 139 140 141 142 143\n",
      " 144 145 146 147 148 149 150 151 152 153 154 155 156 157 158 159 160 161\n",
      " 162 163 164 165 166 167 168 169 170 171 172 173 174 175 176 177 178 179\n",
      " 180 181 182 183 184 185 186 187 188 189 190 191 192 193 194 195 196 197\n",
      " 198 199]\n"
     ]
    }
   ],
   "source": [
    "#create a list of index start from 0\n",
    "index = np.arange(totalWord.shape[0])\n",
    "index[0:totalWord.shape[0]]\n",
    "print(index)"
   ]
  },
  {
   "cell_type": "code",
   "execution_count": 376,
   "metadata": {},
   "outputs": [
    {
     "name": "stdout",
     "output_type": "stream",
     "text": [
      "[[  0   6]\n",
      " [  1   7]\n",
      " [  2   6]\n",
      " [  3   6]\n",
      " [  4   4]\n",
      " [  5   3]\n",
      " [  6   3]\n",
      " [  7   3]\n",
      " [  8   6]\n",
      " [  9   2]\n",
      " [ 10   3]\n",
      " [ 11   5]\n",
      " [ 12   4]\n",
      " [ 13   2]\n",
      " [ 14   2]\n",
      " [ 15   1]\n",
      " [ 16  11]\n",
      " [ 17   5]\n",
      " [ 18   5]\n",
      " [ 19   2]\n",
      " [ 20  20]\n",
      " [ 21   2]\n",
      " [ 22   3]\n",
      " [ 23   4]\n",
      " [ 24   3]\n",
      " [ 25   2]\n",
      " [ 26   6]\n",
      " [ 27   3]\n",
      " [ 28   6]\n",
      " [ 29  10]\n",
      " [ 30   4]\n",
      " [ 31   1]\n",
      " [ 32   2]\n",
      " [ 33   1]\n",
      " [ 34   4]\n",
      " [ 35   4]\n",
      " [ 36   3]\n",
      " [ 37   6]\n",
      " [ 38   7]\n",
      " [ 39   3]\n",
      " [ 40   6]\n",
      " [ 41   2]\n",
      " [ 42   9]\n",
      " [ 43   9]\n",
      " [ 44   3]\n",
      " [ 45   6]\n",
      " [ 46   3]\n",
      " [ 47   5]\n",
      " [ 48   4]\n",
      " [ 49   1]\n",
      " [ 50   2]\n",
      " [ 51  12]\n",
      " [ 52   5]\n",
      " [ 53   4]\n",
      " [ 54   8]\n",
      " [ 55   2]\n",
      " [ 56   1]\n",
      " [ 57   7]\n",
      " [ 58   5]\n",
      " [ 59   3]\n",
      " [ 60   3]\n",
      " [ 61   2]\n",
      " [ 62   2]\n",
      " [ 63   1]\n",
      " [ 64   2]\n",
      " [ 65   3]\n",
      " [ 66   1]\n",
      " [ 67   4]\n",
      " [ 68   8]\n",
      " [ 69  13]\n",
      " [ 70   5]\n",
      " [ 71   2]\n",
      " [ 72   6]\n",
      " [ 73   1]\n",
      " [ 74   3]\n",
      " [ 75   7]\n",
      " [ 76   1]\n",
      " [ 77   8]\n",
      " [ 78   3]\n",
      " [ 79   2]\n",
      " [ 80   2]\n",
      " [ 81   2]\n",
      " [ 82   5]\n",
      " [ 83   5]\n",
      " [ 84   2]\n",
      " [ 85   4]\n",
      " [ 86   7]\n",
      " [ 87   1]\n",
      " [ 88  11]\n",
      " [ 89   8]\n",
      " [ 90   3]\n",
      " [ 91   2]\n",
      " [ 92   6]\n",
      " [ 93   3]\n",
      " [ 94   2]\n",
      " [ 95   5]\n",
      " [ 96   4]\n",
      " [ 97   3]\n",
      " [ 98   3]\n",
      " [ 99   1]\n",
      " [100   1]\n",
      " [101   7]\n",
      " [102   5]\n",
      " [103   5]\n",
      " [104   1]\n",
      " [105   4]\n",
      " [106   3]\n",
      " [107   6]\n",
      " [108   1]\n",
      " [109   7]\n",
      " [110   5]\n",
      " [111   2]\n",
      " [112   8]\n",
      " [113   3]\n",
      " [114   6]\n",
      " [115   2]\n",
      " [116  15]\n",
      " [117   1]\n",
      " [118   6]\n",
      " [119   5]\n",
      " [120   4]\n",
      " [121   2]\n",
      " [122   4]\n",
      " [123   3]\n",
      " [124   7]\n",
      " [125   3]\n",
      " [126   9]\n",
      " [127   3]\n",
      " [128   4]\n",
      " [129   3]\n",
      " [130   1]\n",
      " [131   1]\n",
      " [132   5]\n",
      " [133   5]\n",
      " [134   8]\n",
      " [135   4]\n",
      " [136   2]\n",
      " [137   5]\n",
      " [138   2]\n",
      " [139   1]\n",
      " [140   4]\n",
      " [141   1]\n",
      " [142   4]\n",
      " [143   2]\n",
      " [144  13]\n",
      " [145   2]\n",
      " [146   1]\n",
      " [147   3]\n",
      " [148  13]\n",
      " [149   5]\n",
      " [150   3]\n",
      " [151   3]\n",
      " [152   2]\n",
      " [153   5]\n",
      " [154   2]\n",
      " [155   8]\n",
      " [156   4]\n",
      " [157   1]\n",
      " [158   2]\n",
      " [159   1]\n",
      " [160   2]\n",
      " [161   1]\n",
      " [162   2]\n",
      " [163   4]\n",
      " [164   3]\n",
      " [165   3]\n",
      " [166   9]\n",
      " [167   3]\n",
      " [168   1]\n",
      " [169   3]\n",
      " [170   2]\n",
      " [171   5]\n",
      " [172   1]\n",
      " [173   2]\n",
      " [174   2]\n",
      " [175   1]\n",
      " [176   4]\n",
      " [177   2]\n",
      " [178  11]\n",
      " [179   2]\n",
      " [180   1]\n",
      " [181   7]\n",
      " [182   2]\n",
      " [183  17]\n",
      " [184   9]\n",
      " [185   6]\n",
      " [186   6]\n",
      " [187   4]\n",
      " [188  24]\n",
      " [189   6]\n",
      " [190   4]\n",
      " [191   1]\n",
      " [192   1]\n",
      " [193   2]\n",
      " [194   4]\n",
      " [195   9]\n",
      " [196   8]\n",
      " [197   3]\n",
      " [198   1]\n",
      " [199   8]]\n"
     ]
    }
   ],
   "source": [
    "newTable=np.array(list(zip(index,totalWord)))\n",
    "print (newTable)"
   ]
  },
  {
   "cell_type": "code",
   "execution_count": 377,
   "metadata": {
    "collapsed": true
   },
   "outputs": [],
   "source": [
    "A=range(0,200)#number of row\n",
    "new = newTable[A,0:2]#row, #column\n",
    "# Build a dendrogram using single-linkage clustering and Euclidean distance\n",
    "Z = hierarchy.linkage(new,method = 'average', metric = 'euclidean')\n",
    "# Picks 3 clusters\n",
    "cl = hierarchy.fcluster(Z, 5, criterion='maxclust')"
   ]
  },
  {
   "cell_type": "code",
   "execution_count": 378,
   "metadata": {},
   "outputs": [
    {
     "data": {
      "image/png": "[encoded data removed]",
      "text/plain": [
       "<matplotlib.figure.Figure at 0x1a21529550>"
      ]
     },
     "metadata": {},
     "output_type": "display_data"
    }
   ],
   "source": [
    "plt.figure(figsize = (15,4))\n",
    "hierarchy.dendrogram(Z);"
   ]
  },
  {
   "cell_type": "code",
   "execution_count": 379,
   "metadata": {},
   "outputs": [
    {
     "data": {
      "text/plain": [
       "<matplotlib.collections.PathCollection at 0x1a263f4e10>"
      ]
     },
     "execution_count": 379,
     "metadata": {},
     "output_type": "execute_result"
    },
    {
     "data": {
      "image/png": "[encoded data removed]",
      "text/plain": [
       "<matplotlib.figure.Figure at 0x1a263db828>"
      ]
     },
     "metadata": {},
     "output_type": "display_data"
    }
   ],
   "source": [
    "plt.figure()\n",
    "colors=['red','blue','green','purple','black']\n",
    "plt.scatter(new[A,0],new[A,1],c=cl, cmap=matplotlib.colors.ListedColormap(colors),s=100,facecolors='none')"
   ]
  },
  {
   "cell_type": "code",
   "execution_count": 380,
   "metadata": {},
   "outputs": [
    {
     "data": {
      "text/html": [
       "<div>\n",
       "<style>\n",
       "    .dataframe thead tr:only-child th {\n",
       "        text-align: right;\n",
       "    }\n",
       "\n",
       "    .dataframe thead th {\n",
       "        text-align: left;\n",
       "    }\n",
       "\n",
       "    .dataframe tbody tr th {\n",
       "        vertical-align: top;\n",
       "    }\n",
       "</style>\n",
       "<table border=\"1\" class=\"dataframe\">\n",
       "  <thead>\n",
       "    <tr style=\"text-align: right;\">\n",
       "      <th>y</th>\n",
       "      <th>1</th>\n",
       "      <th>2</th>\n",
       "      <th>3</th>\n",
       "      <th>4</th>\n",
       "    </tr>\n",
       "    <tr>\n",
       "      <th>cl</th>\n",
       "      <th></th>\n",
       "      <th></th>\n",
       "      <th></th>\n",
       "      <th></th>\n",
       "    </tr>\n",
       "  </thead>\n",
       "  <tbody>\n",
       "    <tr>\n",
       "      <th>1</th>\n",
       "      <td>9</td>\n",
       "      <td>13</td>\n",
       "      <td>8</td>\n",
       "      <td>14</td>\n",
       "    </tr>\n",
       "    <tr>\n",
       "      <th>2</th>\n",
       "      <td>13</td>\n",
       "      <td>12</td>\n",
       "      <td>10</td>\n",
       "      <td>10</td>\n",
       "    </tr>\n",
       "    <tr>\n",
       "      <th>3</th>\n",
       "      <td>16</td>\n",
       "      <td>13</td>\n",
       "      <td>12</td>\n",
       "      <td>10</td>\n",
       "    </tr>\n",
       "    <tr>\n",
       "      <th>4</th>\n",
       "      <td>16</td>\n",
       "      <td>7</td>\n",
       "      <td>2</td>\n",
       "      <td>4</td>\n",
       "    </tr>\n",
       "    <tr>\n",
       "      <th>5</th>\n",
       "      <td>7</td>\n",
       "      <td>8</td>\n",
       "      <td>3</td>\n",
       "      <td>13</td>\n",
       "    </tr>\n",
       "  </tbody>\n",
       "</table>\n",
       "</div>"
      ],
      "text/plain": [
       "y    1   2   3   4\n",
       "cl                \n",
       "1    9  13   8  14\n",
       "2   13  12  10  10\n",
       "3   16  13  12  10\n",
       "4   16   7   2   4\n",
       "5    7   8   3  13"
      ]
     },
     "execution_count": 380,
     "metadata": {},
     "output_type": "execute_result"
    }
   ],
   "source": [
    "# cross-tabulation with the flower types\n",
    "crosstab(cl, y , rownames=['cl'], colnames=['y'])"
   ]
  },
  {
   "cell_type": "code",
   "execution_count": 381,
   "metadata": {},
   "outputs": [
    {
     "data": {
      "text/html": [
       "<div>\n",
       "<style>\n",
       "    .dataframe thead tr:only-child th {\n",
       "        text-align: right;\n",
       "    }\n",
       "\n",
       "    .dataframe thead th {\n",
       "        text-align: left;\n",
       "    }\n",
       "\n",
       "    .dataframe tbody tr th {\n",
       "        vertical-align: top;\n",
       "    }\n",
       "</style>\n",
       "<table border=\"1\" class=\"dataframe\">\n",
       "  <thead>\n",
       "    <tr style=\"text-align: right;\">\n",
       "      <th>y</th>\n",
       "      <th>1</th>\n",
       "      <th>2</th>\n",
       "      <th>3</th>\n",
       "      <th>4</th>\n",
       "    </tr>\n",
       "    <tr>\n",
       "      <th>cl</th>\n",
       "      <th></th>\n",
       "      <th></th>\n",
       "      <th></th>\n",
       "      <th></th>\n",
       "    </tr>\n",
       "  </thead>\n",
       "  <tbody>\n",
       "    <tr>\n",
       "      <th>0</th>\n",
       "      <td>7</td>\n",
       "      <td>13</td>\n",
       "      <td>8</td>\n",
       "      <td>13</td>\n",
       "    </tr>\n",
       "    <tr>\n",
       "      <th>1</th>\n",
       "      <td>13</td>\n",
       "      <td>10</td>\n",
       "      <td>9</td>\n",
       "      <td>8</td>\n",
       "    </tr>\n",
       "    <tr>\n",
       "      <th>2</th>\n",
       "      <td>17</td>\n",
       "      <td>11</td>\n",
       "      <td>2</td>\n",
       "      <td>9</td>\n",
       "    </tr>\n",
       "    <tr>\n",
       "      <th>3</th>\n",
       "      <td>10</td>\n",
       "      <td>11</td>\n",
       "      <td>6</td>\n",
       "      <td>13</td>\n",
       "    </tr>\n",
       "    <tr>\n",
       "      <th>4</th>\n",
       "      <td>14</td>\n",
       "      <td>8</td>\n",
       "      <td>10</td>\n",
       "      <td>8</td>\n",
       "    </tr>\n",
       "  </tbody>\n",
       "</table>\n",
       "</div>"
      ],
      "text/plain": [
       "y    1   2   3   4\n",
       "cl                \n",
       "0    7  13   8  13\n",
       "1   13  10   9   8\n",
       "2   17  11   2   9\n",
       "3   10  11   6  13\n",
       "4   14   8  10   8"
      ]
     },
     "execution_count": 381,
     "metadata": {},
     "output_type": "execute_result"
    },
    {
     "data": {
      "image/png": "[encoded data removed]",
      "text/plain": [
       "<matplotlib.figure.Figure at 0x1a2187b860>"
      ]
     },
     "metadata": {},
     "output_type": "display_data"
    }
   ],
   "source": [
    "#KMEAN\n",
    "# the following command results in creating of 5 clusters of `dnew` data\n",
    "kmeans = KMeans(n_clusters=5, random_state=0).fit(new)\n",
    "# cl are the assignments of points to one of the 5 clusters\n",
    "cl=kmeans.labels_\n",
    "# cen are the centers of the 4 clusters, obtained by finding the average of all examples assigned to the clusters\n",
    "cen=kmeans.cluster_centers_\n",
    "# plot the results\n",
    "colors=['red','green','blue','purple','black']\n",
    "plt.figure()\n",
    "#scatter column 1 and 2\n",
    "plt.scatter(new[:,0],new[:,1],c=cl, cmap=matplotlib.colors.ListedColormap(colors),s=100,facecolors='none')\n",
    "plt.scatter(cen[:,0],cen[:,1],s=130, marker=\"^\")\n",
    "plt.axis('equal')\n",
    "\n",
    "# cross-tabulation with the flower types\n",
    "crosstab(cl, y, rownames=['cl'], colnames=['y'])"
   ]
  },
  {
   "cell_type": "markdown",
   "metadata": {
    "collapsed": true
   },
   "source": [
    "**500**"
   ]
  },
  {
   "cell_type": "code",
   "execution_count": 382,
   "metadata": {},
   "outputs": [
    {
     "data": {
      "image/png": "[encoded data removed]",
      "text/plain": [
       "<matplotlib.figure.Figure at 0x1a206aa400>"
      ]
     },
     "metadata": {},
     "output_type": "display_data"
    }
   ],
   "source": [
    "#generate 500 number of index of documents matrix from 0 to documents.shape[0]\n",
    "randomIndex = random.sample(range(0, documents.shape[0]), 500)\n",
    "#create documents100 numpy.narray by selected randome row with the randome index\n",
    "randomDocuments=documents[randomIndex,:]\n",
    "y=newsgroup[randomIndex]\n",
    "totalWord=np.sum(randomDocuments, axis=1)\n",
    "#create a list of index start from 0\n",
    "index = np.arange(totalWord.shape[0])\n",
    "index[0:totalWord.shape[0]]\n",
    "newTable=np.array(list(zip(index,totalWord)))\n",
    "A=range(0,500)#number of row\n",
    "new = newTable[A,0:2]#row, #column\n",
    "# Build a dendrogram using single-linkage clustering and Euclidean distance\n",
    "Z = hierarchy.linkage(new,method = 'average', metric = 'euclidean')\n",
    "# Picks 3 clusters\n",
    "cl = hierarchy.fcluster(Z, 5, criterion='maxclust')\n",
    "plt.figure(figsize = (15,4))\n",
    "hierarchy.dendrogram(Z);"
   ]
  },
  {
   "cell_type": "code",
   "execution_count": 383,
   "metadata": {},
   "outputs": [
    {
     "data": {
      "text/plain": [
       "<matplotlib.collections.PathCollection at 0x1a200827f0>"
      ]
     },
     "execution_count": 383,
     "metadata": {},
     "output_type": "execute_result"
    },
    {
     "data": {
      "image/png": "[encoded data removed]",
      "text/plain": [
       "<matplotlib.figure.Figure at 0x1a1f5bcf60>"
      ]
     },
     "metadata": {},
     "output_type": "display_data"
    }
   ],
   "source": [
    "plt.figure()\n",
    "colors=['red','blue','green','purple','black']\n",
    "plt.scatter(new[A,0],new[A,1],c=cl, cmap=matplotlib.colors.ListedColormap(colors),s=100,facecolors='none')"
   ]
  },
  {
   "cell_type": "code",
   "execution_count": 384,
   "metadata": {},
   "outputs": [
    {
     "data": {
      "text/html": [
       "<div>\n",
       "<style>\n",
       "    .dataframe thead tr:only-child th {\n",
       "        text-align: right;\n",
       "    }\n",
       "\n",
       "    .dataframe thead th {\n",
       "        text-align: left;\n",
       "    }\n",
       "\n",
       "    .dataframe tbody tr th {\n",
       "        vertical-align: top;\n",
       "    }\n",
       "</style>\n",
       "<table border=\"1\" class=\"dataframe\">\n",
       "  <thead>\n",
       "    <tr style=\"text-align: right;\">\n",
       "      <th>y</th>\n",
       "      <th>1</th>\n",
       "      <th>2</th>\n",
       "      <th>3</th>\n",
       "      <th>4</th>\n",
       "    </tr>\n",
       "    <tr>\n",
       "      <th>cl</th>\n",
       "      <th></th>\n",
       "      <th></th>\n",
       "      <th></th>\n",
       "      <th></th>\n",
       "    </tr>\n",
       "  </thead>\n",
       "  <tbody>\n",
       "    <tr>\n",
       "      <th>1</th>\n",
       "      <td>24</td>\n",
       "      <td>15</td>\n",
       "      <td>13</td>\n",
       "      <td>21</td>\n",
       "    </tr>\n",
       "    <tr>\n",
       "      <th>2</th>\n",
       "      <td>43</td>\n",
       "      <td>23</td>\n",
       "      <td>23</td>\n",
       "      <td>38</td>\n",
       "    </tr>\n",
       "    <tr>\n",
       "      <th>3</th>\n",
       "      <td>32</td>\n",
       "      <td>23</td>\n",
       "      <td>16</td>\n",
       "      <td>33</td>\n",
       "    </tr>\n",
       "    <tr>\n",
       "      <th>4</th>\n",
       "      <td>21</td>\n",
       "      <td>14</td>\n",
       "      <td>18</td>\n",
       "      <td>29</td>\n",
       "    </tr>\n",
       "    <tr>\n",
       "      <th>5</th>\n",
       "      <td>24</td>\n",
       "      <td>29</td>\n",
       "      <td>20</td>\n",
       "      <td>41</td>\n",
       "    </tr>\n",
       "  </tbody>\n",
       "</table>\n",
       "</div>"
      ],
      "text/plain": [
       "y    1   2   3   4\n",
       "cl                \n",
       "1   24  15  13  21\n",
       "2   43  23  23  38\n",
       "3   32  23  16  33\n",
       "4   21  14  18  29\n",
       "5   24  29  20  41"
      ]
     },
     "execution_count": 384,
     "metadata": {},
     "output_type": "execute_result"
    }
   ],
   "source": [
    "# cross-tabulation with the flower types\n",
    "crosstab(cl, y , rownames=['cl'], colnames=['y'])"
   ]
  },
  {
   "cell_type": "code",
   "execution_count": 385,
   "metadata": {},
   "outputs": [
    {
     "data": {
      "text/html": [
       "<div>\n",
       "<style>\n",
       "    .dataframe thead tr:only-child th {\n",
       "        text-align: right;\n",
       "    }\n",
       "\n",
       "    .dataframe thead th {\n",
       "        text-align: left;\n",
       "    }\n",
       "\n",
       "    .dataframe tbody tr th {\n",
       "        vertical-align: top;\n",
       "    }\n",
       "</style>\n",
       "<table border=\"1\" class=\"dataframe\">\n",
       "  <thead>\n",
       "    <tr style=\"text-align: right;\">\n",
       "      <th>y</th>\n",
       "      <th>1</th>\n",
       "      <th>2</th>\n",
       "      <th>3</th>\n",
       "      <th>4</th>\n",
       "    </tr>\n",
       "    <tr>\n",
       "      <th>cl</th>\n",
       "      <th></th>\n",
       "      <th></th>\n",
       "      <th></th>\n",
       "      <th></th>\n",
       "    </tr>\n",
       "  </thead>\n",
       "  <tbody>\n",
       "    <tr>\n",
       "      <th>0</th>\n",
       "      <td>20</td>\n",
       "      <td>27</td>\n",
       "      <td>17</td>\n",
       "      <td>37</td>\n",
       "    </tr>\n",
       "    <tr>\n",
       "      <th>1</th>\n",
       "      <td>36</td>\n",
       "      <td>16</td>\n",
       "      <td>19</td>\n",
       "      <td>28</td>\n",
       "    </tr>\n",
       "    <tr>\n",
       "      <th>2</th>\n",
       "      <td>30</td>\n",
       "      <td>24</td>\n",
       "      <td>15</td>\n",
       "      <td>32</td>\n",
       "    </tr>\n",
       "    <tr>\n",
       "      <th>3</th>\n",
       "      <td>31</td>\n",
       "      <td>20</td>\n",
       "      <td>17</td>\n",
       "      <td>30</td>\n",
       "    </tr>\n",
       "    <tr>\n",
       "      <th>4</th>\n",
       "      <td>27</td>\n",
       "      <td>17</td>\n",
       "      <td>22</td>\n",
       "      <td>35</td>\n",
       "    </tr>\n",
       "  </tbody>\n",
       "</table>\n",
       "</div>"
      ],
      "text/plain": [
       "y    1   2   3   4\n",
       "cl                \n",
       "0   20  27  17  37\n",
       "1   36  16  19  28\n",
       "2   30  24  15  32\n",
       "3   31  20  17  30\n",
       "4   27  17  22  35"
      ]
     },
     "execution_count": 385,
     "metadata": {},
     "output_type": "execute_result"
    },
    {
     "data": {
      "image/png": "[encoded data removed]",
      "text/plain": [
       "<matplotlib.figure.Figure at 0x1a215484a8>"
      ]
     },
     "metadata": {},
     "output_type": "display_data"
    }
   ],
   "source": [
    "#KMEAN\n",
    "# the following command results in creating of 2 clusters of `dnew` data\n",
    "kmeans = KMeans(n_clusters=5, random_state=0).fit(new)\n",
    "# cl are the assignments of points to one of the 5 clusters\n",
    "cl=kmeans.labels_\n",
    "# cen are the centers of the 4 clusters, obtained by finding the average of all examples assigned to the clusters\n",
    "cen=kmeans.cluster_centers_\n",
    "# plot the results\n",
    "colors=['red','green','blue','purple','black']\n",
    "plt.figure()\n",
    "#scatter column 1 and 2\n",
    "plt.scatter(new[:,0],new[:,1],c=cl, cmap=matplotlib.colors.ListedColormap(colors),s=100,facecolors='none')\n",
    "plt.scatter(cen[:,0],cen[:,1],s=130, marker=\"^\")\n",
    "plt.axis('equal')\n",
    "\n",
    "# cross-tabulation with the flower types\n",
    "crosstab(cl, y, rownames=['cl'], colnames=['y'])"
   ]
  },
  {
   "cell_type": "markdown",
   "metadata": {},
   "source": [
    "**1000,2000,5000**"
   ]
  },
  {
   "cell_type": "code",
   "execution_count": 386,
   "metadata": {
    "collapsed": true
   },
   "outputs": [],
   "source": [
    "#generate 500 number of index of documents matrix from 0 to documents.shape[0]\n",
    "randomIndex = random.sample(range(0, documents.shape[0]), 1000)\n",
    "#create documents100 numpy.narray by selected randome row with the randome index\n",
    "randomDocuments=documents[randomIndex,:]\n",
    "y=newsgroup[randomIndex]\n",
    "totalWord=np.sum(randomDocuments, axis=1)\n",
    "#create a list of index start from 0\n",
    "index = np.arange(totalWord.shape[0])\n",
    "index[0:totalWord.shape[0]]\n",
    "newTable=np.array(list(zip(index,totalWord)))\n",
    "A=range(0,1000)#number of row\n",
    "new = newTable[A,0:2]#row, #column\n",
    "# Build a dendrogram using single-linkage clustering and Euclidean distance\n",
    "Z = hierarchy.linkage(new,method = 'average', metric = 'euclidean')\n",
    "# Picks 3 clusters\n",
    "cl = hierarchy.fcluster(Z, 5, criterion='maxclust')"
   ]
  },
  {
   "cell_type": "code",
   "execution_count": 387,
   "metadata": {},
   "outputs": [
    {
     "data": {
      "text/html": [
       "<div>\n",
       "<style>\n",
       "    .dataframe thead tr:only-child th {\n",
       "        text-align: right;\n",
       "    }\n",
       "\n",
       "    .dataframe thead th {\n",
       "        text-align: left;\n",
       "    }\n",
       "\n",
       "    .dataframe tbody tr th {\n",
       "        vertical-align: top;\n",
       "    }\n",
       "</style>\n",
       "<table border=\"1\" class=\"dataframe\">\n",
       "  <thead>\n",
       "    <tr style=\"text-align: right;\">\n",
       "      <th>y</th>\n",
       "      <th>1</th>\n",
       "      <th>2</th>\n",
       "      <th>3</th>\n",
       "      <th>4</th>\n",
       "    </tr>\n",
       "    <tr>\n",
       "      <th>cl</th>\n",
       "      <th></th>\n",
       "      <th></th>\n",
       "      <th></th>\n",
       "      <th></th>\n",
       "    </tr>\n",
       "  </thead>\n",
       "  <tbody>\n",
       "    <tr>\n",
       "      <th>1</th>\n",
       "      <td>47</td>\n",
       "      <td>34</td>\n",
       "      <td>27</td>\n",
       "      <td>51</td>\n",
       "    </tr>\n",
       "    <tr>\n",
       "      <th>2</th>\n",
       "      <td>75</td>\n",
       "      <td>38</td>\n",
       "      <td>32</td>\n",
       "      <td>59</td>\n",
       "    </tr>\n",
       "    <tr>\n",
       "      <th>3</th>\n",
       "      <td>72</td>\n",
       "      <td>62</td>\n",
       "      <td>57</td>\n",
       "      <td>88</td>\n",
       "    </tr>\n",
       "    <tr>\n",
       "      <th>4</th>\n",
       "      <td>49</td>\n",
       "      <td>43</td>\n",
       "      <td>30</td>\n",
       "      <td>55</td>\n",
       "    </tr>\n",
       "    <tr>\n",
       "      <th>5</th>\n",
       "      <td>46</td>\n",
       "      <td>39</td>\n",
       "      <td>25</td>\n",
       "      <td>71</td>\n",
       "    </tr>\n",
       "  </tbody>\n",
       "</table>\n",
       "</div>"
      ],
      "text/plain": [
       "y    1   2   3   4\n",
       "cl                \n",
       "1   47  34  27  51\n",
       "2   75  38  32  59\n",
       "3   72  62  57  88\n",
       "4   49  43  30  55\n",
       "5   46  39  25  71"
      ]
     },
     "execution_count": 387,
     "metadata": {},
     "output_type": "execute_result"
    },
    {
     "data": {
      "image/png": "[encoded data removed]",
      "text/plain": [
       "<matplotlib.figure.Figure at 0x1a24f00e48>"
      ]
     },
     "metadata": {},
     "output_type": "display_data"
    }
   ],
   "source": [
    "plt.figure()\n",
    "colors=['red','blue','green','purple','black']\n",
    "plt.scatter(new[A,0],new[A,1],c=cl, cmap=matplotlib.colors.ListedColormap(colors),s=100,facecolors='none')\n",
    "# cross-tabulation with the flower types\n",
    "crosstab(cl, y , rownames=['cl'], colnames=['y'])"
   ]
  },
  {
   "cell_type": "code",
   "execution_count": 388,
   "metadata": {},
   "outputs": [
    {
     "data": {
      "text/html": [
       "<div>\n",
       "<style>\n",
       "    .dataframe thead tr:only-child th {\n",
       "        text-align: right;\n",
       "    }\n",
       "\n",
       "    .dataframe thead th {\n",
       "        text-align: left;\n",
       "    }\n",
       "\n",
       "    .dataframe tbody tr th {\n",
       "        vertical-align: top;\n",
       "    }\n",
       "</style>\n",
       "<table border=\"1\" class=\"dataframe\">\n",
       "  <thead>\n",
       "    <tr style=\"text-align: right;\">\n",
       "      <th>y</th>\n",
       "      <th>1</th>\n",
       "      <th>2</th>\n",
       "      <th>3</th>\n",
       "      <th>4</th>\n",
       "    </tr>\n",
       "    <tr>\n",
       "      <th>cl</th>\n",
       "      <th></th>\n",
       "      <th></th>\n",
       "      <th></th>\n",
       "      <th></th>\n",
       "    </tr>\n",
       "  </thead>\n",
       "  <tbody>\n",
       "    <tr>\n",
       "      <th>0</th>\n",
       "      <td>56</td>\n",
       "      <td>46</td>\n",
       "      <td>36</td>\n",
       "      <td>60</td>\n",
       "    </tr>\n",
       "    <tr>\n",
       "      <th>1</th>\n",
       "      <td>52</td>\n",
       "      <td>43</td>\n",
       "      <td>25</td>\n",
       "      <td>80</td>\n",
       "    </tr>\n",
       "    <tr>\n",
       "      <th>2</th>\n",
       "      <td>74</td>\n",
       "      <td>38</td>\n",
       "      <td>32</td>\n",
       "      <td>58</td>\n",
       "    </tr>\n",
       "    <tr>\n",
       "      <th>3</th>\n",
       "      <td>47</td>\n",
       "      <td>49</td>\n",
       "      <td>43</td>\n",
       "      <td>60</td>\n",
       "    </tr>\n",
       "    <tr>\n",
       "      <th>4</th>\n",
       "      <td>60</td>\n",
       "      <td>40</td>\n",
       "      <td>35</td>\n",
       "      <td>66</td>\n",
       "    </tr>\n",
       "  </tbody>\n",
       "</table>\n",
       "</div>"
      ],
      "text/plain": [
       "y    1   2   3   4\n",
       "cl                \n",
       "0   56  46  36  60\n",
       "1   52  43  25  80\n",
       "2   74  38  32  58\n",
       "3   47  49  43  60\n",
       "4   60  40  35  66"
      ]
     },
     "execution_count": 388,
     "metadata": {},
     "output_type": "execute_result"
    },
    {
     "data": {
      "image/png": "[encoded data removed]",
      "text/plain": [
       "<matplotlib.figure.Figure at 0x1a24ef0e10>"
      ]
     },
     "metadata": {},
     "output_type": "display_data"
    }
   ],
   "source": [
    "#KMEAN\n",
    "# the following command results in creating of 2 clusters of `dnew` data\n",
    "kmeans = KMeans(n_clusters=5, random_state=0).fit(new)\n",
    "# cl are the assignments of points to one of the 5 clusters\n",
    "cl=kmeans.labels_\n",
    "# cen are the centers of the 4 clusters, obtained by finding the average of all examples assigned to the clusters\n",
    "cen=kmeans.cluster_centers_\n",
    "# plot the results\n",
    "colors=['red','green','blue','purple','black']\n",
    "plt.figure()\n",
    "#scatter column 1 and 2\n",
    "plt.scatter(new[:,0],new[:,1],c=cl, cmap=matplotlib.colors.ListedColormap(colors),s=100,facecolors='none')\n",
    "plt.scatter(cen[:,0],cen[:,1],s=130, marker=\"^\")\n",
    "plt.axis('equal')\n",
    "\n",
    "# cross-tabulation with the flower types\n",
    "crosstab(cl, y, rownames=['cl'], colnames=['y'])"
   ]
  },
  {
   "cell_type": "markdown",
   "metadata": {},
   "source": [
    "**1000**"
   ]
  },
  {
   "cell_type": "code",
   "execution_count": 389,
   "metadata": {},
   "outputs": [
    {
     "data": {
      "text/html": [
       "<div>\n",
       "<style>\n",
       "    .dataframe thead tr:only-child th {\n",
       "        text-align: right;\n",
       "    }\n",
       "\n",
       "    .dataframe thead th {\n",
       "        text-align: left;\n",
       "    }\n",
       "\n",
       "    .dataframe tbody tr th {\n",
       "        vertical-align: top;\n",
       "    }\n",
       "</style>\n",
       "<table border=\"1\" class=\"dataframe\">\n",
       "  <thead>\n",
       "    <tr style=\"text-align: right;\">\n",
       "      <th>y</th>\n",
       "      <th>1</th>\n",
       "      <th>2</th>\n",
       "      <th>3</th>\n",
       "      <th>4</th>\n",
       "    </tr>\n",
       "    <tr>\n",
       "      <th>cl</th>\n",
       "      <th></th>\n",
       "      <th></th>\n",
       "      <th></th>\n",
       "      <th></th>\n",
       "    </tr>\n",
       "  </thead>\n",
       "  <tbody>\n",
       "    <tr>\n",
       "      <th>1</th>\n",
       "      <td>64</td>\n",
       "      <td>45</td>\n",
       "      <td>37</td>\n",
       "      <td>84</td>\n",
       "    </tr>\n",
       "    <tr>\n",
       "      <th>2</th>\n",
       "      <td>69</td>\n",
       "      <td>47</td>\n",
       "      <td>44</td>\n",
       "      <td>85</td>\n",
       "    </tr>\n",
       "    <tr>\n",
       "      <th>3</th>\n",
       "      <td>49</td>\n",
       "      <td>33</td>\n",
       "      <td>33</td>\n",
       "      <td>55</td>\n",
       "    </tr>\n",
       "    <tr>\n",
       "      <th>4</th>\n",
       "      <td>45</td>\n",
       "      <td>25</td>\n",
       "      <td>32</td>\n",
       "      <td>40</td>\n",
       "    </tr>\n",
       "    <tr>\n",
       "      <th>5</th>\n",
       "      <td>52</td>\n",
       "      <td>52</td>\n",
       "      <td>35</td>\n",
       "      <td>74</td>\n",
       "    </tr>\n",
       "  </tbody>\n",
       "</table>\n",
       "</div>"
      ],
      "text/plain": [
       "y    1   2   3   4\n",
       "cl                \n",
       "1   64  45  37  84\n",
       "2   69  47  44  85\n",
       "3   49  33  33  55\n",
       "4   45  25  32  40\n",
       "5   52  52  35  74"
      ]
     },
     "execution_count": 389,
     "metadata": {},
     "output_type": "execute_result"
    },
    {
     "data": {
      "image/png": "[encoded data removed]",
      "text/plain": [
       "<matplotlib.figure.Figure at 0x1a1f45c9e8>"
      ]
     },
     "metadata": {},
     "output_type": "display_data"
    }
   ],
   "source": [
    "#generate number of index of documents matrix from 0 to documents.shape[0]\n",
    "randomIndex = random.sample(range(0, documents.shape[0]), 1000)\n",
    "#create documents numpy.narray by selected randome row with the randome index\n",
    "randomDocuments=documents[randomIndex,:]\n",
    "y=newsgroup[randomIndex]\n",
    "totalWord=np.sum(randomDocuments, axis=1)\n",
    "#create a list of index start from 0\n",
    "index = np.arange(totalWord.shape[0])\n",
    "index[0:totalWord.shape[0]]\n",
    "newTable=np.array(list(zip(index,totalWord)))\n",
    "A=range(0,1000)#number of row\n",
    "new = newTable[A,0:2]#row, #column\n",
    "# Build a dendrogram using single-linkage clustering and Euclidean distance\n",
    "Z = hierarchy.linkage(new,method = 'average', metric = 'euclidean')\n",
    "# Picks 3 clusters\n",
    "cl = hierarchy.fcluster(Z, 5, criterion='maxclust')\n",
    "plt.figure()\n",
    "colors=['red','blue','green','purple','black']\n",
    "plt.scatter(new[A,0],new[A,1],c=cl, cmap=matplotlib.colors.ListedColormap(colors),s=100,facecolors='none')\n",
    "# cross-tabulation with the flower types\n",
    "crosstab(cl, y , rownames=['cl'], colnames=['y'])"
   ]
  },
  {
   "cell_type": "code",
   "execution_count": 390,
   "metadata": {},
   "outputs": [
    {
     "data": {
      "text/html": [
       "<div>\n",
       "<style>\n",
       "    .dataframe thead tr:only-child th {\n",
       "        text-align: right;\n",
       "    }\n",
       "\n",
       "    .dataframe thead th {\n",
       "        text-align: left;\n",
       "    }\n",
       "\n",
       "    .dataframe tbody tr th {\n",
       "        vertical-align: top;\n",
       "    }\n",
       "</style>\n",
       "<table border=\"1\" class=\"dataframe\">\n",
       "  <thead>\n",
       "    <tr style=\"text-align: right;\">\n",
       "      <th>y</th>\n",
       "      <th>1</th>\n",
       "      <th>2</th>\n",
       "      <th>3</th>\n",
       "      <th>4</th>\n",
       "    </tr>\n",
       "    <tr>\n",
       "      <th>cl</th>\n",
       "      <th></th>\n",
       "      <th></th>\n",
       "      <th></th>\n",
       "      <th></th>\n",
       "    </tr>\n",
       "  </thead>\n",
       "  <tbody>\n",
       "    <tr>\n",
       "      <th>0</th>\n",
       "      <td>65</td>\n",
       "      <td>31</td>\n",
       "      <td>41</td>\n",
       "      <td>62</td>\n",
       "    </tr>\n",
       "    <tr>\n",
       "      <th>1</th>\n",
       "      <td>56</td>\n",
       "      <td>41</td>\n",
       "      <td>40</td>\n",
       "      <td>63</td>\n",
       "    </tr>\n",
       "    <tr>\n",
       "      <th>2</th>\n",
       "      <td>56</td>\n",
       "      <td>41</td>\n",
       "      <td>33</td>\n",
       "      <td>71</td>\n",
       "    </tr>\n",
       "    <tr>\n",
       "      <th>3</th>\n",
       "      <td>50</td>\n",
       "      <td>50</td>\n",
       "      <td>30</td>\n",
       "      <td>69</td>\n",
       "    </tr>\n",
       "    <tr>\n",
       "      <th>4</th>\n",
       "      <td>52</td>\n",
       "      <td>39</td>\n",
       "      <td>37</td>\n",
       "      <td>73</td>\n",
       "    </tr>\n",
       "  </tbody>\n",
       "</table>\n",
       "</div>"
      ],
      "text/plain": [
       "y    1   2   3   4\n",
       "cl                \n",
       "0   65  31  41  62\n",
       "1   56  41  40  63\n",
       "2   56  41  33  71\n",
       "3   50  50  30  69\n",
       "4   52  39  37  73"
      ]
     },
     "execution_count": 390,
     "metadata": {},
     "output_type": "execute_result"
    },
    {
     "data": {
      "image/png": "[encoded data removed]",
      "text/plain": [
       "<matplotlib.figure.Figure at 0x1a21dafeb8>"
      ]
     },
     "metadata": {},
     "output_type": "display_data"
    }
   ],
   "source": [
    "#KMEAN\n",
    "# the following command results in creating of 2 clusters of `dnew` data\n",
    "kmeans = KMeans(n_clusters=5, random_state=0).fit(new)\n",
    "# cl are the assignments of points to one of the 5 clusters\n",
    "cl=kmeans.labels_\n",
    "# cen are the centers of the 4 clusters, obtained by finding the average of all examples assigned to the clusters\n",
    "cen=kmeans.cluster_centers_\n",
    "# plot the results\n",
    "colors=['red','green','blue','purple','black']\n",
    "plt.figure()\n",
    "#scatter column 1 and 2\n",
    "plt.scatter(new[:,0],new[:,1],c=cl, cmap=matplotlib.colors.ListedColormap(colors),s=100,facecolors='none')\n",
    "plt.scatter(cen[:,0],cen[:,1],s=130, marker=\"^\")\n",
    "plt.axis('equal')\n",
    "\n",
    "# cross-tabulation with the flower types\n",
    "crosstab(cl, y, rownames=['cl'], colnames=['y'])"
   ]
  },
  {
   "cell_type": "markdown",
   "metadata": {},
   "source": [
    "**2000**"
   ]
  },
  {
   "cell_type": "code",
   "execution_count": 391,
   "metadata": {},
   "outputs": [
    {
     "data": {
      "text/html": [
       "<div>\n",
       "<style>\n",
       "    .dataframe thead tr:only-child th {\n",
       "        text-align: right;\n",
       "    }\n",
       "\n",
       "    .dataframe thead th {\n",
       "        text-align: left;\n",
       "    }\n",
       "\n",
       "    .dataframe tbody tr th {\n",
       "        vertical-align: top;\n",
       "    }\n",
       "</style>\n",
       "<table border=\"1\" class=\"dataframe\">\n",
       "  <thead>\n",
       "    <tr style=\"text-align: right;\">\n",
       "      <th>y</th>\n",
       "      <th>1</th>\n",
       "      <th>2</th>\n",
       "      <th>3</th>\n",
       "      <th>4</th>\n",
       "    </tr>\n",
       "    <tr>\n",
       "      <th>cl</th>\n",
       "      <th></th>\n",
       "      <th></th>\n",
       "      <th></th>\n",
       "      <th></th>\n",
       "    </tr>\n",
       "  </thead>\n",
       "  <tbody>\n",
       "    <tr>\n",
       "      <th>1</th>\n",
       "      <td>118</td>\n",
       "      <td>77</td>\n",
       "      <td>60</td>\n",
       "      <td>134</td>\n",
       "    </tr>\n",
       "    <tr>\n",
       "      <th>2</th>\n",
       "      <td>131</td>\n",
       "      <td>107</td>\n",
       "      <td>74</td>\n",
       "      <td>153</td>\n",
       "    </tr>\n",
       "    <tr>\n",
       "      <th>3</th>\n",
       "      <td>130</td>\n",
       "      <td>114</td>\n",
       "      <td>74</td>\n",
       "      <td>155</td>\n",
       "    </tr>\n",
       "    <tr>\n",
       "      <th>4</th>\n",
       "      <td>210</td>\n",
       "      <td>137</td>\n",
       "      <td>107</td>\n",
       "      <td>219</td>\n",
       "    </tr>\n",
       "  </tbody>\n",
       "</table>\n",
       "</div>"
      ],
      "text/plain": [
       "y     1    2    3    4\n",
       "cl                    \n",
       "1   118   77   60  134\n",
       "2   131  107   74  153\n",
       "3   130  114   74  155\n",
       "4   210  137  107  219"
      ]
     },
     "execution_count": 391,
     "metadata": {},
     "output_type": "execute_result"
    },
    {
     "data": {
      "image/png": "[encoded data removed]",
      "text/plain": [
       "<matplotlib.figure.Figure at 0x1a218de940>"
      ]
     },
     "metadata": {},
     "output_type": "display_data"
    }
   ],
   "source": [
    "#generate number of index of documents matrix from 0 to documents.shape[0]\n",
    "randomIndex = random.sample(range(0, documents.shape[0]), 2000)\n",
    "#create documents numpy.narray by selected randome row with the randome index\n",
    "randomDocuments=documents[randomIndex,:]\n",
    "y=newsgroup[randomIndex]\n",
    "totalWord=np.sum(randomDocuments, axis=1)\n",
    "#create a list of index start from 0\n",
    "index = np.arange(totalWord.shape[0])\n",
    "index[0:totalWord.shape[0]]\n",
    "newTable=np.array(list(zip(index,totalWord)))\n",
    "A=range(0,2000)#number of row\n",
    "new = newTable[A,0:2]#row, #column\n",
    "# Build a dendrogram using single-linkage clustering and Euclidean distance\n",
    "Z = hierarchy.linkage(new,method = 'average', metric = 'euclidean')\n",
    "# Picks 3 clusters\n",
    "cl = hierarchy.fcluster(Z, 4, criterion='maxclust')\n",
    "plt.figure()\n",
    "colors=['red','blue','green','purple','black']\n",
    "plt.scatter(new[A,0],new[A,1],c=cl, cmap=matplotlib.colors.ListedColormap(colors),s=100,facecolors='none')\n",
    "# cross-tabulation with the flower types\n",
    "crosstab(cl, y , rownames=['cl'], colnames=['y'])"
   ]
  },
  {
   "cell_type": "code",
   "execution_count": 392,
   "metadata": {},
   "outputs": [
    {
     "data": {
      "text/html": [
       "<div>\n",
       "<style>\n",
       "    .dataframe thead tr:only-child th {\n",
       "        text-align: right;\n",
       "    }\n",
       "\n",
       "    .dataframe thead th {\n",
       "        text-align: left;\n",
       "    }\n",
       "\n",
       "    .dataframe tbody tr th {\n",
       "        vertical-align: top;\n",
       "    }\n",
       "</style>\n",
       "<table border=\"1\" class=\"dataframe\">\n",
       "  <thead>\n",
       "    <tr style=\"text-align: right;\">\n",
       "      <th>y</th>\n",
       "      <th>1</th>\n",
       "      <th>2</th>\n",
       "      <th>3</th>\n",
       "      <th>4</th>\n",
       "    </tr>\n",
       "    <tr>\n",
       "      <th>cl</th>\n",
       "      <th></th>\n",
       "      <th></th>\n",
       "      <th></th>\n",
       "      <th></th>\n",
       "    </tr>\n",
       "  </thead>\n",
       "  <tbody>\n",
       "    <tr>\n",
       "      <th>0</th>\n",
       "      <td>147</td>\n",
       "      <td>101</td>\n",
       "      <td>77</td>\n",
       "      <td>172</td>\n",
       "    </tr>\n",
       "    <tr>\n",
       "      <th>1</th>\n",
       "      <td>158</td>\n",
       "      <td>96</td>\n",
       "      <td>89</td>\n",
       "      <td>161</td>\n",
       "    </tr>\n",
       "    <tr>\n",
       "      <th>2</th>\n",
       "      <td>138</td>\n",
       "      <td>116</td>\n",
       "      <td>86</td>\n",
       "      <td>158</td>\n",
       "    </tr>\n",
       "    <tr>\n",
       "      <th>3</th>\n",
       "      <td>146</td>\n",
       "      <td>122</td>\n",
       "      <td>63</td>\n",
       "      <td>170</td>\n",
       "    </tr>\n",
       "  </tbody>\n",
       "</table>\n",
       "</div>"
      ],
      "text/plain": [
       "y     1    2   3    4\n",
       "cl                   \n",
       "0   147  101  77  172\n",
       "1   158   96  89  161\n",
       "2   138  116  86  158\n",
       "3   146  122  63  170"
      ]
     },
     "execution_count": 392,
     "metadata": {},
     "output_type": "execute_result"
    },
    {
     "data": {
      "image/png": "[encoded data removed]",
      "text/plain": [
       "<matplotlib.figure.Figure at 0x1a2108f668>"
      ]
     },
     "metadata": {},
     "output_type": "display_data"
    }
   ],
   "source": [
    "#KMEAN\n",
    "# the following command results in creating of 2 clusters of `dnew` data\n",
    "kmeans = KMeans(n_clusters=4, random_state=0).fit(new)\n",
    "# cl are the assignments of points to one of the 5 clusters\n",
    "cl=kmeans.labels_\n",
    "# cen are the centers of the 4 clusters, obtained by finding the average of all examples assigned to the clusters\n",
    "cen=kmeans.cluster_centers_\n",
    "# plot the results\n",
    "colors=['red','green','blue','purple','black']\n",
    "plt.figure()\n",
    "#scatter column 1 and 2\n",
    "plt.scatter(new[:,0],new[:,1],c=cl, cmap=matplotlib.colors.ListedColormap(colors),s=100,facecolors='none')\n",
    "plt.scatter(cen[:,0],cen[:,1],s=130, marker=\"^\")\n",
    "plt.axis('equal')\n",
    "\n",
    "# cross-tabulation with the flower types\n",
    "crosstab(cl, y, rownames=['cl'], colnames=['y'])"
   ]
  },
  {
   "cell_type": "markdown",
   "metadata": {},
   "source": [
    "**5000**"
   ]
  },
  {
   "cell_type": "code",
   "execution_count": 393,
   "metadata": {},
   "outputs": [
    {
     "data": {
      "text/html": [
       "<div>\n",
       "<style>\n",
       "    .dataframe thead tr:only-child th {\n",
       "        text-align: right;\n",
       "    }\n",
       "\n",
       "    .dataframe thead th {\n",
       "        text-align: left;\n",
       "    }\n",
       "\n",
       "    .dataframe tbody tr th {\n",
       "        vertical-align: top;\n",
       "    }\n",
       "</style>\n",
       "<table border=\"1\" class=\"dataframe\">\n",
       "  <thead>\n",
       "    <tr style=\"text-align: right;\">\n",
       "      <th>y</th>\n",
       "      <th>1</th>\n",
       "      <th>2</th>\n",
       "      <th>3</th>\n",
       "      <th>4</th>\n",
       "    </tr>\n",
       "    <tr>\n",
       "      <th>cl</th>\n",
       "      <th></th>\n",
       "      <th></th>\n",
       "      <th></th>\n",
       "      <th></th>\n",
       "    </tr>\n",
       "  </thead>\n",
       "  <tbody>\n",
       "    <tr>\n",
       "      <th>1</th>\n",
       "      <td>234</td>\n",
       "      <td>199</td>\n",
       "      <td>135</td>\n",
       "      <td>285</td>\n",
       "    </tr>\n",
       "    <tr>\n",
       "      <th>2</th>\n",
       "      <td>355</td>\n",
       "      <td>261</td>\n",
       "      <td>212</td>\n",
       "      <td>426</td>\n",
       "    </tr>\n",
       "    <tr>\n",
       "      <th>3</th>\n",
       "      <td>328</td>\n",
       "      <td>252</td>\n",
       "      <td>222</td>\n",
       "      <td>411</td>\n",
       "    </tr>\n",
       "    <tr>\n",
       "      <th>4</th>\n",
       "      <td>490</td>\n",
       "      <td>333</td>\n",
       "      <td>287</td>\n",
       "      <td>570</td>\n",
       "    </tr>\n",
       "  </tbody>\n",
       "</table>\n",
       "</div>"
      ],
      "text/plain": [
       "y     1    2    3    4\n",
       "cl                    \n",
       "1   234  199  135  285\n",
       "2   355  261  212  426\n",
       "3   328  252  222  411\n",
       "4   490  333  287  570"
      ]
     },
     "execution_count": 393,
     "metadata": {},
     "output_type": "execute_result"
    },
    {
     "data": {
      "image/png": "[encoded data removed]",
      "text/plain": [
       "<matplotlib.figure.Figure at 0x1a1ee51278>"
      ]
     },
     "metadata": {},
     "output_type": "display_data"
    }
   ],
   "source": [
    "#generate number of index of documents matrix from 0 to documents.shape[0]\n",
    "randomIndex = random.sample(range(0, documents.shape[0]), 5000)\n",
    "#create documents numpy.narray by selected randome row with the randome index\n",
    "randomDocuments=documents[randomIndex,:]\n",
    "y=newsgroup[randomIndex]\n",
    "totalWord=np.sum(randomDocuments, axis=1)\n",
    "#create a list of index start from 0\n",
    "index = np.arange(totalWord.shape[0])\n",
    "index[0:totalWord.shape[0]]\n",
    "newTable=np.array(list(zip(index,totalWord)))\n",
    "A=range(0,5000)#number of row\n",
    "new = newTable[A,0:2]#row, #column\n",
    "# Build a dendrogram using single-linkage clustering and Euclidean distance\n",
    "Z = hierarchy.linkage(new,method = 'average', metric = 'euclidean')\n",
    "# Picks 3 clusters\n",
    "cl = hierarchy.fcluster(Z, 4, criterion='maxclust')\n",
    "plt.figure()\n",
    "colors=['red','blue','green','purple','black']\n",
    "plt.scatter(new[A,0],new[A,1],c=cl, cmap=matplotlib.colors.ListedColormap(colors),s=100,facecolors='none')\n",
    "# cross-tabulation with the flower types\n",
    "crosstab(cl, y , rownames=['cl'], colnames=['y'])"
   ]
  },
  {
   "cell_type": "code",
   "execution_count": 394,
   "metadata": {},
   "outputs": [
    {
     "data": {
      "text/html": [
       "<div>\n",
       "<style>\n",
       "    .dataframe thead tr:only-child th {\n",
       "        text-align: right;\n",
       "    }\n",
       "\n",
       "    .dataframe thead th {\n",
       "        text-align: left;\n",
       "    }\n",
       "\n",
       "    .dataframe tbody tr th {\n",
       "        vertical-align: top;\n",
       "    }\n",
       "</style>\n",
       "<table border=\"1\" class=\"dataframe\">\n",
       "  <thead>\n",
       "    <tr style=\"text-align: right;\">\n",
       "      <th>y</th>\n",
       "      <th>1</th>\n",
       "      <th>2</th>\n",
       "      <th>3</th>\n",
       "      <th>4</th>\n",
       "    </tr>\n",
       "    <tr>\n",
       "      <th>cl</th>\n",
       "      <th></th>\n",
       "      <th></th>\n",
       "      <th></th>\n",
       "      <th></th>\n",
       "    </tr>\n",
       "  </thead>\n",
       "  <tbody>\n",
       "    <tr>\n",
       "      <th>0</th>\n",
       "      <td>333</td>\n",
       "      <td>257</td>\n",
       "      <td>227</td>\n",
       "      <td>420</td>\n",
       "    </tr>\n",
       "    <tr>\n",
       "      <th>1</th>\n",
       "      <td>357</td>\n",
       "      <td>278</td>\n",
       "      <td>207</td>\n",
       "      <td>421</td>\n",
       "    </tr>\n",
       "    <tr>\n",
       "      <th>2</th>\n",
       "      <td>365</td>\n",
       "      <td>252</td>\n",
       "      <td>206</td>\n",
       "      <td>422</td>\n",
       "    </tr>\n",
       "    <tr>\n",
       "      <th>3</th>\n",
       "      <td>352</td>\n",
       "      <td>258</td>\n",
       "      <td>216</td>\n",
       "      <td>429</td>\n",
       "    </tr>\n",
       "  </tbody>\n",
       "</table>\n",
       "</div>"
      ],
      "text/plain": [
       "y     1    2    3    4\n",
       "cl                    \n",
       "0   333  257  227  420\n",
       "1   357  278  207  421\n",
       "2   365  252  206  422\n",
       "3   352  258  216  429"
      ]
     },
     "execution_count": 394,
     "metadata": {},
     "output_type": "execute_result"
    },
    {
     "data": {
      "image/png": "[encoded data removed]",
      "text/plain": [
       "<matplotlib.figure.Figure at 0x1a2163def0>"
      ]
     },
     "metadata": {},
     "output_type": "display_data"
    }
   ],
   "source": [
    "#KMEAN\n",
    "# the following command results in creating of 2 clusters of `dnew` data\n",
    "kmeans = KMeans(n_clusters=4, random_state=0).fit(new)\n",
    "# cl are the assignments of points to one of the 5 clusters\n",
    "cl=kmeans.labels_\n",
    "# cen are the centers of the 4 clusters, obtained by finding the average of all examples assigned to the clusters\n",
    "cen=kmeans.cluster_centers_\n",
    "# plot the results\n",
    "colors=['red','green','blue','purple','black']\n",
    "plt.figure()\n",
    "#scatter column 1 and 2\n",
    "plt.scatter(new[:,0],new[:,1],c=cl, cmap=matplotlib.colors.ListedColormap(colors),s=100,facecolors='none')\n",
    "plt.scatter(cen[:,0],cen[:,1],s=130, marker=\"^\")\n",
    "plt.axis('equal')\n",
    "\n",
    "# cross-tabulation with the flower types\n",
    "crosstab(cl, y, rownames=['cl'], colnames=['y'])"
   ]
  },
  {
   "cell_type": "markdown",
   "metadata": {},
   "source": [
    "- The quality of the data sample get better as the size of the data get bigger.\n",
    "- However the data is not linear reperatable , therefore, any algorithm will fail separate the data point.\n",
    "- With this type of non linear reperatable, we need to use other futher technique to analyze and represent the data "
   ]
  },
  {
   "cell_type": "code",
   "execution_count": null,
   "metadata": {
    "collapsed": true
   },
   "outputs": [],
   "source": []
  }
 ],
 "metadata": {
  "anaconda-cloud": {},
  "kernelspec": {
   "display_name": "Python 2",
   "language": "python",
   "name": "python2"
  },
  "language_info": {
   "codemirror_mode": {
    "name": "ipython",
    "version": 2
   },
   "file_extension": ".py",
   "mimetype": "text/x-python",
   "name": "python",
   "nbconvert_exporter": "python",
   "pygments_lexer": "ipython2",
   "version": "2.7.14"
  }
 },
 "nbformat": 4,
 "nbformat_minor": 1
}
