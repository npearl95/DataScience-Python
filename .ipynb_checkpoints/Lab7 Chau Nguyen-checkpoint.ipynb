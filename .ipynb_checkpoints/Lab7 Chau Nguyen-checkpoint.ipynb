{
 "cells": [
  {
   "cell_type": "markdown",
   "metadata": {},
   "source": [
    "# Lab 7: Supervised Learning - k-Nearest Neighbor (kNN) Algorithm \n",
    "\n",
    "In this lab, we will make first steps in doint supervised learning. in particular, we will learn about the k-Nearest Neighbor (kNN) algorithm. kNN uses a simple idea: \"you are what your neighbors are\". This idea work quite well in data science. In the first part of the lab, we will cover some background needed to understand the kNN algorithm. In the second part, you will be asked to apply your knowledge on another data set. \n",
    "\n",
    "## Lab 7.A: kNN Tutorial with Questions (50% of grade)\n",
    "\n",
    "As usual, let us start by importing the needed libraries. We will continue using the sklearn library, which implements many of the most popular data science algorithms. "
   ]
  },
  {
   "cell_type": "code",
   "execution_count": 1,
   "metadata": {
    "collapsed": true
   },
   "outputs": [],
   "source": [
    "import numpy as np\n",
    "import matplotlib.pyplot as plt\n",
    "from matplotlib.colors import ListedColormap\n",
    "from sklearn import neighbors, datasets"
   ]
  },
  {
   "cell_type": "markdown",
   "metadata": {},
   "source": [
    "Let us load the Iris data set using a sklearn function `load_iris`."
   ]
  },
  {
   "cell_type": "code",
   "execution_count": 2,
   "metadata": {
    "collapsed": true
   },
   "outputs": [],
   "source": [
    "iris = datasets.load_iris()"
   ]
  },
  {
   "cell_type": "markdown",
   "metadata": {},
   "source": [
    "As you can see from http://scikit-learn.org/stable/modules/generated/sklearn.datasets.load_iris.html, `iris` is an object with attributes `data` (a 150x4 matrix, where $i$-th row are 4 attributes of the $i$-th flower), `feature_names` (the names of the 4 attributes -- remember that in data science \"attribute\" and \"feature\" means the same thing), `target` (a vector of length 150, where $i$-th number is the type of the $i$-th flower -- in data science people often say \"label\" instead of \"target\"), `target_names` (these are strings explaining what each of the 3 types of flowers are), and `DESCR` (giving some information about the Iris data set). Let us list them all "
   ]
  },
  {
   "cell_type": "code",
   "execution_count": 3,
   "metadata": {},
   "outputs": [
    {
     "name": "stdout",
     "output_type": "stream",
     "text": [
      "Iris Plants Database\n",
      "====================\n",
      "\n",
      "Notes\n",
      "-----\n",
      "Data Set Characteristics:\n",
      "    :Number of Instances: 150 (50 in each of three classes)\n",
      "    :Number of Attributes: 4 numeric, predictive attributes and the class\n",
      "    :Attribute Information:\n",
      "        - sepal length in cm\n",
      "        - sepal width in cm\n",
      "        - petal length in cm\n",
      "        - petal width in cm\n",
      "        - class:\n",
      "                - Iris-Setosa\n",
      "                - Iris-Versicolour\n",
      "                - Iris-Virginica\n",
      "    :Summary Statistics:\n",
      "\n",
      "    ============== ==== ==== ======= ===== ====================\n",
      "                    Min  Max   Mean    SD   Class Correlation\n",
      "    ============== ==== ==== ======= ===== ====================\n",
      "    sepal length:   4.3  7.9   5.84   0.83    0.7826\n",
      "    sepal width:    2.0  4.4   3.05   0.43   -0.4194\n",
      "    petal length:   1.0  6.9   3.76   1.76    0.9490  (high!)\n",
      "    petal width:    0.1  2.5   1.20  0.76     0.9565  (high!)\n",
      "    ============== ==== ==== ======= ===== ====================\n",
      "\n",
      "    :Missing Attribute Values: None\n",
      "    :Class Distribution: 33.3% for each of 3 classes.\n",
      "    :Creator: R.A. Fisher\n",
      "    :Donor: Michael Marshall (MARSHALL%PLU@io.arc.nasa.gov)\n",
      "    :Date: July, 1988\n",
      "\n",
      "This is a copy of UCI ML iris datasets.\n",
      "http://archive.ics.uci.edu/ml/datasets/Iris\n",
      "\n",
      "The famous Iris database, first used by Sir R.A Fisher\n",
      "\n",
      "This is perhaps the best known database to be found in the\n",
      "pattern recognition literature.  Fisher's paper is a classic in the field and\n",
      "is referenced frequently to this day.  (See Duda & Hart, for example.)  The\n",
      "data set contains 3 classes of 50 instances each, where each class refers to a\n",
      "type of iris plant.  One class is linearly separable from the other 2; the\n",
      "latter are NOT linearly separable from each other.\n",
      "\n",
      "References\n",
      "----------\n",
      "   - Fisher,R.A. \"The use of multiple measurements in taxonomic problems\"\n",
      "     Annual Eugenics, 7, Part II, 179-188 (1936); also in \"Contributions to\n",
      "     Mathematical Statistics\" (John Wiley, NY, 1950).\n",
      "   - Duda,R.O., & Hart,P.E. (1973) Pattern Classification and Scene Analysis.\n",
      "     (Q327.D83) John Wiley & Sons.  ISBN 0-471-22361-1.  See page 218.\n",
      "   - Dasarathy, B.V. (1980) \"Nosing Around the Neighborhood: A New System\n",
      "     Structure and Classification Rule for Recognition in Partially Exposed\n",
      "     Environments\".  IEEE Transactions on Pattern Analysis and Machine\n",
      "     Intelligence, Vol. PAMI-2, No. 1, 67-71.\n",
      "   - Gates, G.W. (1972) \"The Reduced Nearest Neighbor Rule\".  IEEE Transactions\n",
      "     on Information Theory, May 1972, 431-433.\n",
      "   - See also: 1988 MLC Proceedings, 54-64.  Cheeseman et al\"s AUTOCLASS II\n",
      "     conceptual clustering system finds 3 classes in the data.\n",
      "   - Many, many more ...\n",
      "\n",
      "[[5.1 3.5 1.4 0.2]\n",
      " [4.9 3.  1.4 0.2]\n",
      " [4.7 3.2 1.3 0.2]\n",
      " [4.6 3.1 1.5 0.2]\n",
      " [5.  3.6 1.4 0.2]\n",
      " [5.4 3.9 1.7 0.4]\n",
      " [4.6 3.4 1.4 0.3]\n",
      " [5.  3.4 1.5 0.2]\n",
      " [4.4 2.9 1.4 0.2]\n",
      " [4.9 3.1 1.5 0.1]\n",
      " [5.4 3.7 1.5 0.2]\n",
      " [4.8 3.4 1.6 0.2]\n",
      " [4.8 3.  1.4 0.1]\n",
      " [4.3 3.  1.1 0.1]\n",
      " [5.8 4.  1.2 0.2]\n",
      " [5.7 4.4 1.5 0.4]\n",
      " [5.4 3.9 1.3 0.4]\n",
      " [5.1 3.5 1.4 0.3]\n",
      " [5.7 3.8 1.7 0.3]\n",
      " [5.1 3.8 1.5 0.3]\n",
      " [5.4 3.4 1.7 0.2]\n",
      " [5.1 3.7 1.5 0.4]\n",
      " [4.6 3.6 1.  0.2]\n",
      " [5.1 3.3 1.7 0.5]\n",
      " [4.8 3.4 1.9 0.2]\n",
      " [5.  3.  1.6 0.2]\n",
      " [5.  3.4 1.6 0.4]\n",
      " [5.2 3.5 1.5 0.2]\n",
      " [5.2 3.4 1.4 0.2]\n",
      " [4.7 3.2 1.6 0.2]\n",
      " [4.8 3.1 1.6 0.2]\n",
      " [5.4 3.4 1.5 0.4]\n",
      " [5.2 4.1 1.5 0.1]\n",
      " [5.5 4.2 1.4 0.2]\n",
      " [4.9 3.1 1.5 0.1]\n",
      " [5.  3.2 1.2 0.2]\n",
      " [5.5 3.5 1.3 0.2]\n",
      " [4.9 3.1 1.5 0.1]\n",
      " [4.4 3.  1.3 0.2]\n",
      " [5.1 3.4 1.5 0.2]\n",
      " [5.  3.5 1.3 0.3]\n",
      " [4.5 2.3 1.3 0.3]\n",
      " [4.4 3.2 1.3 0.2]\n",
      " [5.  3.5 1.6 0.6]\n",
      " [5.1 3.8 1.9 0.4]\n",
      " [4.8 3.  1.4 0.3]\n",
      " [5.1 3.8 1.6 0.2]\n",
      " [4.6 3.2 1.4 0.2]\n",
      " [5.3 3.7 1.5 0.2]\n",
      " [5.  3.3 1.4 0.2]\n",
      " [7.  3.2 4.7 1.4]\n",
      " [6.4 3.2 4.5 1.5]\n",
      " [6.9 3.1 4.9 1.5]\n",
      " [5.5 2.3 4.  1.3]\n",
      " [6.5 2.8 4.6 1.5]\n",
      " [5.7 2.8 4.5 1.3]\n",
      " [6.3 3.3 4.7 1.6]\n",
      " [4.9 2.4 3.3 1. ]\n",
      " [6.6 2.9 4.6 1.3]\n",
      " [5.2 2.7 3.9 1.4]\n",
      " [5.  2.  3.5 1. ]\n",
      " [5.9 3.  4.2 1.5]\n",
      " [6.  2.2 4.  1. ]\n",
      " [6.1 2.9 4.7 1.4]\n",
      " [5.6 2.9 3.6 1.3]\n",
      " [6.7 3.1 4.4 1.4]\n",
      " [5.6 3.  4.5 1.5]\n",
      " [5.8 2.7 4.1 1. ]\n",
      " [6.2 2.2 4.5 1.5]\n",
      " [5.6 2.5 3.9 1.1]\n",
      " [5.9 3.2 4.8 1.8]\n",
      " [6.1 2.8 4.  1.3]\n",
      " [6.3 2.5 4.9 1.5]\n",
      " [6.1 2.8 4.7 1.2]\n",
      " [6.4 2.9 4.3 1.3]\n",
      " [6.6 3.  4.4 1.4]\n",
      " [6.8 2.8 4.8 1.4]\n",
      " [6.7 3.  5.  1.7]\n",
      " [6.  2.9 4.5 1.5]\n",
      " [5.7 2.6 3.5 1. ]\n",
      " [5.5 2.4 3.8 1.1]\n",
      " [5.5 2.4 3.7 1. ]\n",
      " [5.8 2.7 3.9 1.2]\n",
      " [6.  2.7 5.1 1.6]\n",
      " [5.4 3.  4.5 1.5]\n",
      " [6.  3.4 4.5 1.6]\n",
      " [6.7 3.1 4.7 1.5]\n",
      " [6.3 2.3 4.4 1.3]\n",
      " [5.6 3.  4.1 1.3]\n",
      " [5.5 2.5 4.  1.3]\n",
      " [5.5 2.6 4.4 1.2]\n",
      " [6.1 3.  4.6 1.4]\n",
      " [5.8 2.6 4.  1.2]\n",
      " [5.  2.3 3.3 1. ]\n",
      " [5.6 2.7 4.2 1.3]\n",
      " [5.7 3.  4.2 1.2]\n",
      " [5.7 2.9 4.2 1.3]\n",
      " [6.2 2.9 4.3 1.3]\n",
      " [5.1 2.5 3.  1.1]\n",
      " [5.7 2.8 4.1 1.3]\n",
      " [6.3 3.3 6.  2.5]\n",
      " [5.8 2.7 5.1 1.9]\n",
      " [7.1 3.  5.9 2.1]\n",
      " [6.3 2.9 5.6 1.8]\n",
      " [6.5 3.  5.8 2.2]\n",
      " [7.6 3.  6.6 2.1]\n",
      " [4.9 2.5 4.5 1.7]\n",
      " [7.3 2.9 6.3 1.8]\n",
      " [6.7 2.5 5.8 1.8]\n",
      " [7.2 3.6 6.1 2.5]\n",
      " [6.5 3.2 5.1 2. ]\n",
      " [6.4 2.7 5.3 1.9]\n",
      " [6.8 3.  5.5 2.1]\n",
      " [5.7 2.5 5.  2. ]\n",
      " [5.8 2.8 5.1 2.4]\n",
      " [6.4 3.2 5.3 2.3]\n",
      " [6.5 3.  5.5 1.8]\n",
      " [7.7 3.8 6.7 2.2]\n",
      " [7.7 2.6 6.9 2.3]\n",
      " [6.  2.2 5.  1.5]\n",
      " [6.9 3.2 5.7 2.3]\n",
      " [5.6 2.8 4.9 2. ]\n",
      " [7.7 2.8 6.7 2. ]\n",
      " [6.3 2.7 4.9 1.8]\n",
      " [6.7 3.3 5.7 2.1]\n",
      " [7.2 3.2 6.  1.8]\n",
      " [6.2 2.8 4.8 1.8]\n",
      " [6.1 3.  4.9 1.8]\n",
      " [6.4 2.8 5.6 2.1]\n",
      " [7.2 3.  5.8 1.6]\n",
      " [7.4 2.8 6.1 1.9]\n",
      " [7.9 3.8 6.4 2. ]\n",
      " [6.4 2.8 5.6 2.2]\n",
      " [6.3 2.8 5.1 1.5]\n",
      " [6.1 2.6 5.6 1.4]\n",
      " [7.7 3.  6.1 2.3]\n",
      " [6.3 3.4 5.6 2.4]\n",
      " [6.4 3.1 5.5 1.8]\n",
      " [6.  3.  4.8 1.8]\n",
      " [6.9 3.1 5.4 2.1]\n",
      " [6.7 3.1 5.6 2.4]\n",
      " [6.9 3.1 5.1 2.3]\n",
      " [5.8 2.7 5.1 1.9]\n",
      " [6.8 3.2 5.9 2.3]\n",
      " [6.7 3.3 5.7 2.5]\n",
      " [6.7 3.  5.2 2.3]\n",
      " [6.3 2.5 5.  1.9]\n",
      " [6.5 3.  5.2 2. ]\n",
      " [6.2 3.4 5.4 2.3]\n",
      " [5.9 3.  5.1 1.8]]\n",
      "['sepal length (cm)', 'sepal width (cm)', 'petal length (cm)', 'petal width (cm)']\n",
      "[0 0 0 0 0 0 0 0 0 0 0 0 0 0 0 0 0 0 0 0 0 0 0 0 0 0 0 0 0 0 0 0 0 0 0 0 0\n",
      " 0 0 0 0 0 0 0 0 0 0 0 0 0 1 1 1 1 1 1 1 1 1 1 1 1 1 1 1 1 1 1 1 1 1 1 1 1\n",
      " 1 1 1 1 1 1 1 1 1 1 1 1 1 1 1 1 1 1 1 1 1 1 1 1 1 1 2 2 2 2 2 2 2 2 2 2 2\n",
      " 2 2 2 2 2 2 2 2 2 2 2 2 2 2 2 2 2 2 2 2 2 2 2 2 2 2 2 2 2 2 2 2 2 2 2 2 2\n",
      " 2 2]\n",
      "['setosa' 'versicolor' 'virginica']\n"
     ]
    }
   ],
   "source": [
    "print iris.DESCR\n",
    "print iris.data\n",
    "print iris.feature_names\n",
    "print iris.target\n",
    "print iris.target_names"
   ]
  },
  {
   "cell_type": "markdown",
   "metadata": {},
   "source": [
    "So, we can see that the attributes of the second flower are `[4.9, 3.0, 1.4, 0.2]`, which means its `sepal_length` is 4.9 cm, `sepal_width` is 3.0 cm, `petal_length` is 1.4 cm, and `petal_width` is 0.2 cm. We will write it matematically as $x_2 = [x_{21}, x_{22}, x_{23}, x_{24}] = [4.9, 3.0, 1.4, 0.2]$. We see that its `target` is 0, which means the type of this iris is `setosa`. We will write it matematically as $y_2 = 0$. All this information was obtained by real botanists who studied iris flowers trying to understand the physical measurements that discriminate between the 3 different types of those flowers.\n",
    "\n",
    "In data science, people like to denote this data set as $D_{Iris} = \\{(x_i, y_i), i = 1, 2 ... 150\\}$, meaning that data set $D_{Iris}$ is a set of 150 labeled examples $(x_i, y_i)$. An alternative is to write $D_{Iris} = \\{X_{Iris}, Y_{Iris}\\}$.\n",
    "\n",
    "### Supervised Learning\n",
    "Supervised learning is a game with the following objective. You are given the iris data set $D_{Iris}$ where you know 4 attributes and target values for 150 irises and your objective is to come up with a computer program that predicts a type of any iris flower given the values of its 4 attributes. Written in pseudocode, this is what you have to do:\n",
    "\n",
    "`predictor = create(algorithm_type, D)\n",
    "y_new = predictor(x_new)`\n",
    "\n",
    "In the first line, you are running a `create` function that takes as input data set `D` and the name of a supervised learning algorithm `algorithm_type` and produces as an output a computer program `predictor`. In the second line, you are using `predictor` to predict the label (`y_new` value) for a flower whose attributes are given by `x_new`.\n",
    "\n",
    "### kNN Algorithm\n",
    "kNN is a popular supervised learning algorithm that allows us to create `predictor`. The idea of kNN is that the label of flower `x_new` depends on labels of flowers in its neighborhood. In particular, kNN finds the distance between `x_new` and every example `x` in data set `D`. Then, it looks at the label `y` of k examples which are the closest to `x_new`. The predicted label `y_new` is obtained as the most common label in the group of the k nearest neighbors.\n",
    "\n",
    "**Parameter choice**. We need to make a few decisions when running kNN. The most important is the choice of `k`. If `k = 1`, then we are looking only at the hearest neighbor and it might not be a good idea if we are dealing with noisy data. If `k` is very large, then we might be counting far neighbors that might have different properties. Other decisions include the choice of distance metric (Euclidean is the standard one) and the choice whether to weight closer neighbors more than the farther ones.\n",
    "\n",
    "**Accuracy**. When deciding which parameters to pick or which supervised learning algorithm to use (there are popular algorithms other than kNN), the question is how to measure which choice is better. The answer is to check if `predictor` provides accurate prediction. Given a data set `D`, a typical way to check accuracy is to randomly split `D` into two data sets, `D_train` and `D_test`. Then, `predictor` is created/trained using `D_train` data set and its accuracy is checked using `D_test`. In particular, we use `predictor` to predict label of every example from `D_test` and compare it with the true labels. The percentage of the correct guesses on `D_test` is reported as accuracy of `predictor`.\n",
    "\n",
    "## kNN Demo\n",
    "The following piece of code is taken from:\n",
    "http://scikit-learn.org/stable/auto_examples/neighbors/plot_classification.html#sphx-glr-auto-examples-neighbors-plot-classification-py. Let us run it."
   ]
  },
  {
   "cell_type": "code",
   "execution_count": 4,
   "metadata": {},
   "outputs": [
    {
     "data": {
      "image/png": "[encoded data removed]",
      "text/plain": [
       "<matplotlib.figure.Figure at 0x11479f110>"
      ]
     },
     "metadata": {},
     "output_type": "display_data"
    }
   ],
   "source": [
    "k = 25   # how many nearest neighbors are consulted\n",
    "\n",
    "X = iris.data[:, [0,1]]  # we only take the first two features. We could\n",
    "y = iris.target\n",
    "\n",
    "h = .02  # step size in the mesh\n",
    "\n",
    "# Create color maps\n",
    "cmap_light = ListedColormap(['#FFAAAA', '#AAFFAA', '#AAAAFF'])\n",
    "cmap_bold = ListedColormap(['#FF0000', '#00FF00', '#0000FF'])\n",
    "\n",
    "# we create an instance of Neighbours Classifier and fit the data.\n",
    "clf = neighbors.KNeighborsClassifier(k, weights='uniform')\n",
    "clf.fit(X, y)\n",
    "\n",
    "# Plot the decision boundary. For that, we will assign a color to each\n",
    "# point in the mesh [x_min, x_max]x[y_min, y_max].\n",
    "x_min, x_max = X[:, 0].min() - 1, X[:, 0].max() + 1\n",
    "y_min, y_max = X[:, 1].min() - 1, X[:, 1].max() + 1\n",
    "xx, yy = np.meshgrid(np.arange(x_min, x_max, h),\n",
    "                     np.arange(y_min, y_max, h))\n",
    "Z = clf.predict(np.c_[xx.ravel(), yy.ravel()])\n",
    "\n",
    "# Put the result into a color plot\n",
    "Z = Z.reshape(xx.shape)\n",
    "plt.figure()\n",
    "#plt.figure(figsize=(6,3))   # this makes both axis equal \n",
    "plt.pcolormesh(xx, yy, Z, cmap=cmap_light)\n",
    "\n",
    "# Plot also the training points\n",
    "plt.scatter(X[:, 0], X[:, 1], c=y, cmap=cmap_bold)\n",
    "plt.xlim(xx.min(), xx.max())\n",
    "plt.ylim(yy.min(), yy.max())\n",
    "plt.title(\"3-Class classification (k = %i, weights = '%s')\" % (k, 'uniform'))\n",
    "plt.show()"
   ]
  },
  {
   "cell_type": "markdown",
   "metadata": {},
   "source": [
    "The resulting figure shows the predictions of kNN when $k=1$. If `x_new` is in the blue region, the prediction will be the blue class. From this picture, we can observe a small blue blobs inside the predominantly gray area. This is because the nearest neighbor in this area is the blue example. \n",
    "\n",
    "**Question 1**. Change value of k to 3 and observe if there is any difference. Discuss what you see and why."
   ]
  },
  {
   "cell_type": "code",
   "execution_count": 5,
   "metadata": {},
   "outputs": [
    {
     "data": {
      "image/png": "[encoded data removed]",
      "text/plain": [
       "<matplotlib.figure.Figure at 0x1111362d0>"
      ]
     },
     "metadata": {},
     "output_type": "display_data"
    }
   ],
   "source": [
    "k = 3   # how many nearest neighbors are consulted\n",
    "\n",
    "# we create an instance of Neighbours Classifier and fit the data.\n",
    "clf = neighbors.KNeighborsClassifier(k, weights='uniform')\n",
    "clf.fit(X, y)\n",
    "\n",
    "# Plot the decision boundary. For that, we will assign a color to each\n",
    "# point in the mesh [x_min, x_max]x[y_min, y_max].\n",
    "x_min, x_max = X[:, 0].min() - 1, X[:, 0].max() + 1\n",
    "y_min, y_max = X[:, 1].min() - 1, X[:, 1].max() + 1\n",
    "xx, yy = np.meshgrid(np.arange(x_min, x_max, h),\n",
    "                     np.arange(y_min, y_max, h))\n",
    "Z = clf.predict(np.c_[xx.ravel(), yy.ravel()])\n",
    "\n",
    "# Put the result into a color plot\n",
    "Z = Z.reshape(xx.shape)\n",
    "plt.figure()\n",
    "#plt.figure(figsize=(6,3))   # this makes both axis equal \n",
    "plt.pcolormesh(xx, yy, Z, cmap=cmap_light)\n",
    "\n",
    "# Plot also the training points\n",
    "plt.scatter(X[:, 0], X[:, 1], c=y, cmap=cmap_bold)\n",
    "plt.xlim(xx.min(), xx.max())\n",
    "plt.ylim(yy.min(), yy.max())\n",
    "plt.title(\"3-Class classification (k = %i, weights = '%s')\" % (k, 'uniform'))\n",
    "plt.show()"
   ]
  },
  {
   "cell_type": "markdown",
   "metadata": {},
   "source": [
    "- I see that the green area expands the size. The X axis of the green area can go from less than 4 to pass 7. Notice that the green area when k = 25 only goes from 4 to less than 7.\n",
    "- The lines separate these area is not straight but more curly."
   ]
  },
  {
   "cell_type": "markdown",
   "metadata": {},
   "source": [
    "**Question 2**. Change k to an even higher value, let us say to 25. What do we see now? Discuss."
   ]
  },
  {
   "cell_type": "code",
   "execution_count": 6,
   "metadata": {},
   "outputs": [
    {
     "data": {
      "image/png": "[encoded data removed]",
      "text/plain": [
       "<matplotlib.figure.Figure at 0x11476fd10>"
      ]
     },
     "metadata": {},
     "output_type": "display_data"
    }
   ],
   "source": [
    "k = 25   # how many nearest neighbors are consulted\n",
    "\n",
    "# we create an instance of Neighbours Classifier and fit the data.\n",
    "clf = neighbors.KNeighborsClassifier(k, weights='uniform')\n",
    "clf.fit(X, y)\n",
    "\n",
    "# Plot the decision boundary. For that, we will assign a color to each\n",
    "# point in the mesh [x_min, x_max]x[y_min, y_max].\n",
    "x_min, x_max = X[:, 0].min() - 1, X[:, 0].max() + 1\n",
    "y_min, y_max = X[:, 1].min() - 1, X[:, 1].max() + 1\n",
    "xx, yy = np.meshgrid(np.arange(x_min, x_max, h),\n",
    "                     np.arange(y_min, y_max, h))\n",
    "Z = clf.predict(np.c_[xx.ravel(), yy.ravel()])\n",
    "\n",
    "# Put the result into a color plot\n",
    "Z = Z.reshape(xx.shape)\n",
    "plt.figure()\n",
    "#plt.figure(figsize=(6,3))   # this makes both axis equal \n",
    "plt.pcolormesh(xx, yy, Z, cmap=cmap_light)\n",
    "\n",
    "# Plot also the training points\n",
    "plt.scatter(X[:, 0], X[:, 1], c=y, cmap=cmap_bold)\n",
    "plt.xlim(xx.min(), xx.max())\n",
    "plt.ylim(yy.min(), yy.max())\n",
    "plt.title(\"3-Class classification (k = %i, weights = '%s')\" % (k, 'uniform'))\n",
    "plt.show()"
   ]
  },
  {
   "cell_type": "markdown",
   "metadata": {},
   "source": [
    "- When k is big number, when can see that the 3 area became more define. The lines separate these area became more define and straight out. It almost look like a linear line."
   ]
  },
  {
   "cell_type": "markdown",
   "metadata": {},
   "source": [
    "**Queston 3**. In the line that creates `clf` change weights='uniform' to weights='distance'. Check the documentation or google to understand what it means. Explain. Run the code and discuss if you see any difference."
   ]
  },
  {
   "cell_type": "code",
   "execution_count": 7,
   "metadata": {},
   "outputs": [
    {
     "data": {
      "image/png": "[encoded data removed]",
      "text/plain": [
       "<matplotlib.figure.Figure at 0x1a21c6fd50>"
      ]
     },
     "metadata": {},
     "output_type": "display_data"
    }
   ],
   "source": [
    "k = 25   # how many nearest neighbors are consulted\n",
    "\n",
    "# we create an instance of Neighbours Classifier and fit the data.\n",
    "clf = neighbors.KNeighborsClassifier(k, weights='distance')\n",
    "clf.fit(X, y)\n",
    "\n",
    "# Plot the decision boundary. For that, we will assign a color to each\n",
    "# point in the mesh [x_min, x_max]x[y_min, y_max].\n",
    "x_min, x_max = X[:, 0].min() - 1, X[:, 0].max() + 1\n",
    "y_min, y_max = X[:, 1].min() - 1, X[:, 1].max() + 1\n",
    "xx, yy = np.meshgrid(np.arange(x_min, x_max, h),\n",
    "                     np.arange(y_min, y_max, h))\n",
    "Z = clf.predict(np.c_[xx.ravel(), yy.ravel()])\n",
    "# Put the result into a color plot\n",
    "Z = Z.reshape(xx.shape)\n",
    "plt.figure()\n",
    "#plt.figure(figsize=(6,3))   # this makes both axis equal \n",
    "plt.pcolormesh(xx, yy, Z, cmap=cmap_light)\n",
    "\n",
    "# Plot also the training points\n",
    "plt.scatter(X[:, 0], X[:, 1], c=y, cmap=cmap_bold)\n",
    "plt.xlim(xx.min(), xx.max())\n",
    "plt.ylim(yy.min(), yy.max())\n",
    "plt.title(\"3-Class classification (k = %i, weights = '%s')\" % (k, 'distance'))\n",
    "plt.show()"
   ]
  },
  {
   "cell_type": "markdown",
   "metadata": {},
   "source": [
    "- uniform’ : All points in each neighborhood are weighted equally.\n",
    "- distance’ : weight points by the inverse of their distance. in this case, closer neighbors of a query point will have a greater influence than neighbors which are further away.\n",
    "- With the same value k =3, if we use \"distance\" the lines separate the area became more define than when we ised \"uniform\"\n"
   ]
  },
  {
   "cell_type": "markdown",
   "metadata": {},
   "source": [
    "**Question 4**. Take a look at the code and try to understand what each line of the code does. Explain each line of code."
   ]
  },
  {
   "cell_type": "markdown",
   "metadata": {},
   "source": [
    "- how many nearest neighbors are consulted: k = 25   \n",
    "\n",
    "- we only take the first two attribute for X: X = iris.data[:, [0,1]] \n",
    "-  y will be 0 to 3 for flower type: y = iris.target\n",
    "\n",
    "- step size in the mesh h = .02\n",
    "\n",
    "-  Create color maps: cmap_light, cmap_bold\n",
    "-  we create an instance of Neighbours Classifier and fit the data.\n",
    "-  Classifier implementing the k-nearest neighbors vote.zz\n",
    "- clf = neighbors.KNeighborsClassifier(k, weights='uniform')\n",
    "- Fit the model using X as training data and y as target values: clf.fit(X, y)\n",
    "\n",
    "- Plot the decision boundary. For that, we will assign a color to each\n",
    "- point in the mesh [x_min, x_max]x[y_min, y_max].\n",
    "- x_min, x_max = X[:, 0].min() - 1, X[:, 0].max() + 1\n",
    "- y_min, y_max = X[:, 1].min() - 1, X[:, 1].max() + 1\n",
    "\n",
    "\n",
    "- np.meshgrid Return coordinate matrices from two or more coordinate vectors.\n",
    "- np.arange(y_min, y_max, h)) return evenly spaced values within a given interval.\n",
    "- In this case: x_min = 3.3 ,x_max =  8.9, h =0.2\n",
    "- xx, yy = np.meshgrid(np.arange(x_min, x_max, h),\n",
    "                     np.arange(y_min, y_max, h))\n",
    "- Perform classification on samples in data set np.c_[xx.ravel(), yy.ravel()].\n",
    "- xx.ravel() and  yy.ravel() will return a contiguous flattened array\n",
    "- so xx and yy will be 2 arrays have 1 row each \n",
    "- np.c_ will translates slice objects to concatenation along the second axis.\n",
    "- xx and yy will combine into array([[x1, x2,...,xn], [y1, y2,...,yn]]\n",
    "- clf.predict will make a classification of this array. This will return an array with predict value\n",
    "- Z = clf.predict(np.c_[xx.ravel(), yy.ravel()])\n",
    "\n",
    "-  Put the result into a color plot\n",
    "- reshape the same of Z so it has the same shape with xx\n",
    "- Plot the data"
   ]
  },
  {
   "cell_type": "markdown",
   "metadata": {},
   "source": [
    "### Training and testing\n",
    "  As mentioned above, the typical mechanism for testing accuracy of a `predictor` is to split the data randomly into training and testing, train `predictor` on training data and test its performance on test data. Let us see how it can be done."
   ]
  },
  {
   "cell_type": "code",
   "execution_count": 44,
   "metadata": {
    "collapsed": true
   },
   "outputs": [],
   "source": [
    "from sklearn.cross_validation import train_test_split\n",
    "X_train, X_test, y_train, y_test = train_test_split(\n",
    "    X, y, test_size=0.33)"
   ]
  },
  {
   "cell_type": "markdown",
   "metadata": {},
   "source": [
    "**Question 5**. What is the size of the resulting objects?\n",
    "\n",
    "Now that we created training and test sets, we can train a kNN classifier using the training data. Before moving forward, let us take a second and take a look at the documentation for kNN implementation in sklearn: http://scikit-learn.org/stable/modules/generated/sklearn.neighbors.KNeighborsClassifier.html.\n"
   ]
  },
  {
   "cell_type": "markdown",
   "metadata": {},
   "source": [
    "Answer 5:\n",
    "- X train is 100,2\n",
    "- X test is 50,2\n",
    "- y train is 100,\n",
    "- y test is 50,"
   ]
  },
  {
   "cell_type": "code",
   "execution_count": 45,
   "metadata": {},
   "outputs": [
    {
     "name": "stdout",
     "output_type": "stream",
     "text": [
      "KNeighborsClassifier(algorithm='auto', leaf_size=30, metric='minkowski',\n",
      "           metric_params=None, n_jobs=1, n_neighbors=1, p=2,\n",
      "           weights='uniform')\n"
     ]
    }
   ],
   "source": [
    "#Let us train the kNN predictor:\n",
    "#from sklearn.neighbors import KNeighborsClassifier\n",
    "k = 1   # number of nearest neighbors\n",
    "predictor = neighbors.KNeighborsClassifier(n_neighbors = k)\n",
    "predictor.fit(X_train, y_train);\n",
    "print predictor"
   ]
  },
  {
   "cell_type": "markdown",
   "metadata": {},
   "source": [
    "Now that we trained `predictor` we can use it to provide predictions on any example `x`. "
   ]
  },
  {
   "cell_type": "code",
   "execution_count": 2,
   "metadata": {},
   "outputs": [
    {
     "ename": "NameError",
     "evalue": "name 'X_test' is not defined",
     "output_type": "error",
     "traceback": [
      "\u001b[0;31m---------------------------------------------------------------------------\u001b[0m",
      "\u001b[0;31mNameError\u001b[0m                                 Traceback (most recent call last)",
      "\u001b[0;32m<ipython-input-2-009b912da1d5>\u001b[0m in \u001b[0;36m<module>\u001b[0;34m()\u001b[0m\n\u001b[1;32m      1\u001b[0m \u001b[0;31m# select the first 4 test examples\u001b[0m\u001b[0;34m\u001b[0m\u001b[0;34m\u001b[0m\u001b[0m\n\u001b[1;32m      2\u001b[0m \u001b[0mi\u001b[0m \u001b[0;34m=\u001b[0m \u001b[0;34m[\u001b[0m\u001b[0;36m0\u001b[0m\u001b[0;34m,\u001b[0m\u001b[0;36m1\u001b[0m\u001b[0;34m,\u001b[0m\u001b[0;36m2\u001b[0m\u001b[0;34m,\u001b[0m\u001b[0;36m3\u001b[0m\u001b[0;34m]\u001b[0m\u001b[0;34m\u001b[0m\u001b[0m\n\u001b[0;32m----> 3\u001b[0;31m \u001b[0mx\u001b[0m \u001b[0;34m=\u001b[0m \u001b[0mX_test\u001b[0m\u001b[0;34m[\u001b[0m\u001b[0mi\u001b[0m\u001b[0;34m,\u001b[0m\u001b[0;34m:\u001b[0m\u001b[0;34m]\u001b[0m\u001b[0;34m\u001b[0m\u001b[0m\n\u001b[0m\u001b[1;32m      4\u001b[0m \u001b[0;32mprint\u001b[0m \u001b[0mx\u001b[0m\u001b[0;34m\u001b[0m\u001b[0m\n\u001b[1;32m      5\u001b[0m \u001b[0;31m# predict its label\u001b[0m\u001b[0;34m\u001b[0m\u001b[0;34m\u001b[0m\u001b[0m\n",
      "\u001b[0;31mNameError\u001b[0m: name 'X_test' is not defined"
     ]
    }
   ],
   "source": [
    "# select the first 4 test examples\n",
    "i = [0,1,2,3]\n",
    "x = X_test[i,:]\n",
    "print x\n",
    "# predict its label\n",
    "yhat = predictor.predict(x)\n",
    "# compare predicted and true labels\n",
    "print np.array(zip(yhat,y_test[i]))"
   ]
  },
  {
   "cell_type": "markdown",
   "metadata": {},
   "source": [
    "\n",
    "\n",
    "\n",
    "**Question 6**. Did your kNN predictor do a good job in predicting labels of the first 4 test examples? \n",
    "- Most of the time I run, It got 2 right and 2 wrong. It's 50% right. Other time I got 25% and 75%. However, they were able to predit those 2 are the same type of flowers. There fore, I think it's not too bad. However, it need more trainning and testing\n",
    "\n",
    "**Question 7**. Write a piece of code that calculates the accuracy on those 4 test examples (number of correct guesses divided by the total number of guesses\n",
    "\n"
   ]
  },
  {
   "cell_type": "code",
   "execution_count": 48,
   "metadata": {},
   "outputs": [
    {
     "name": "stdout",
     "output_type": "stream",
     "text": [
      "True\n",
      "True\n",
      "True\n",
      "True\n",
      "100.0 %\n"
     ]
    }
   ],
   "source": [
    "#x1=0\n",
    "#for i in range(10):\n",
    "#    print x1 == yhat[i]\n",
    "from __future__ import division\n",
    "m1=0\n",
    "m2=0\n",
    "correct=0\n",
    "guess=len(yhat)\n",
    "accuracy=0\n",
    "for i in range(guess):\n",
    "    m1=yhat[i]\n",
    "    m2=y_test[i]\n",
    "    print m1==m2\n",
    "    if(m1==m2):\n",
    "        correct+=1\n",
    "\n",
    "accuracy=(correct/guess)*100\n",
    "print accuracy ,\"%\""
   ]
  },
  {
   "cell_type": "markdown",
   "metadata": {},
   "source": [
    "**Question 8**. Find the predictions on all test examples in `X_test` and calculate the accuracy using your code from \n"
   ]
  },
  {
   "cell_type": "code",
   "execution_count": 49,
   "metadata": {},
   "outputs": [
    {
     "name": "stdout",
     "output_type": "stream",
     "text": [
      "[[2 2]\n",
      " [1 1]\n",
      " [3 3]\n",
      " [4 4]\n",
      " [1 4]\n",
      " [1 4]\n",
      " [1 1]\n",
      " [4 4]\n",
      " [4 1]\n",
      " [1 3]\n",
      " [1 1]\n",
      " [3 3]\n",
      " [1 3]\n",
      " [2 2]\n",
      " [3 1]\n",
      " [1 1]\n",
      " [4 3]\n",
      " [3 1]\n",
      " [4 2]\n",
      " [1 2]\n",
      " [4 4]\n",
      " [4 4]\n",
      " [2 3]\n",
      " [2 2]\n",
      " [1 1]\n",
      " [2 2]\n",
      " [1 1]\n",
      " [3 1]\n",
      " [2 4]\n",
      " [1 1]\n",
      " [3 1]\n",
      " [3 4]\n",
      " [4 3]\n",
      " [4 4]\n",
      " [2 2]\n",
      " [1 2]\n",
      " [2 2]\n",
      " [4 4]\n",
      " [2 2]\n",
      " [2 4]\n",
      " [2 2]\n",
      " [1 1]\n",
      " [1 1]\n",
      " [4 4]\n",
      " [1 4]\n",
      " [1 1]\n",
      " [1 1]\n",
      " [3 2]\n",
      " [2 1]\n",
      " [2 2]\n",
      " [2 1]\n",
      " [3 1]\n",
      " [4 4]\n",
      " [4 4]\n",
      " [2 1]\n",
      " [1 4]\n",
      " [2 2]\n",
      " [3 4]\n",
      " [1 1]\n",
      " [4 4]\n",
      " [4 2]\n",
      " [4 4]\n",
      " [4 4]\n",
      " [4 4]\n",
      " [1 1]\n",
      " [3 4]\n",
      " [1 1]\n",
      " [2 1]\n",
      " [1 1]\n",
      " [3 4]\n",
      " [3 1]\n",
      " [2 1]\n",
      " [3 1]\n",
      " [2 2]\n",
      " [3 1]\n",
      " [4 4]\n",
      " [2 4]\n",
      " [4 1]\n",
      " [4 4]\n",
      " [2 2]\n",
      " [3 1]\n",
      " [3 4]\n",
      " [4 4]\n",
      " [4 3]\n",
      " [2 4]\n",
      " [3 4]\n",
      " [4 2]\n",
      " [1 1]\n",
      " [4 1]\n",
      " [4 2]\n",
      " [2 2]\n",
      " [4 4]\n",
      " [2 4]\n",
      " [4 4]\n",
      " [3 2]\n",
      " [4 4]\n",
      " [2 1]\n",
      " [1 1]\n",
      " [3 3]\n",
      " [4 2]\n",
      " [4 2]\n",
      " [1 3]\n",
      " [1 2]\n",
      " [4 1]\n",
      " [1 2]\n",
      " [4 4]\n",
      " [1 3]\n",
      " [3 2]\n",
      " [2 2]\n",
      " [4 4]\n",
      " [4 4]\n",
      " [3 2]\n",
      " [4 4]\n",
      " [4 4]\n",
      " [1 1]\n",
      " [4 4]\n",
      " [3 1]\n",
      " [4 4]\n",
      " [4 1]\n",
      " [3 1]\n",
      " [4 4]\n",
      " [1 3]\n",
      " [3 4]\n",
      " [2 2]\n",
      " [4 3]\n",
      " [1 1]\n",
      " [1 1]\n",
      " [2 1]\n",
      " [4 2]\n",
      " [1 1]\n",
      " [1 1]\n",
      " [1 2]\n",
      " [3 4]\n",
      " [2 4]\n",
      " [2 2]\n",
      " [2 2]\n",
      " [4 2]\n",
      " [4 4]\n",
      " [1 2]\n",
      " [4 4]\n",
      " [2 1]\n",
      " [3 3]\n",
      " [1 1]\n",
      " [1 1]\n",
      " [2 4]\n",
      " [3 4]\n",
      " [4 4]\n",
      " [2 3]\n",
      " [2 1]\n",
      " [2 2]\n",
      " [2 2]\n",
      " [4 4]\n",
      " [2 1]\n",
      " [1 1]\n",
      " [1 3]\n",
      " [2 1]\n",
      " [4 3]\n",
      " [1 3]\n",
      " [1 3]\n",
      " [4 4]\n",
      " [1 1]\n",
      " [3 1]\n",
      " [1 1]\n",
      " [2 2]\n",
      " [2 1]\n",
      " [2 2]\n",
      " [4 2]\n",
      " [2 3]\n",
      " [3 4]\n",
      " [4 4]\n",
      " [1 1]\n",
      " [4 1]\n",
      " [2 4]\n",
      " [1 1]\n",
      " [4 4]\n",
      " [2 3]\n",
      " [4 4]\n",
      " [4 4]\n",
      " [1 1]\n",
      " [1 3]\n",
      " [4 4]\n",
      " [4 4]\n",
      " [1 1]\n",
      " [4 4]\n",
      " [4 4]\n",
      " [1 1]\n",
      " [2 1]\n",
      " [2 3]\n",
      " [4 4]\n",
      " [1 4]\n",
      " [1 1]\n",
      " [1 2]\n",
      " [2 4]\n",
      " [4 1]\n",
      " [2 2]\n",
      " [4 4]\n",
      " [3 3]\n",
      " [1 1]\n",
      " [4 4]\n",
      " [1 4]\n",
      " [1 2]\n",
      " [2 2]\n",
      " [1 3]\n",
      " [1 2]\n",
      " [4 4]\n",
      " [1 1]\n",
      " [4 4]\n",
      " [2 2]\n",
      " [2 4]\n",
      " [1 1]\n",
      " [4 4]\n",
      " [4 4]\n",
      " [1 4]\n",
      " [4 4]\n",
      " [2 1]\n",
      " [1 1]\n",
      " [4 4]\n",
      " [1 1]\n",
      " [2 2]\n",
      " [3 4]\n",
      " [3 2]\n",
      " [4 4]\n",
      " [4 2]\n",
      " [2 4]\n",
      " [2 4]\n",
      " [4 4]\n",
      " [1 1]\n",
      " [1 3]\n",
      " [4 4]\n",
      " [1 1]\n",
      " [3 2]\n",
      " [2 2]\n",
      " [1 2]\n",
      " [4 4]\n",
      " [4 4]\n",
      " [4 3]\n",
      " [4 4]\n",
      " [4 4]\n",
      " [4 3]\n",
      " [1 1]\n",
      " [4 4]\n",
      " [4 4]\n",
      " [2 2]\n",
      " [4 4]\n",
      " [1 1]\n",
      " [1 1]\n",
      " [3 1]\n",
      " [3 3]\n",
      " [1 1]\n",
      " [2 2]\n",
      " [3 3]\n",
      " [4 4]\n",
      " [4 2]\n",
      " [2 3]\n",
      " [2 4]\n",
      " [4 4]\n",
      " [1 4]\n",
      " [3 1]\n",
      " [4 4]\n",
      " [2 2]\n",
      " [1 1]\n",
      " [1 1]\n",
      " [3 2]\n",
      " [1 1]\n",
      " [1 1]\n",
      " [4 2]\n",
      " [2 2]\n",
      " [4 2]\n",
      " [4 4]\n",
      " [3 1]\n",
      " [2 4]\n",
      " [3 3]\n",
      " [4 4]\n",
      " [1 3]\n",
      " [1 3]\n",
      " [4 2]\n",
      " [2 4]\n",
      " [4 4]\n",
      " [4 4]\n",
      " [2 3]\n",
      " [4 2]\n",
      " [3 4]\n",
      " [1 4]\n",
      " [4 4]\n",
      " [3 2]\n",
      " [2 4]\n",
      " [4 4]\n",
      " [4 4]\n",
      " [1 1]\n",
      " [2 2]\n",
      " [1 4]\n",
      " [1 3]\n",
      " [4 1]\n",
      " [1 3]\n",
      " [3 3]\n",
      " [1 1]\n",
      " [1 1]\n",
      " [1 1]\n",
      " [1 1]\n",
      " [1 1]\n",
      " [4 4]\n",
      " [4 4]\n",
      " [2 2]\n",
      " [2 2]\n",
      " [2 3]\n",
      " [2 3]\n",
      " [1 1]\n",
      " [4 4]\n",
      " [3 2]\n",
      " [2 2]\n",
      " [4 4]\n",
      " [4 4]\n",
      " [1 1]\n",
      " [2 2]\n",
      " [3 1]\n",
      " [3 2]\n",
      " [1 3]\n",
      " [3 2]\n",
      " [2 4]\n",
      " [2 4]\n",
      " [2 1]\n",
      " [1 4]\n",
      " [4 3]\n",
      " [3 3]\n",
      " [1 2]\n",
      " [2 2]\n",
      " [4 4]\n",
      " [2 2]\n",
      " [1 3]\n",
      " [3 1]]\n"
     ]
    }
   ],
   "source": [
    "# select all test examples\n",
    "#create a list of index start from 0\n",
    "i = np.arange(X_test.shape[0])\n",
    "i[0:X_test.shape[0]]\n",
    "x = X_test[i,:]\n",
    "# predict its label\n",
    "yhat = predictor.predict(x)\n",
    "# compare predicted and true labels\n",
    "print np.array(zip(yhat,y_test[i]))"
   ]
  },
  {
   "cell_type": "code",
   "execution_count": 50,
   "metadata": {},
   "outputs": [
    {
     "name": "stdout",
     "output_type": "stream",
     "text": [
      "53.9393939394 %\n"
     ]
    }
   ],
   "source": [
    "from __future__ import division\n",
    "m1=0\n",
    "m2=0\n",
    "correct=0\n",
    "guess=len(yhat)\n",
    "accuracy=0\n",
    "for i in range(guess):\n",
    "    m1=yhat[i]\n",
    "    m2=y_test[i]\n",
    "    #print m1==m2\n",
    "    if(m1==m2):\n",
    "        correct+=1\n",
    "\n",
    "accuracy=(correct/guess)*100\n",
    "print accuracy ,\"%\""
   ]
  },
  {
   "cell_type": "markdown",
   "metadata": {},
   "source": [
    "Pay attention that methods in sklearn.neighbors.KNeighborsClassifier allow you to test the accuracy in a faster way (you should not use it to answer Questions 7 and 8):"
   ]
  },
  {
   "cell_type": "code",
   "execution_count": 51,
   "metadata": {},
   "outputs": [
    {
     "name": "stdout",
     "output_type": "stream",
     "text": [
      "0.5393939393939394\n"
     ]
    }
   ],
   "source": [
    "accuracy = predictor.score(X_test,y_test)\n",
    "print accuracy"
   ]
  },
  {
   "cell_type": "markdown",
   "metadata": {},
   "source": [
    "**Question 9**. Train `predictor` using different choices of k. Try $k = 1, 3, 5, 15, 25, 50$. Report the accuracies on the test data (you can use the score method). Which choice of $k$ resulted in the highest accuracy? Comment briefly if the results make sense to you."
   ]
  },
  {
   "cell_type": "code",
   "execution_count": 52,
   "metadata": {},
   "outputs": [
    {
     "name": "stdout",
     "output_type": "stream",
     "text": [
      "K:  1  Accuracy:  0.5393939393939394 %\n"
     ]
    }
   ],
   "source": [
    "#Let us train the kNN predictor:\n",
    "#from sklearn.neighbors import KNeighborsClassifier\n",
    "k = 1   # number of nearest neighbors\n",
    "predictor = neighbors.KNeighborsClassifier(n_neighbors = k)\n",
    "predictor.fit(X_train, y_train);\n",
    "#print predictor\n",
    "# select all test examples\n",
    "i = np.arange(X_test.shape[0])\n",
    "i[0:X_test.shape[0]]\n",
    "x = X_test[i,:]\n",
    "\n",
    "\n",
    "# predict its label\n",
    "yhat = predictor.predict(x)\n",
    "accuracy = predictor.score(X_test,y_test)\n",
    "print \"K: \",k,\" Accuracy: \", accuracy,\"%\""
   ]
  },
  {
   "cell_type": "code",
   "execution_count": 53,
   "metadata": {},
   "outputs": [
    {
     "name": "stdout",
     "output_type": "stream",
     "text": [
      "K:  3  Accuracy:  0.5787878787878787 %\n"
     ]
    }
   ],
   "source": [
    "#Let us train the kNN predictor:\n",
    "#from sklearn.neighbors import KNeighborsClassifier\n",
    "k = 3   # number of nearest neighbors\n",
    "predictor = neighbors.KNeighborsClassifier(n_neighbors = k)\n",
    "predictor.fit(X_train, y_train);\n",
    "#print predictor\n",
    "# select all test examples\n",
    "i = np.arange(X_test.shape[0])\n",
    "i[0:X_test.shape[0]]\n",
    "x = X_test[i,:]\n",
    "# predict its label\n",
    "yhat = predictor.predict(x)\n",
    "accuracy = predictor.score(X_test,y_test)\n",
    "print \"K: \",k,\" Accuracy: \", accuracy,\"%\""
   ]
  },
  {
   "cell_type": "code",
   "execution_count": 54,
   "metadata": {},
   "outputs": [
    {
     "name": "stdout",
     "output_type": "stream",
     "text": [
      "K:  5  Accuracy:  0.5969696969696969 %\n"
     ]
    }
   ],
   "source": [
    "#Let us train the kNN predictor:\n",
    "#from sklearn.neighbors import KNeighborsClassifier\n",
    "k = 5   # number of nearest neighbors\n",
    "predictor = neighbors.KNeighborsClassifier(n_neighbors = k)\n",
    "predictor.fit(X_train, y_train);\n",
    "#print predictor\n",
    "# select all test examples\n",
    "i = np.arange(X_test.shape[0])\n",
    "i[0:X_test.shape[0]]\n",
    "x = X_test[i,:]\n",
    "# predict its label\n",
    "yhat = predictor.predict(x)\n",
    "accuracy = predictor.score(X_test,y_test)\n",
    "print \"K: \",k,\" Accuracy: \", accuracy,\"%\""
   ]
  },
  {
   "cell_type": "code",
   "execution_count": 55,
   "metadata": {},
   "outputs": [
    {
     "name": "stdout",
     "output_type": "stream",
     "text": [
      "K:  15  Accuracy:  0.593939393939394 %\n"
     ]
    }
   ],
   "source": [
    "#Let us train the kNN predictor:\n",
    "#from sklearn.neighbors import KNeighborsClassifier\n",
    "k = 15   # number of nearest neighbors\n",
    "predictor = neighbors.KNeighborsClassifier(n_neighbors = k)\n",
    "predictor.fit(X_train, y_train);\n",
    "#print predictor\n",
    "# select all test examples\n",
    "i = np.arange(X_test.shape[0])\n",
    "i[0:X_test.shape[0]]\n",
    "x = X_test[i,:]\n",
    "# predict its label\n",
    "yhat = predictor.predict(x)\n",
    "accuracy = predictor.score(X_test,y_test)\n",
    "print \"K: \",k,\" Accuracy: \", accuracy,\"%\""
   ]
  },
  {
   "cell_type": "code",
   "execution_count": 56,
   "metadata": {},
   "outputs": [
    {
     "name": "stdout",
     "output_type": "stream",
     "text": [
      "K:  25  Accuracy:  0.5727272727272728 %\n"
     ]
    }
   ],
   "source": [
    "#Let us train the kNN predictor:\n",
    "#from sklearn.neighbors import KNeighborsClassifier\n",
    "k = 25   # number of nearest neighbors\n",
    "predictor = neighbors.KNeighborsClassifier(n_neighbors = k)\n",
    "predictor.fit(X_train, y_train);\n",
    "#print predictor\n",
    "# select all test examples\n",
    "i = np.arange(X_test.shape[0])\n",
    "i[0:X_test.shape[0]]\n",
    "x = X_test[i,:]\n",
    "# predict its label\n",
    "yhat = predictor.predict(x)\n",
    "accuracy = predictor.score(X_test,y_test)\n",
    "print \"K: \",k,\" Accuracy: \", accuracy,\"%\""
   ]
  },
  {
   "cell_type": "code",
   "execution_count": 57,
   "metadata": {},
   "outputs": [
    {
     "name": "stdout",
     "output_type": "stream",
     "text": [
      "K:  50  Accuracy:  0.6 %\n"
     ]
    }
   ],
   "source": [
    "#Let us train the kNN predictor:\n",
    "#from sklearn.neighbors import KNeighborsClassifier\n",
    "k = 50   # number of nearest neighbors\n",
    "predictor = neighbors.KNeighborsClassifier(n_neighbors = k)\n",
    "predictor.fit(X_train, y_train);\n",
    "#print predictor\n",
    "# select all test examples\n",
    "i = np.arange(X_test.shape[0])\n",
    "i[0:X_test.shape[0]]\n",
    "# predict its label\n",
    "yhat = predictor.predict(x)\n",
    "accuracy = predictor.score(X_test,y_test)\n",
    "print \"K: \",k,\" Accuracy: \", accuracy,\"%\""
   ]
  },
  {
   "cell_type": "markdown",
   "metadata": {},
   "source": [
    "- After a good amount of try, I can say that bigger K gave the highest accuracy"
   ]
  },
  {
   "cell_type": "markdown",
   "metadata": {},
   "source": [
    "**Question 10**. Other than choice of $k$, `KNeighborsClassifier` allows you to make some other choices. For example, in *Question 3* you saw that you can use a weighted prediction. There are few other options. Study the documentation and summarize in few sentences what other options you have when training the kNN classifier."
   ]
  },
  {
   "cell_type": "markdown",
   "metadata": {},
   "source": [
    "**Answer 10**\n",
    "(n_neighbors=5, weights=’uniform’, algorithm=’auto’, leaf_size=30, p=2, metric=’minkowski’, metric_params=None, n_jobs=1, **kwargs) are the default parameters\n",
    "- n_neighbors: contain number of neighbors around\n",
    "- weights: Uniform, distance\n",
    "- algorithm : ball_tree, kd_tree, brute auto\n",
    "- leaf_size: this pass to tree. use to optimal value depends on the nature of the prblem\n",
    "- p: Power parameter for the Minkowski metric\n",
    "- metric: he distance metric to use for the tree\n",
    "- metric_params: Additional keyword arguments for the metric function.\n",
    "- n_jobs: The number of parallel jobs to run for neighbors search"
   ]
  },
  {
   "cell_type": "markdown",
   "metadata": {},
   "source": [
    "## Lab 7.B Training kNN classifier on Iris and Newsgroups data\n",
    "In this part of the lab you will use your knowledge to train and test accuracy of kNN classifiers on Iris and Newsgroups data.\n",
    "\n",
    "#### Iris Questions\n",
    "In Lab 7.A you used only the first two attributes of Iris for prediction. You have 2 questions:\n",
    "\n",
    "**Question Iris 1**. Train kNN classifier on other pair of attributes. Use $k$ of your choice and feel free to keep other choices at their default values. Which pair of attributes results in the highest accuracy?"
   ]
  },
  {
   "cell_type": "code",
   "execution_count": 76,
   "metadata": {
    "collapsed": true
   },
   "outputs": [],
   "source": [
    "#change new pair of attributes\n",
    "X = iris.data[:, [2,3]]  # we only take the first two features. We could\n",
    "y = iris.target\n",
    "X_train, X_test, y_train, y_test = train_test_split(\n",
    "    X, y, test_size=0.33)"
   ]
  },
  {
   "cell_type": "code",
   "execution_count": 77,
   "metadata": {},
   "outputs": [
    {
     "name": "stdout",
     "output_type": "stream",
     "text": [
      "K:  1  Accuracy:  0.94 %\n"
     ]
    }
   ],
   "source": [
    "#Let us train the kNN predictor:\n",
    "#from sklearn.neighbors import KNeighborsClassifier\n",
    "k = 1   # number of nearest neighbors\n",
    "predictor = neighbors.KNeighborsClassifier(n_neighbors = k)\n",
    "predictor.fit(X_train, y_train);\n",
    "#print predictor\n",
    "# select all test examples\n",
    "i = np.arange(X_test.shape[0])\n",
    "i[0:X_test.shape[0]]\n",
    "x = X_test[i,:]\n",
    "\n",
    "# predict its label\n",
    "yhat = predictor.predict(x)\n",
    "accuracy = predictor.score(X_test,y_test)\n",
    "print \"K: \",k,\" Accuracy: \", accuracy,\"%\""
   ]
  },
  {
   "cell_type": "markdown",
   "metadata": {},
   "source": [
    "- attribute 3 and 4 have highest result"
   ]
  },
  {
   "cell_type": "markdown",
   "metadata": {},
   "source": [
    "\n",
    "** Question Iris 2**. Train kNN classifier using all 4 attributes. Report the accuracy on test data set. Play with parameters of kNN to try to find a combination that results in the highest accuracy. Can you find something that works better than $k=3$ and default choices?"
   ]
  },
  {
   "cell_type": "code",
   "execution_count": 78,
   "metadata": {
    "collapsed": true
   },
   "outputs": [],
   "source": [
    "X = iris.data\n",
    "y = iris.target\n",
    "X_train, X_test, y_train, y_test = train_test_split(X, y, test_size=0.33)"
   ]
  },
  {
   "cell_type": "code",
   "execution_count": 79,
   "metadata": {},
   "outputs": [
    {
     "data": {
      "text/plain": [
       "(50,)"
      ]
     },
     "execution_count": 79,
     "metadata": {},
     "output_type": "execute_result"
    }
   ],
   "source": [
    "X_train.shape\n",
    "X_test.shape\n",
    "y_train.shape\n",
    "y_test.shape"
   ]
  },
  {
   "cell_type": "markdown",
   "metadata": {},
   "source": [
    "(100, 4)\n",
    "(50, 4)\n",
    "(100,)\n",
    "(50,)"
   ]
  },
  {
   "cell_type": "code",
   "execution_count": 80,
   "metadata": {},
   "outputs": [
    {
     "name": "stdout",
     "output_type": "stream",
     "text": [
      "K:  15  Accuracy:  0.98 %\n"
     ]
    }
   ],
   "source": [
    "k = 15   # number of nearest neighbors\n",
    "predictor = neighbors.KNeighborsClassifier(n_neighbors = k, algorithm = 'kd_tree')\n",
    "predictor.fit(X_train, y_train);\n",
    "#print predictor\n",
    "# select all test examples\n",
    "i = np.arange(X_test.shape[0])\n",
    "i[0:X_test.shape[0]]\n",
    "x = X_test[i,:]\n",
    "# predict its label\n",
    "yhat = predictor.predict(x)\n",
    "accuracy = predictor.score(X_test,y_test)\n",
    "print \"K: \",k,\" Accuracy: \", accuracy,\"%\""
   ]
  },
  {
   "cell_type": "markdown",
   "metadata": {
    "collapsed": true
   },
   "source": [
    "\n",
    "#### Newsgroups Questions\n",
    "In Lab you already got experience working with the newsgroups data. \n"
   ]
  },
  {
   "cell_type": "code",
   "execution_count": 109,
   "metadata": {
    "collapsed": true
   },
   "outputs": [],
   "source": [
    "wordlist = np.loadtxt('wordlist.csv', delimiter=\",\",dtype='str')\n",
    "documents = np.loadtxt('documents.csv', delimiter=\",\",dtype='int')\n",
    "documents = np.transpose(documents)\n",
    "newsgroup = np.loadtxt('newsgroup.csv', delimiter=\",\",dtype='int')\n",
    "groupnames = np.loadtxt('groupnames.csv', delimiter=\",\",dtype='str')\n"
   ]
  },
  {
   "cell_type": "markdown",
   "metadata": {},
   "source": [
    "**Question News 1**. Since kNN is a relatively slow algorithms, create your data set by picking 1,000 examples randomly. Remember to record both attribute values and labels. Split your data into 66% training and 33% test data sets."
   ]
  },
  {
   "cell_type": "code",
   "execution_count": 110,
   "metadata": {
    "collapsed": true,
    "scrolled": true
   },
   "outputs": [],
   "source": [
    "#generate 100 number of index of documents matrix from 0 to documents.shape[0]\n",
    "import random\n",
    "randomIndex = random.sample(range(0, documents.shape[0]), 1000)\n",
    "X=documents[randomIndex,:]\n",
    "y=newsgroup[randomIndex]\n",
    "X_train, X_test, y_train, y_test = train_test_split(X, y, test_size=0.33)"
   ]
  },
  {
   "cell_type": "code",
   "execution_count": 111,
   "metadata": {},
   "outputs": [
    {
     "data": {
      "text/plain": [
       "(330,)"
      ]
     },
     "execution_count": 111,
     "metadata": {},
     "output_type": "execute_result"
    }
   ],
   "source": [
    "X_train.shape\n",
    "X_test.shape\n",
    "y_train.shape\n",
    "y_test.shape"
   ]
  },
  {
   "cell_type": "markdown",
   "metadata": {},
   "source": [
    "(67, 100)\n",
    "(33, 100)\n",
    "(67,)\n",
    "(33,)"
   ]
  },
  {
   "cell_type": "markdown",
   "metadata": {},
   "source": [
    "**Question News 2**. Train a kNN classifier ($k=3$ and defaults) on the training data and test its accuracy on test data. Record the computational time needed to run this. Report the accuracy (pay attention there are 4 types of documents)."
   ]
  },
  {
   "cell_type": "code",
   "execution_count": 112,
   "metadata": {},
   "outputs": [
    {
     "name": "stdout",
     "output_type": "stream",
     "text": [
      "Run Time: 0.0372231006622 seconds\n",
      "K:  3  Accuracy:  0.6454545454545455 %\n"
     ]
    }
   ],
   "source": [
    "import time\n",
    "#record now time\n",
    "start_time = time.time()\n",
    "\n",
    "k = 3   # how many nearest neighbors are consulted\n",
    "#print X\n",
    "#print y\n",
    "predictor = neighbors.KNeighborsClassifier(n_neighbors = k)\n",
    "predictor.fit(X_train, y_train);\n",
    "#print predictor\n",
    "# select all test examples/\n",
    "i = np.arange(X_test.shape[0])\n",
    "i[0:X_test.shape[0]]\n",
    "x = X_test[i,:]\n",
    "# predict its label\n",
    "yhat = predictor.predict(x)\n",
    "#total run time = new time - start time\n",
    "print(\"Run Time: %s seconds\" % (time.time() - start_time))\n",
    "accuracy = predictor.score(X_test,y_test)\n",
    "print \"K: \",k,\" Accuracy: \", accuracy,\"%\""
   ]
  },
  {
   "cell_type": "code",
   "execution_count": null,
   "metadata": {
    "collapsed": true
   },
   "outputs": [],
   "source": [
    "confusion_matrix(y_true, y_pred)"
   ]
  },
  {
   "cell_type": "markdown",
   "metadata": {},
   "source": [
    "**Question News 3**. Train a kNN classifier using different values of $k$, hoping to improve accuracy. Try to use some other distance other than Euclidean. For example, cosine distance is know to work better than Eucliedean on text data."
   ]
  },
  {
   "cell_type": "code",
   "execution_count": 113,
   "metadata": {},
   "outputs": [
    {
     "name": "stdout",
     "output_type": "stream",
     "text": [
      "K:  20  Accuracy:  0.6848484848484848 %\n"
     ]
    }
   ],
   "source": [
    "k = 20  # how many nearest neighbors are consulted\n",
    "#print X\n",
    "#print y\n",
    "predictor = neighbors.KNeighborsClassifier(n_neighbors = k)\n",
    "predictor.fit(X_train, y_train);\n",
    "#print predictor\n",
    "# select all test examples/\n",
    "i = np.arange(X_test.shape[0])\n",
    "i[0:X_test.shape[0]]\n",
    "x = X_test[i,:]\n",
    "# predict its label\n",
    "yhat = predictor.predict(x)\n",
    "accuracy = predictor.score(X_test,y_test)\n",
    "print \"K: \",k,\" Accuracy: \", accuracy,\"%\""
   ]
  },
  {
   "cell_type": "markdown",
   "metadata": {},
   "source": [
    "**Question Nesw 4**. Transform the original 100 attributes into 5 attributes using SVD. Train and test the kNN on the transformed data. Report the accuracies. You might be surprised to see that accuracy could go up. Discuss why this might be so."
   ]
  },
  {
   "cell_type": "code",
   "execution_count": 123,
   "metadata": {},
   "outputs": [
    {
     "name": "stdout",
     "output_type": "stream",
     "text": [
      "(1000, 100) (100,) (100, 100)\n"
     ]
    }
   ],
   "source": [
    "randomIndex = random.sample(range(0, documents.shape[0]), 1000)\n",
    "X=documents[randomIndex,:]\n",
    "y=newsgroup[randomIndex]\n",
    "# SVD\n",
    "U,s,V = np.linalg.svd(X,full_matrices=0)\n",
    "print U.shape, s.shape, V.shape"
   ]
  },
  {
   "cell_type": "code",
   "execution_count": 124,
   "metadata": {},
   "outputs": [
    {
     "name": "stdout",
     "output_type": "stream",
     "text": [
      "(1000, 5)\n"
     ]
    }
   ],
   "source": [
    "# Calculate rank-5 approximation of X\n",
    "k = 5\n",
    "X = np.dot(U[:,0:k],np.dot(np.diag(s)[0:k,0:k], V[0:k,0:k]))\n",
    "print X.shape\n",
    "X_train, X_test, y_train, y_test = train_test_split(X, y, test_size=0.33)"
   ]
  },
  {
   "cell_type": "code",
   "execution_count": 125,
   "metadata": {},
   "outputs": [
    {
     "name": "stdout",
     "output_type": "stream",
     "text": [
      "K:  25  Accuracy:  0.5545454545454546 %\n"
     ]
    }
   ],
   "source": [
    "k = 25  # how many nearest neighbors are consulted\n",
    "predictor = neighbors.KNeighborsClassifier(n_neighbors = k)\n",
    "predictor.fit(X_train, y_train);\n",
    "#print predictor\n",
    "# select all test examples\n",
    "i = np.arange(X_test.shape[0])\n",
    "i[0:X_test.shape[0]]\n",
    "x = X_test[i,:]\n",
    "# predict its label\n",
    "yhat = predictor.predict(x)\n",
    "accuracy = predictor.score(X_test,y_test)\n",
    "print \"K: \",k,\" Accuracy: \", accuracy,\"%\""
   ]
  },
  {
   "cell_type": "markdown",
   "metadata": {},
   "source": [
    "- My result didn't go up as I expected. However, th"
   ]
  }
 ],
 "metadata": {
  "anaconda-cloud": {},
  "kernelspec": {
   "display_name": "Python 3",
   "language": "python",
   "name": "python3"
  },
  "language_info": {
   "codemirror_mode": {
    "name": "ipython",
    "version": 3
   },
   "file_extension": ".py",
   "mimetype": "text/x-python",
   "name": "python",
   "nbconvert_exporter": "python",
   "pygments_lexer": "ipython3",
   "version": "3.6.3"
  }
 },
 "nbformat": 4,
 "nbformat_minor": 1
}
